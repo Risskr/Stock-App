{
  "nbformat": 4,
  "nbformat_minor": 0,
  "metadata": {
    "colab": {
      "provenance": [],
      "collapsed_sections": [
        "qPom_aYMeUSx",
        "Nn9reOwbE96J",
        "AuEQvbbnFGfT",
        "XlkrSQJ8aSKT",
        "WjGziKSbFiNp",
        "IZGBHr-YAJ5U"
      ],
      "machine_shape": "hm",
      "mount_file_id": "https://github.com/Risskr/Stock-App/blob/Simplified/StocksApp.ipynb",
      "authorship_tag": "ABX9TyNVImED+XBP7ThTyEAjvH+J",
      "include_colab_link": true
    },
    "kernelspec": {
      "name": "python3",
      "display_name": "Python 3"
    },
    "language_info": {
      "name": "python"
    },
    "widgets": {
      "application/vnd.jupyter.widget-state+json": {
        "28c5d8f36e5e42a78027f9464eb3aa90": {
          "model_module": "@jupyter-widgets/controls",
          "model_name": "HBoxModel",
          "model_module_version": "1.5.0",
          "state": {
            "_dom_classes": [],
            "_model_module": "@jupyter-widgets/controls",
            "_model_module_version": "1.5.0",
            "_model_name": "HBoxModel",
            "_view_count": null,
            "_view_module": "@jupyter-widgets/controls",
            "_view_module_version": "1.5.0",
            "_view_name": "HBoxView",
            "box_style": "",
            "children": [
              "IPY_MODEL_066a7a62f84e4d09aa6826b888a8cb51",
              "IPY_MODEL_5be73f7df8eb4426b8a8b6e944823439",
              "IPY_MODEL_b6bd004a2dd44190b59e56d867ddb10a"
            ],
            "layout": "IPY_MODEL_adcd41efb0e2432fbbeb06c79a1cf163"
          }
        },
        "066a7a62f84e4d09aa6826b888a8cb51": {
          "model_module": "@jupyter-widgets/controls",
          "model_name": "HTMLModel",
          "model_module_version": "1.5.0",
          "state": {
            "_dom_classes": [],
            "_model_module": "@jupyter-widgets/controls",
            "_model_module_version": "1.5.0",
            "_model_name": "HTMLModel",
            "_view_count": null,
            "_view_module": "@jupyter-widgets/controls",
            "_view_module_version": "1.5.0",
            "_view_name": "HTMLView",
            "description": "",
            "description_tooltip": null,
            "layout": "IPY_MODEL_ebfa5325a62c42da9134a6386744c77b",
            "placeholder": "​",
            "style": "IPY_MODEL_dea7f9bd1b094c5e84159cf0b81d919d",
            "value": "Calculating correlations: 100%"
          }
        },
        "5be73f7df8eb4426b8a8b6e944823439": {
          "model_module": "@jupyter-widgets/controls",
          "model_name": "FloatProgressModel",
          "model_module_version": "1.5.0",
          "state": {
            "_dom_classes": [],
            "_model_module": "@jupyter-widgets/controls",
            "_model_module_version": "1.5.0",
            "_model_name": "FloatProgressModel",
            "_view_count": null,
            "_view_module": "@jupyter-widgets/controls",
            "_view_module_version": "1.5.0",
            "_view_name": "ProgressView",
            "bar_style": "success",
            "description": "",
            "description_tooltip": null,
            "layout": "IPY_MODEL_e8e9e633d7c548a8bf1b06bb7475a750",
            "max": 510,
            "min": 0,
            "orientation": "horizontal",
            "style": "IPY_MODEL_fa0ca48efc8a4d11ad10cd56f5a93f39",
            "value": 510
          }
        },
        "b6bd004a2dd44190b59e56d867ddb10a": {
          "model_module": "@jupyter-widgets/controls",
          "model_name": "HTMLModel",
          "model_module_version": "1.5.0",
          "state": {
            "_dom_classes": [],
            "_model_module": "@jupyter-widgets/controls",
            "_model_module_version": "1.5.0",
            "_model_name": "HTMLModel",
            "_view_count": null,
            "_view_module": "@jupyter-widgets/controls",
            "_view_module_version": "1.5.0",
            "_view_name": "HTMLView",
            "description": "",
            "description_tooltip": null,
            "layout": "IPY_MODEL_2cc296938a9b48b086d34594bb1b9e38",
            "placeholder": "​",
            "style": "IPY_MODEL_33474cad06464f7688ad28a0e7f6c50e",
            "value": " 510/510 [1:22:32&lt;00:00,  9.70s/it]"
          }
        },
        "adcd41efb0e2432fbbeb06c79a1cf163": {
          "model_module": "@jupyter-widgets/base",
          "model_name": "LayoutModel",
          "model_module_version": "1.2.0",
          "state": {
            "_model_module": "@jupyter-widgets/base",
            "_model_module_version": "1.2.0",
            "_model_name": "LayoutModel",
            "_view_count": null,
            "_view_module": "@jupyter-widgets/base",
            "_view_module_version": "1.2.0",
            "_view_name": "LayoutView",
            "align_content": null,
            "align_items": null,
            "align_self": null,
            "border": null,
            "bottom": null,
            "display": null,
            "flex": null,
            "flex_flow": null,
            "grid_area": null,
            "grid_auto_columns": null,
            "grid_auto_flow": null,
            "grid_auto_rows": null,
            "grid_column": null,
            "grid_gap": null,
            "grid_row": null,
            "grid_template_areas": null,
            "grid_template_columns": null,
            "grid_template_rows": null,
            "height": null,
            "justify_content": null,
            "justify_items": null,
            "left": null,
            "margin": null,
            "max_height": null,
            "max_width": null,
            "min_height": null,
            "min_width": null,
            "object_fit": null,
            "object_position": null,
            "order": null,
            "overflow": null,
            "overflow_x": null,
            "overflow_y": null,
            "padding": null,
            "right": null,
            "top": null,
            "visibility": null,
            "width": null
          }
        },
        "ebfa5325a62c42da9134a6386744c77b": {
          "model_module": "@jupyter-widgets/base",
          "model_name": "LayoutModel",
          "model_module_version": "1.2.0",
          "state": {
            "_model_module": "@jupyter-widgets/base",
            "_model_module_version": "1.2.0",
            "_model_name": "LayoutModel",
            "_view_count": null,
            "_view_module": "@jupyter-widgets/base",
            "_view_module_version": "1.2.0",
            "_view_name": "LayoutView",
            "align_content": null,
            "align_items": null,
            "align_self": null,
            "border": null,
            "bottom": null,
            "display": null,
            "flex": null,
            "flex_flow": null,
            "grid_area": null,
            "grid_auto_columns": null,
            "grid_auto_flow": null,
            "grid_auto_rows": null,
            "grid_column": null,
            "grid_gap": null,
            "grid_row": null,
            "grid_template_areas": null,
            "grid_template_columns": null,
            "grid_template_rows": null,
            "height": null,
            "justify_content": null,
            "justify_items": null,
            "left": null,
            "margin": null,
            "max_height": null,
            "max_width": null,
            "min_height": null,
            "min_width": null,
            "object_fit": null,
            "object_position": null,
            "order": null,
            "overflow": null,
            "overflow_x": null,
            "overflow_y": null,
            "padding": null,
            "right": null,
            "top": null,
            "visibility": null,
            "width": null
          }
        },
        "dea7f9bd1b094c5e84159cf0b81d919d": {
          "model_module": "@jupyter-widgets/controls",
          "model_name": "DescriptionStyleModel",
          "model_module_version": "1.5.0",
          "state": {
            "_model_module": "@jupyter-widgets/controls",
            "_model_module_version": "1.5.0",
            "_model_name": "DescriptionStyleModel",
            "_view_count": null,
            "_view_module": "@jupyter-widgets/base",
            "_view_module_version": "1.2.0",
            "_view_name": "StyleView",
            "description_width": ""
          }
        },
        "e8e9e633d7c548a8bf1b06bb7475a750": {
          "model_module": "@jupyter-widgets/base",
          "model_name": "LayoutModel",
          "model_module_version": "1.2.0",
          "state": {
            "_model_module": "@jupyter-widgets/base",
            "_model_module_version": "1.2.0",
            "_model_name": "LayoutModel",
            "_view_count": null,
            "_view_module": "@jupyter-widgets/base",
            "_view_module_version": "1.2.0",
            "_view_name": "LayoutView",
            "align_content": null,
            "align_items": null,
            "align_self": null,
            "border": null,
            "bottom": null,
            "display": null,
            "flex": null,
            "flex_flow": null,
            "grid_area": null,
            "grid_auto_columns": null,
            "grid_auto_flow": null,
            "grid_auto_rows": null,
            "grid_column": null,
            "grid_gap": null,
            "grid_row": null,
            "grid_template_areas": null,
            "grid_template_columns": null,
            "grid_template_rows": null,
            "height": null,
            "justify_content": null,
            "justify_items": null,
            "left": null,
            "margin": null,
            "max_height": null,
            "max_width": null,
            "min_height": null,
            "min_width": null,
            "object_fit": null,
            "object_position": null,
            "order": null,
            "overflow": null,
            "overflow_x": null,
            "overflow_y": null,
            "padding": null,
            "right": null,
            "top": null,
            "visibility": null,
            "width": null
          }
        },
        "fa0ca48efc8a4d11ad10cd56f5a93f39": {
          "model_module": "@jupyter-widgets/controls",
          "model_name": "ProgressStyleModel",
          "model_module_version": "1.5.0",
          "state": {
            "_model_module": "@jupyter-widgets/controls",
            "_model_module_version": "1.5.0",
            "_model_name": "ProgressStyleModel",
            "_view_count": null,
            "_view_module": "@jupyter-widgets/base",
            "_view_module_version": "1.2.0",
            "_view_name": "StyleView",
            "bar_color": null,
            "description_width": ""
          }
        },
        "2cc296938a9b48b086d34594bb1b9e38": {
          "model_module": "@jupyter-widgets/base",
          "model_name": "LayoutModel",
          "model_module_version": "1.2.0",
          "state": {
            "_model_module": "@jupyter-widgets/base",
            "_model_module_version": "1.2.0",
            "_model_name": "LayoutModel",
            "_view_count": null,
            "_view_module": "@jupyter-widgets/base",
            "_view_module_version": "1.2.0",
            "_view_name": "LayoutView",
            "align_content": null,
            "align_items": null,
            "align_self": null,
            "border": null,
            "bottom": null,
            "display": null,
            "flex": null,
            "flex_flow": null,
            "grid_area": null,
            "grid_auto_columns": null,
            "grid_auto_flow": null,
            "grid_auto_rows": null,
            "grid_column": null,
            "grid_gap": null,
            "grid_row": null,
            "grid_template_areas": null,
            "grid_template_columns": null,
            "grid_template_rows": null,
            "height": null,
            "justify_content": null,
            "justify_items": null,
            "left": null,
            "margin": null,
            "max_height": null,
            "max_width": null,
            "min_height": null,
            "min_width": null,
            "object_fit": null,
            "object_position": null,
            "order": null,
            "overflow": null,
            "overflow_x": null,
            "overflow_y": null,
            "padding": null,
            "right": null,
            "top": null,
            "visibility": null,
            "width": null
          }
        },
        "33474cad06464f7688ad28a0e7f6c50e": {
          "model_module": "@jupyter-widgets/controls",
          "model_name": "DescriptionStyleModel",
          "model_module_version": "1.5.0",
          "state": {
            "_model_module": "@jupyter-widgets/controls",
            "_model_module_version": "1.5.0",
            "_model_name": "DescriptionStyleModel",
            "_view_count": null,
            "_view_module": "@jupyter-widgets/base",
            "_view_module_version": "1.2.0",
            "_view_name": "StyleView",
            "description_width": ""
          }
        }
      }
    }
  },
  "cells": [
    {
      "cell_type": "markdown",
      "metadata": {
        "id": "view-in-github",
        "colab_type": "text"
      },
      "source": [
        "<a href=\"https://colab.research.google.com/github/Risskr/Stock-App/blob/Simplified/StocksApp.ipynb\" target=\"_parent\"><img src=\"https://colab.research.google.com/assets/colab-badge.svg\" alt=\"Open In Colab\"/></a>"
      ]
    },
    {
      "cell_type": "markdown",
      "source": [
        "# **Set Up**\n"
      ],
      "metadata": {
        "id": "qPom_aYMeUSx"
      }
    },
    {
      "cell_type": "code",
      "execution_count": 1,
      "metadata": {
        "id": "NqHgaNKkh5iP",
        "collapsed": true
      },
      "outputs": [],
      "source": [
        "# #refesh python script\n",
        "# get_ipython().kernel.do_shutdown(restart=True)\n",
        "\n",
        "# #Check GPUs\n",
        "# !nvidia-smi\n",
        "\n",
        "#load cudf to use GPUs for analysis\n",
        "#%load_ext cudf.pandas\n",
        "\n",
        "# import pandas\n",
        "import pandas as pd\n",
        "import datetime\n",
        "import pickle\n",
        "\n",
        "#!pip install tqdm==4.66.1"
      ]
    },
    {
      "cell_type": "markdown",
      "source": [
        "# **Examples**"
      ],
      "metadata": {
        "id": "pB5S7lY7ODCY"
      }
    },
    {
      "cell_type": "markdown",
      "source": [
        "## Example how to locate in dataframes and in sereies"
      ],
      "metadata": {
        "id": "XlkrSQJ8aSKT"
      }
    },
    {
      "source": [
        "# GOOGDailyClose_Series = GOOGDailyClose['close']\n",
        "\n",
        "# x = GOOGDailyClose.loc[('GOOG', 2020, 1, 2), 'close']\n",
        "# print(x)\n",
        "\n",
        "# y = GOOGDailyClose_Series.loc[('GOOG', 2020, 1, 2)]\n",
        "# print(y)"
      ],
      "cell_type": "code",
      "metadata": {
        "id": "EAJJI4s9PtYV"
      },
      "execution_count": null,
      "outputs": []
    },
    {
      "cell_type": "markdown",
      "source": [
        "## Example graph"
      ],
      "metadata": {
        "id": "WjGziKSbFiNp"
      }
    },
    {
      "source": [
        "# # from matplotlib import pyplot as plt\n",
        "# # GOOGDailyClose['close'].plot(kind='line', figsize=(8, 4), title='close')\n",
        "# # plt.gca().spines[['top', 'right']].set_visible(False)\n",
        "\n",
        "# from matplotlib import pyplot as plt\n",
        "\n",
        "# # Create the plot for GOOGDailyClose\n",
        "# ax = GOOGDailyClose['close'].plot(kind='line', figsize=(8, 4), title='Closing Stock Prices')\n",
        "\n",
        "# # Add the plot for MSFTDailyClose to the same axes\n",
        "# MSFTDailyClose['close'].plot(kind='line', ax=ax)\n",
        "\n",
        "# # Hide the top and right spines\n",
        "# plt.gca().spines[['top', 'right']].set_visible(False)\n",
        "\n",
        "# # Add a legend to distinguish the lines\n",
        "# plt.legend(['GOOG', 'MSFT'])"
      ],
      "cell_type": "code",
      "execution_count": null,
      "outputs": [],
      "metadata": {
        "id": "OPyPXSyWqeD7"
      }
    },
    {
      "cell_type": "markdown",
      "source": [
        "## Example Call Function from another file\n",
        "Eample Call Correlation_Coefficient function from another My Drive file"
      ],
      "metadata": {
        "id": "IZGBHr-YAJ5U"
      }
    },
    {
      "cell_type": "code",
      "source": [
        "# %run \"/content/drive/My Drive/Colab Notebooks/Correlation_Coefficient.ipynb\"\n",
        "\n",
        "# Correlation_Coefficient(GOOGDailyClose, MSFTDaily Close)\n"
      ],
      "metadata": {
        "id": "7rhY5LPO7oHq"
      },
      "execution_count": null,
      "outputs": []
    },
    {
      "cell_type": "markdown",
      "source": [
        "# **Get Stock Data**"
      ],
      "metadata": {
        "id": "xe0ltjSPehDV"
      }
    },
    {
      "cell_type": "markdown",
      "source": [
        "## Function: Download Stock Data to My Drive"
      ],
      "metadata": {
        "id": "Nn9reOwbE96J"
      }
    },
    {
      "cell_type": "code",
      "source": [
        "def DownloadStockData():\n",
        "  #Download the stock data\n",
        "  !if [ ! -f \"usa_stocks_30m.parquet\" ]; then curl https://storage.googleapis.com/rapidsai/colab-data/usa_stocks_30m.parquet -o usa_stocks_30m.parquet; else echo \"usa_stocks_30m.parquet found\"; fi\n",
        "\n",
        "  #move the stock data to my Drive\n",
        "  !mv usa_stocks_30m.parquet \"/content/drive/MyDrive/Colab Notebooks\""
      ],
      "metadata": {
        "id": "2ipu4MZZV3_y"
      },
      "execution_count": null,
      "outputs": []
    },
    {
      "cell_type": "markdown",
      "source": [
        "## Function: Import Stock Data from My Drive"
      ],
      "metadata": {
        "id": "AuEQvbbnFGfT"
      }
    },
    {
      "cell_type": "code",
      "source": [
        "def ImportStockData():\n",
        "  # Import the stock data from My Drive\n",
        "  # Define nasdaq_stocks as the stock data\n",
        "  # Specify the full path to the file in your Google Drive\n",
        "  nasdaq_stocks = pd.read_parquet(\"/content/drive/MyDrive/Colab Notebooks/usa_stocks_30m.parquet\")\n",
        "  return nasdaq_stocks\n"
      ],
      "metadata": {
        "id": "U-s77lCvT7rQ"
      },
      "execution_count": 4,
      "outputs": []
    },
    {
      "cell_type": "markdown",
      "source": [
        "## Functions: Export and import variables to My Drive"
      ],
      "metadata": {
        "id": "EYLv8nAunJdW"
      }
    },
    {
      "source": [
        "def export_variable(variable_name, file_name):\n",
        "\n",
        "  now = datetime.datetime.now()\n",
        "\n",
        "  save_path = f\"/content/drive/MyDrive/Colab Notebooks/{file_name}_{now}.parquet\"\n",
        "\n",
        "  try:\n",
        "      variable_name.to_parquet(save_path)\n",
        "      print(f\"Successfully saved the variable to {save_path}\")\n",
        "  except Exception as e:\n",
        "      print(f\"An error occurred while saving the file: {e}\")\n",
        "  return\n",
        "\n",
        "# # use this line to run the function\n",
        "# export_variable(lagged_correlations, \"lagged_correlation\")"
      ],
      "cell_type": "code",
      "metadata": {
        "id": "JfVjRhSjmq94"
      },
      "execution_count": 2,
      "outputs": []
    },
    {
      "source": [
        "def import_variable(file_name):\n",
        "  load_path = f\"/content/drive/MyDrive/Colab Notebooks/{file_name}\"\n",
        "\n",
        "  try:\n",
        "      variable = pd.read_parquet(load_path)\n",
        "\n",
        "      print(f\"Successfully loaded data from {load_path}\")\n",
        "\n",
        "  except FileNotFoundError:\n",
        "      print(f\"Error: The file was not found at {load_path}\")\n",
        "  except Exception as e:\n",
        "      print(f\"An error occurred while loading the file: {e}\")\n",
        "  return variable\n",
        "\n",
        "# #run this funciton with this line\n",
        "# x = import_variable(\"testing2_2025-05-22 19:07:29.595379.parquet\")"
      ],
      "cell_type": "code",
      "metadata": {
        "id": "ziAUfSzymzUc"
      },
      "execution_count": 3,
      "outputs": []
    },
    {
      "cell_type": "markdown",
      "source": [
        "## Function: Manipulate raw stock data for correlation funciton"
      ],
      "metadata": {
        "id": "VTUSJsRLFNcZ"
      }
    },
    {
      "cell_type": "code",
      "source": [
        "def ManipulateStockData(nasdaq_stocks):\n",
        "  #add year, month, and day columns\n",
        "  #df[[\"year\", \"week\", \"day\"]] = df.datetime.dt.isocalendar()\n",
        "  nasdaq_stocks[\"year\"] = nasdaq_stocks.datetime.dt.year\n",
        "  nasdaq_stocks[\"month\"] = nasdaq_stocks.datetime.dt.month\n",
        "  nasdaq_stocks[\"day\"] = nasdaq_stocks.datetime.dt.day\n",
        "\n",
        "  # Filter the DataFrame based on the 'year' column\n",
        "  stock_TimeFiltered = nasdaq_stocks.loc[nasdaq_stocks['year'] >= 2023]\n",
        "\n",
        "  #stock_TimeFiltered.info()\n",
        "  #stock_TimeFiltered.head()\n",
        "\n",
        "  #aggregate data by ticker, month, day, closing cost.\n",
        "  stock_TimeFiltered_aggregated_close = stock_TimeFiltered.groupby([\"ticker\", \"year\", \"month\", \"day\"]).agg({\"close\": \"last\"})\n",
        "\n",
        "  #stock_TimeFiltered_aggregated_close.info()\n",
        "  #stock_TimeFiltered_aggregated_close.head()\n",
        "  return stock_TimeFiltered_aggregated_close"
      ],
      "metadata": {
        "id": "Gl82QadwUTHF"
      },
      "execution_count": 20,
      "outputs": []
    },
    {
      "cell_type": "markdown",
      "source": [
        "# **Correlation Coefficent funtions**"
      ],
      "metadata": {
        "id": "Yx4PfQYuNsi8"
      }
    },
    {
      "cell_type": "markdown",
      "source": [
        "## Correlation Coeficient on entire stock data set"
      ],
      "metadata": {
        "id": "FVS3pKjwNkQ8"
      }
    },
    {
      "cell_type": "markdown",
      "source": [
        "## Function: Correlation_Coefficient with Lag"
      ],
      "metadata": {
        "id": "_pVCvXWUGena"
      }
    },
    {
      "source": [
        "# Correlation_Coefficient Function with Lag\n",
        "# Using the Pearson correlation coefficient to determine correlation between two stocks with a lag\n",
        "\n",
        "def Correlation_Coefficient_Lag(StockA, StockB, k=0):\n",
        "  # Calculate the correlation between the 'close' columns with a lag\n",
        "  StockA_series = StockA['close'].droplevel('ticker')\n",
        "  StockB_series = StockB['close'].droplevel('ticker')\n",
        "\n",
        "  # Apply the lag to StockB\n",
        "  # Shift the StockB series down by k periods.\n",
        "  # Positive k shifts data points forward, filling early entries with NaN.\n",
        "  # Negative k shifts data points backward, filling late entries with NaN.\n",
        "  StockB_lagged = StockB_series.shift(k)\n",
        "\n",
        "  # Calculate the correlation between the original StockA and the lagged StockB\n",
        "  # The .corr() method automatically handles NaN values by excluding them\n",
        "  correlation = StockA_series.corr(StockB_lagged)\n",
        "\n",
        "  return correlation\n",
        "\n",
        "# Example usage with a lag of k=1 day\n",
        "correlation_value_lag1 = Correlation_Coefficient_Lag(GOOGDailyClose, MSFTDailyClose, k=1)\n",
        "print(f\"The Pearson correlation coefficient between GOOG and MSFT with a 1-day lag on MSFT is: {correlation_value_lag1}\")\n",
        "\n",
        "# Example usage with a lag of k=-1 day\n",
        "correlation_value_lag_neg1 = Correlation_Coefficient_Lag(GOOGDailyClose, MSFTDailyClose, k=-1)\n",
        "print(f\"The Pearson correlation coefficient between GOOG and MSFT with a -1-day lag on MSFT is: {correlation_value_lag_neg1}\")\n",
        "\n",
        "# Example usage with no lag (k=0)\n",
        "correlation_value_lag0 = Correlation_Coefficient_Lag(GOOGDailyClose, MSFTDailyClose, k=0)\n",
        "print(f\"The Pearson correlation coefficient between GOOG and MSFT with no lag is: {correlation_value_lag0}\")"
      ],
      "cell_type": "code",
      "metadata": {
        "id": "RaVWV0y2PKdy",
        "outputId": "76f46bdf-cec6-4507-9a6d-0056d4543b97",
        "colab": {
          "base_uri": "https://localhost:8080/"
        }
      },
      "execution_count": null,
      "outputs": [
        {
          "output_type": "stream",
          "name": "stdout",
          "text": [
            "The Pearson correlation coefficient between GOOG and MSFT with a 1-day lag on MSFT is: 0.8962704402662925\n",
            "The Pearson correlation coefficient between GOOG and MSFT with a -1-day lag on MSFT is: 0.8945621869369759\n",
            "The Pearson correlation coefficient between GOOG and MSFT with no lag is: 0.8976408107388537\n"
          ]
        }
      ]
    },
    {
      "cell_type": "markdown",
      "source": [
        "## Function: Sample GOOG and MSFT Correlation"
      ],
      "metadata": {
        "id": "uK3tEpu0nyDv"
      }
    },
    {
      "cell_type": "code",
      "source": [
        "Def GOOG&MSFT():\n",
        "  # Access the 'ticker' level from the index for filtering\n",
        "  GOOGDailyClose = stock_TimeFiltered_aggregated_close.loc[stock_TimeFiltered_aggregated_close.index.get_level_values('ticker') == \"GOOG\"]\n",
        "  MSFTDailyClose = stock_TimeFiltered_aggregated_close.loc[stock_TimeFiltered_aggregated_close.index.get_level_values('ticker') == \"MSFT\"]\n",
        "\n",
        "  GOOGDailyClose.info()\n",
        "  GOOGDailyClose.head()\n",
        "\n",
        "# Correlation_Coefficient Function\n",
        "# Using the Pearson correlation coefficient to determine correlation between two stocks\n",
        "\n",
        "def Correlation_Coefficient_testing(StockA, StockB):\n",
        "  # Calculate the correlation between the 'close' columns\n",
        "  StockA = StockA['close'].droplevel('ticker')\n",
        "  StockB = StockB['close'].droplevel('ticker')\n",
        "  correlation = StockA.corr(StockB)\n",
        "  return correlation\n",
        "\n",
        "  correlation_value = Correlation_Coefficient_testing(GOOGDailyClose, MSFTDailyClose)\n",
        "  print(f\"The Pearson correlation coefficient between GOOG and MSFT is: {correlation_value}\")"
      ],
      "metadata": {
        "id": "nHJt6DToYIU5",
        "colab": {
          "base_uri": "https://localhost:8080/"
        },
        "outputId": "23762ea1-30fc-4f2a-d801-549fa5573924",
        "collapsed": true
      },
      "execution_count": null,
      "outputs": [
        {
          "output_type": "stream",
          "name": "stdout",
          "text": [
            "<class 'cudf.core.dataframe.DataFrame'>\n",
            "MultiIndex: 1104 entries, ('GOOG', np.int16(2020), np.int16(1), np.int16(2)) to ('GOOG', np.int16(2024), np.int16(3), np.int16(13))\n",
            "Data columns (total 1 columns):\n",
            " #   Column  Non-Null Count  Dtype\n",
            "---  ------  --------------  -----\n",
            " 0   close   1104 non-null   float64\n",
            "dtypes: float64(1)\n",
            "memory usage: 62.0+ KB\n"
          ]
        }
      ]
    },
    {
      "cell_type": "markdown",
      "source": [
        "# **Run Fucntions**"
      ],
      "metadata": {
        "id": "aCEfO-bsKNCg"
      }
    },
    {
      "cell_type": "code",
      "source": [
        "nasdaq_stocks = ImportStockData()"
      ],
      "metadata": {
        "id": "BxwPwW4fKQa3"
      },
      "execution_count": 6,
      "outputs": []
    },
    {
      "cell_type": "code",
      "source": [
        "stock_TimeFiltered_aggregated_close = ManipulateStockData(nasdaq_stocks)"
      ],
      "metadata": {
        "id": "yiDPP4LjL8dV"
      },
      "execution_count": 7,
      "outputs": []
    },
    {
      "cell_type": "markdown",
      "source": [
        "## Correlation code"
      ],
      "metadata": {
        "id": "-Aj3d3SJJe3p"
      }
    },
    {
      "source": [
        "import pandas as pd\n",
        "import numpy as np\n",
        "from tqdm.notebook import tqdm # Import tqdm\n",
        "\n",
        "def calculate_pairwise_lagged_correlation(df, end_date, lag_days=1):\n",
        "  \"\"\"\n",
        "  Calculates the pairwise Pearson correlation coefficient between all stocks\n",
        "  in a DataFrame for a specified 6-month period with a given lag.\n",
        "\n",
        "  Args:\n",
        "    df: DataFrame with a MultiIndex (ticker, year, month, day) and 'close' column.\n",
        "    end_date: The end date (inclusive) of the 6-month period as a string 'YYYY-MM-DD'.\n",
        "    lag_days: The number of days to lag the second stock's data.\n",
        "\n",
        "  Returns:\n",
        "    A pandas DataFrame containing the pairwise correlation coefficients.\n",
        "  \"\"\"\n",
        "  # Convert end_date to datetime object\n",
        "  end_datetime = pd.to_datetime(end_date)\n",
        "\n",
        "  # Calculate the start date for the 6-month period\n",
        "  start_datetime = end_datetime - pd.DateOffset(months=6)\n",
        "\n",
        "  # Filter the DataFrame for the specified date range\n",
        "  # We need to create a datetime column from the index to filter\n",
        "  df['datetime'] = pd.to_datetime(df.index.get_level_values('year').astype(str) + '-' +\n",
        "                                   df.index.get_level_values('month').astype(str) + '-' +\n",
        "                                   df.index.get_level_values('day').astype(str))\n",
        "  filtered_df = df[(df['datetime'] >= start_datetime) & (df['datetime'] <= end_datetime)]\n",
        "  filtered_df = filtered_df.drop(columns=['datetime']) # Drop the temporary datetime column\n",
        "\n",
        "\n",
        "  # Get unique tickers in the filtered data\n",
        "  tickers = filtered_df.index.get_level_values('ticker').unique()\n",
        "\n",
        "  # Create an empty DataFrame to store correlation results\n",
        "  correlation_matrix = pd.DataFrame(index=tickers, columns=tickers, dtype=float)\n",
        "\n",
        "  # Iterate through all pairs of tickers with a progress bar\n",
        "  for ticker_a in tqdm(tickers, desc=\"Calculating correlations\"): # Add tqdm here\n",
        "\n",
        "    # Extract data for each ticker\n",
        "    stock_a_data = filtered_df.loc[ticker_a, 'close']\n",
        "\n",
        "    for ticker_b in tickers:\n",
        "      if ticker_a != ticker_b:\n",
        "        # Extract data for each ticker\n",
        "        stock_b_data = filtered_df.loc[ticker_b, 'close']\n",
        "\n",
        "        # Align the dataframes based on the date index\n",
        "        aligned_data = pd.merge(stock_a_data.reset_index(), stock_b_data.reset_index(),\n",
        "                                on=['year', 'month', 'day'], how='inner', suffixes=('_A', '_B'))\n",
        "        aligned_data['datetime'] = pd.to_datetime(aligned_data['year'].astype(str) + '-' +\n",
        "                                                  aligned_data['month'].astype(str) + '-' +\n",
        "                                                  aligned_data['day'].astype(str))\n",
        "        aligned_data = aligned_data.set_index('datetime').sort_index()\n",
        "\n",
        "        # Apply the lag to stock_b_data\n",
        "        lagged_stock_b_data = aligned_data['close_B'].shift(lag_days)\n",
        "\n",
        "        # Calculate correlation, dropping NaN values\n",
        "        correlation = aligned_data['close_A'].corr(lagged_stock_b_data)\n",
        "\n",
        "        # Store the correlation in the matrix\n",
        "        correlation_matrix.loc[ticker_a, ticker_b] = correlation\n",
        "\n",
        "  return correlation_matrix\n",
        "\n",
        "# Example usage:\n",
        "# Assuming 'stock_TimeFiltered_aggregated_close' is your aggregated stock data\n",
        "# and you want to calculate correlations ending on '2023-12-31' with a 1-day lag.\n",
        "# Replace 'stock_TimeFiltered_aggregated_close' with the actual name of your DataFrame.\n",
        "end_date = '2023-12-31'\n",
        "lagged_correlations = calculate_pairwise_lagged_correlation(stock_TimeFiltered_aggregated_close, end_date, lag_days=1)\n",
        "\n",
        "# Display the correlation matrix\n",
        "print(lagged_correlations)\n",
        "\n",
        "# To access the correlation between specific stocks, e.g., GOOG and MSFT:\n",
        "# print(lagged_correlations.loc['GOOG', 'MSFT'])"
      ],
      "cell_type": "code",
      "metadata": {
        "colab": {
          "base_uri": "https://localhost:8080/",
          "height": 899,
          "referenced_widgets": [
            "28c5d8f36e5e42a78027f9464eb3aa90",
            "066a7a62f84e4d09aa6826b888a8cb51",
            "5be73f7df8eb4426b8a8b6e944823439",
            "b6bd004a2dd44190b59e56d867ddb10a",
            "adcd41efb0e2432fbbeb06c79a1cf163",
            "ebfa5325a62c42da9134a6386744c77b",
            "dea7f9bd1b094c5e84159cf0b81d919d",
            "e8e9e633d7c548a8bf1b06bb7475a750",
            "fa0ca48efc8a4d11ad10cd56f5a93f39",
            "2cc296938a9b48b086d34594bb1b9e38",
            "33474cad06464f7688ad28a0e7f6c50e"
          ]
        },
        "collapsed": true,
        "id": "FtqUV9nKkT6q",
        "outputId": "e99ab763-d726-4ed1-978b-c86bb2768613"
      },
      "execution_count": 9,
      "outputs": [
        {
          "output_type": "display_data",
          "data": {
            "text/plain": [
              "Calculating correlations:   0%|          | 0/510 [00:00<?, ?it/s]"
            ],
            "application/vnd.jupyter.widget-view+json": {
              "version_major": 2,
              "version_minor": 0,
              "model_id": "28c5d8f36e5e42a78027f9464eb3aa90"
            }
          },
          "metadata": {}
        },
        {
          "output_type": "stream",
          "name": "stdout",
          "text": [
            "ticker         A       AAL      AAPL      ABBV      ABNB       ABT      ACGL  \\\n",
            "ticker                                                                         \n",
            "A            NaN  0.436758  0.757819  0.288543  0.607573  0.809978 -0.538292   \n",
            "AAL     0.452222       NaN  0.478573 -0.163185  0.585997  0.786411 -0.640565   \n",
            "AAPL    0.710954  0.442058       NaN -0.216552  0.473942  0.682018 -0.230604   \n",
            "ABBV    0.372804 -0.105593 -0.131037       NaN  0.415187  0.146274 -0.395282   \n",
            "ABNB    0.613458  0.621719  0.559474  0.281844       NaN  0.750441 -0.493802   \n",
            "...          ...       ...       ...       ...       ...       ...       ...   \n",
            "ZBH     0.449951  0.945884  0.531357 -0.209183  0.660999  0.817524 -0.528803   \n",
            "ZBRA    0.572816  0.920507  0.518142 -0.055643  0.642396  0.837299 -0.700754   \n",
            "ZION    0.780400  0.044044  0.514209  0.594755  0.558233  0.479574 -0.327802   \n",
            "ZS      0.541326 -0.330534  0.561646  0.178275  0.128086  0.128305  0.036123   \n",
            "ZTS     0.824646  0.318486  0.510273  0.584212  0.660583  0.661668 -0.583140   \n",
            "\n",
            "ticker       ACN      ADBE       ADI  ...       XEL       XOM      XRAY  \\\n",
            "ticker                                ...                                 \n",
            "A       0.796953  0.404781  0.842058  ...  0.525649 -0.557427  0.368325   \n",
            "AAL     0.064239 -0.441841  0.713112  ...  0.562134 -0.206805  0.887095   \n",
            "AAPL    0.722727  0.491655  0.789603  ...  0.727525 -0.763722  0.204642   \n",
            "ABBV    0.282598  0.037046  0.148404  ... -0.256691  0.266532  0.133924   \n",
            "ABNB    0.467323  0.008323  0.768117  ...  0.424643 -0.092379  0.644370   \n",
            "...          ...       ...       ...  ...       ...       ...       ...   \n",
            "ZBH     0.119896 -0.367323  0.737802  ...  0.649194 -0.185530  0.854761   \n",
            "ZBRA    0.231099 -0.326421  0.756352  ...  0.509344 -0.200172  0.861977   \n",
            "ZION    0.786153  0.541263  0.578926  ...  0.253879 -0.369356  0.056470   \n",
            "ZS      0.817863  0.865142  0.330314  ...  0.254589 -0.587716 -0.465532   \n",
            "ZTS     0.711687  0.320367  0.679928  ...  0.146989 -0.193130  0.370224   \n",
            "\n",
            "ticker       XYL       YUM       ZBH      ZBRA      ZION        ZS       ZTS  \n",
            "ticker                                                                        \n",
            "A       0.821145  0.552922  0.430932  0.531129  0.765019  0.574620  0.781411  \n",
            "AAL     0.736120  0.867612  0.947020  0.914810 -0.000202 -0.315867  0.291796  \n",
            "AAPL    0.864476  0.534349  0.489626  0.497019  0.448326  0.562604  0.445853  \n",
            "ABBV   -0.056698 -0.096285 -0.128934  0.000503  0.670791  0.217431  0.647417  \n",
            "ABNB    0.631221  0.612729  0.693432  0.698900  0.504298  0.144670  0.644826  \n",
            "...          ...       ...       ...       ...       ...       ...       ...  \n",
            "ZBH     0.758571  0.873124       NaN  0.916242  0.020495 -0.241171  0.271675  \n",
            "ZBRA    0.758674  0.829350  0.899608       NaN  0.158654 -0.162252  0.455071  \n",
            "ZION    0.492946  0.199440  0.049884  0.183086       NaN  0.692515  0.787188  \n",
            "ZS      0.313360 -0.185782 -0.268070 -0.178795  0.664936       NaN  0.391214  \n",
            "ZTS     0.560675  0.433609  0.290705  0.459847  0.814839  0.405219       NaN  \n",
            "\n",
            "[510 rows x 510 columns]\n"
          ]
        }
      ]
    },
    {
      "cell_type": "markdown",
      "source": [
        "# Import 6month_correlation_data from MyDrive"
      ],
      "metadata": {
        "id": "HmZgw0jKcP-C"
      }
    },
    {
      "cell_type": "code",
      "source": [
        "sixMonth_correlation_data = import_variable(\"6month_correlation_data.parquet\")"
      ],
      "metadata": {
        "id": "XemGnA0Nbwg6",
        "outputId": "f8f05a45-3373-4f3a-9828-9c011aebbef6",
        "colab": {
          "base_uri": "https://localhost:8080/"
        }
      },
      "execution_count": 4,
      "outputs": [
        {
          "output_type": "stream",
          "name": "stdout",
          "text": [
            "Successfully loaded data from /content/drive/MyDrive/Colab Notebooks/6month_correlation_data.parquet\n"
          ]
        }
      ]
    },
    {
      "cell_type": "code",
      "source": [
        "sixMonth_correlation_data.head()"
      ],
      "metadata": {
        "id": "JzWh5Wk1chFI",
        "outputId": "6dafb110-922a-44a7-c981-08cb47cd0a6d",
        "colab": {
          "base_uri": "https://localhost:8080/",
          "height": 284
        }
      },
      "execution_count": 5,
      "outputs": [
        {
          "output_type": "execute_result",
          "data": {
            "text/plain": [
              "ticker         A       AAL      AAPL      ABBV      ABNB       ABT      ACGL  \\\n",
              "ticker                                                                         \n",
              "A            NaN  0.436758  0.757819  0.288543  0.607573  0.809978 -0.538292   \n",
              "AAL     0.452222       NaN  0.478573 -0.163185  0.585997  0.786411 -0.640565   \n",
              "AAPL    0.710954  0.442058       NaN -0.216552  0.473942  0.682018 -0.230604   \n",
              "ABBV    0.372804 -0.105593 -0.131037       NaN  0.415187  0.146274 -0.395282   \n",
              "ABNB    0.613458  0.621719  0.559474  0.281844       NaN  0.750441 -0.493802   \n",
              "\n",
              "ticker       ACN      ADBE       ADI  ...       XEL       XOM      XRAY  \\\n",
              "ticker                                ...                                 \n",
              "A       0.796953  0.404781  0.842058  ...  0.525649 -0.557427  0.368325   \n",
              "AAL     0.064239 -0.441841  0.713112  ...  0.562134 -0.206805  0.887095   \n",
              "AAPL    0.722727  0.491655  0.789603  ...  0.727525 -0.763722  0.204642   \n",
              "ABBV    0.282598  0.037046  0.148404  ... -0.256691  0.266532  0.133924   \n",
              "ABNB    0.467323  0.008323  0.768117  ...  0.424643 -0.092379  0.644370   \n",
              "\n",
              "ticker       XYL       YUM       ZBH      ZBRA      ZION        ZS       ZTS  \n",
              "ticker                                                                        \n",
              "A       0.821145  0.552922  0.430932  0.531129  0.765019  0.574620  0.781411  \n",
              "AAL     0.736120  0.867612  0.947020  0.914810 -0.000202 -0.315867  0.291796  \n",
              "AAPL    0.864476  0.534349  0.489626  0.497019  0.448326  0.562604  0.445853  \n",
              "ABBV   -0.056698 -0.096285 -0.128934  0.000503  0.670791  0.217431  0.647417  \n",
              "ABNB    0.631221  0.612729  0.693432  0.698900  0.504298  0.144670  0.644826  \n",
              "\n",
              "[5 rows x 510 columns]"
            ],
            "text/html": [
              "\n",
              "  <div id=\"df-03a77392-691d-4b9c-b655-a1f7a1b571df\" class=\"colab-df-container\">\n",
              "    <div>\n",
              "<style scoped>\n",
              "    .dataframe tbody tr th:only-of-type {\n",
              "        vertical-align: middle;\n",
              "    }\n",
              "\n",
              "    .dataframe tbody tr th {\n",
              "        vertical-align: top;\n",
              "    }\n",
              "\n",
              "    .dataframe thead th {\n",
              "        text-align: right;\n",
              "    }\n",
              "</style>\n",
              "<table border=\"1\" class=\"dataframe\">\n",
              "  <thead>\n",
              "    <tr style=\"text-align: right;\">\n",
              "      <th>ticker</th>\n",
              "      <th>A</th>\n",
              "      <th>AAL</th>\n",
              "      <th>AAPL</th>\n",
              "      <th>ABBV</th>\n",
              "      <th>ABNB</th>\n",
              "      <th>ABT</th>\n",
              "      <th>ACGL</th>\n",
              "      <th>ACN</th>\n",
              "      <th>ADBE</th>\n",
              "      <th>ADI</th>\n",
              "      <th>...</th>\n",
              "      <th>XEL</th>\n",
              "      <th>XOM</th>\n",
              "      <th>XRAY</th>\n",
              "      <th>XYL</th>\n",
              "      <th>YUM</th>\n",
              "      <th>ZBH</th>\n",
              "      <th>ZBRA</th>\n",
              "      <th>ZION</th>\n",
              "      <th>ZS</th>\n",
              "      <th>ZTS</th>\n",
              "    </tr>\n",
              "    <tr>\n",
              "      <th>ticker</th>\n",
              "      <th></th>\n",
              "      <th></th>\n",
              "      <th></th>\n",
              "      <th></th>\n",
              "      <th></th>\n",
              "      <th></th>\n",
              "      <th></th>\n",
              "      <th></th>\n",
              "      <th></th>\n",
              "      <th></th>\n",
              "      <th></th>\n",
              "      <th></th>\n",
              "      <th></th>\n",
              "      <th></th>\n",
              "      <th></th>\n",
              "      <th></th>\n",
              "      <th></th>\n",
              "      <th></th>\n",
              "      <th></th>\n",
              "      <th></th>\n",
              "      <th></th>\n",
              "    </tr>\n",
              "  </thead>\n",
              "  <tbody>\n",
              "    <tr>\n",
              "      <th>A</th>\n",
              "      <td>NaN</td>\n",
              "      <td>0.436758</td>\n",
              "      <td>0.757819</td>\n",
              "      <td>0.288543</td>\n",
              "      <td>0.607573</td>\n",
              "      <td>0.809978</td>\n",
              "      <td>-0.538292</td>\n",
              "      <td>0.796953</td>\n",
              "      <td>0.404781</td>\n",
              "      <td>0.842058</td>\n",
              "      <td>...</td>\n",
              "      <td>0.525649</td>\n",
              "      <td>-0.557427</td>\n",
              "      <td>0.368325</td>\n",
              "      <td>0.821145</td>\n",
              "      <td>0.552922</td>\n",
              "      <td>0.430932</td>\n",
              "      <td>0.531129</td>\n",
              "      <td>0.765019</td>\n",
              "      <td>0.574620</td>\n",
              "      <td>0.781411</td>\n",
              "    </tr>\n",
              "    <tr>\n",
              "      <th>AAL</th>\n",
              "      <td>0.452222</td>\n",
              "      <td>NaN</td>\n",
              "      <td>0.478573</td>\n",
              "      <td>-0.163185</td>\n",
              "      <td>0.585997</td>\n",
              "      <td>0.786411</td>\n",
              "      <td>-0.640565</td>\n",
              "      <td>0.064239</td>\n",
              "      <td>-0.441841</td>\n",
              "      <td>0.713112</td>\n",
              "      <td>...</td>\n",
              "      <td>0.562134</td>\n",
              "      <td>-0.206805</td>\n",
              "      <td>0.887095</td>\n",
              "      <td>0.736120</td>\n",
              "      <td>0.867612</td>\n",
              "      <td>0.947020</td>\n",
              "      <td>0.914810</td>\n",
              "      <td>-0.000202</td>\n",
              "      <td>-0.315867</td>\n",
              "      <td>0.291796</td>\n",
              "    </tr>\n",
              "    <tr>\n",
              "      <th>AAPL</th>\n",
              "      <td>0.710954</td>\n",
              "      <td>0.442058</td>\n",
              "      <td>NaN</td>\n",
              "      <td>-0.216552</td>\n",
              "      <td>0.473942</td>\n",
              "      <td>0.682018</td>\n",
              "      <td>-0.230604</td>\n",
              "      <td>0.722727</td>\n",
              "      <td>0.491655</td>\n",
              "      <td>0.789603</td>\n",
              "      <td>...</td>\n",
              "      <td>0.727525</td>\n",
              "      <td>-0.763722</td>\n",
              "      <td>0.204642</td>\n",
              "      <td>0.864476</td>\n",
              "      <td>0.534349</td>\n",
              "      <td>0.489626</td>\n",
              "      <td>0.497019</td>\n",
              "      <td>0.448326</td>\n",
              "      <td>0.562604</td>\n",
              "      <td>0.445853</td>\n",
              "    </tr>\n",
              "    <tr>\n",
              "      <th>ABBV</th>\n",
              "      <td>0.372804</td>\n",
              "      <td>-0.105593</td>\n",
              "      <td>-0.131037</td>\n",
              "      <td>NaN</td>\n",
              "      <td>0.415187</td>\n",
              "      <td>0.146274</td>\n",
              "      <td>-0.395282</td>\n",
              "      <td>0.282598</td>\n",
              "      <td>0.037046</td>\n",
              "      <td>0.148404</td>\n",
              "      <td>...</td>\n",
              "      <td>-0.256691</td>\n",
              "      <td>0.266532</td>\n",
              "      <td>0.133924</td>\n",
              "      <td>-0.056698</td>\n",
              "      <td>-0.096285</td>\n",
              "      <td>-0.128934</td>\n",
              "      <td>0.000503</td>\n",
              "      <td>0.670791</td>\n",
              "      <td>0.217431</td>\n",
              "      <td>0.647417</td>\n",
              "    </tr>\n",
              "    <tr>\n",
              "      <th>ABNB</th>\n",
              "      <td>0.613458</td>\n",
              "      <td>0.621719</td>\n",
              "      <td>0.559474</td>\n",
              "      <td>0.281844</td>\n",
              "      <td>NaN</td>\n",
              "      <td>0.750441</td>\n",
              "      <td>-0.493802</td>\n",
              "      <td>0.467323</td>\n",
              "      <td>0.008323</td>\n",
              "      <td>0.768117</td>\n",
              "      <td>...</td>\n",
              "      <td>0.424643</td>\n",
              "      <td>-0.092379</td>\n",
              "      <td>0.644370</td>\n",
              "      <td>0.631221</td>\n",
              "      <td>0.612729</td>\n",
              "      <td>0.693432</td>\n",
              "      <td>0.698900</td>\n",
              "      <td>0.504298</td>\n",
              "      <td>0.144670</td>\n",
              "      <td>0.644826</td>\n",
              "    </tr>\n",
              "  </tbody>\n",
              "</table>\n",
              "<p>5 rows × 510 columns</p>\n",
              "</div>\n",
              "    <div class=\"colab-df-buttons\">\n",
              "\n",
              "  <div class=\"colab-df-container\">\n",
              "    <button class=\"colab-df-convert\" onclick=\"convertToInteractive('df-03a77392-691d-4b9c-b655-a1f7a1b571df')\"\n",
              "            title=\"Convert this dataframe to an interactive table.\"\n",
              "            style=\"display:none;\">\n",
              "\n",
              "  <svg xmlns=\"http://www.w3.org/2000/svg\" height=\"24px\" viewBox=\"0 -960 960 960\">\n",
              "    <path d=\"M120-120v-720h720v720H120Zm60-500h600v-160H180v160Zm220 220h160v-160H400v160Zm0 220h160v-160H400v160ZM180-400h160v-160H180v160Zm440 0h160v-160H620v160ZM180-180h160v-160H180v160Zm440 0h160v-160H620v160Z\"/>\n",
              "  </svg>\n",
              "    </button>\n",
              "\n",
              "  <style>\n",
              "    .colab-df-container {\n",
              "      display:flex;\n",
              "      gap: 12px;\n",
              "    }\n",
              "\n",
              "    .colab-df-convert {\n",
              "      background-color: #E8F0FE;\n",
              "      border: none;\n",
              "      border-radius: 50%;\n",
              "      cursor: pointer;\n",
              "      display: none;\n",
              "      fill: #1967D2;\n",
              "      height: 32px;\n",
              "      padding: 0 0 0 0;\n",
              "      width: 32px;\n",
              "    }\n",
              "\n",
              "    .colab-df-convert:hover {\n",
              "      background-color: #E2EBFA;\n",
              "      box-shadow: 0px 1px 2px rgba(60, 64, 67, 0.3), 0px 1px 3px 1px rgba(60, 64, 67, 0.15);\n",
              "      fill: #174EA6;\n",
              "    }\n",
              "\n",
              "    .colab-df-buttons div {\n",
              "      margin-bottom: 4px;\n",
              "    }\n",
              "\n",
              "    [theme=dark] .colab-df-convert {\n",
              "      background-color: #3B4455;\n",
              "      fill: #D2E3FC;\n",
              "    }\n",
              "\n",
              "    [theme=dark] .colab-df-convert:hover {\n",
              "      background-color: #434B5C;\n",
              "      box-shadow: 0px 1px 3px 1px rgba(0, 0, 0, 0.15);\n",
              "      filter: drop-shadow(0px 1px 2px rgba(0, 0, 0, 0.3));\n",
              "      fill: #FFFFFF;\n",
              "    }\n",
              "  </style>\n",
              "\n",
              "    <script>\n",
              "      const buttonEl =\n",
              "        document.querySelector('#df-03a77392-691d-4b9c-b655-a1f7a1b571df button.colab-df-convert');\n",
              "      buttonEl.style.display =\n",
              "        google.colab.kernel.accessAllowed ? 'block' : 'none';\n",
              "\n",
              "      async function convertToInteractive(key) {\n",
              "        const element = document.querySelector('#df-03a77392-691d-4b9c-b655-a1f7a1b571df');\n",
              "        const dataTable =\n",
              "          await google.colab.kernel.invokeFunction('convertToInteractive',\n",
              "                                                    [key], {});\n",
              "        if (!dataTable) return;\n",
              "\n",
              "        const docLinkHtml = 'Like what you see? Visit the ' +\n",
              "          '<a target=\"_blank\" href=https://colab.research.google.com/notebooks/data_table.ipynb>data table notebook</a>'\n",
              "          + ' to learn more about interactive tables.';\n",
              "        element.innerHTML = '';\n",
              "        dataTable['output_type'] = 'display_data';\n",
              "        await google.colab.output.renderOutput(dataTable, element);\n",
              "        const docLink = document.createElement('div');\n",
              "        docLink.innerHTML = docLinkHtml;\n",
              "        element.appendChild(docLink);\n",
              "      }\n",
              "    </script>\n",
              "  </div>\n",
              "\n",
              "\n",
              "    <div id=\"df-f40cf1b3-ddeb-436f-a247-8f62f2c78274\">\n",
              "      <button class=\"colab-df-quickchart\" onclick=\"quickchart('df-f40cf1b3-ddeb-436f-a247-8f62f2c78274')\"\n",
              "                title=\"Suggest charts\"\n",
              "                style=\"display:none;\">\n",
              "\n",
              "<svg xmlns=\"http://www.w3.org/2000/svg\" height=\"24px\"viewBox=\"0 0 24 24\"\n",
              "     width=\"24px\">\n",
              "    <g>\n",
              "        <path d=\"M19 3H5c-1.1 0-2 .9-2 2v14c0 1.1.9 2 2 2h14c1.1 0 2-.9 2-2V5c0-1.1-.9-2-2-2zM9 17H7v-7h2v7zm4 0h-2V7h2v10zm4 0h-2v-4h2v4z\"/>\n",
              "    </g>\n",
              "</svg>\n",
              "      </button>\n",
              "\n",
              "<style>\n",
              "  .colab-df-quickchart {\n",
              "      --bg-color: #E8F0FE;\n",
              "      --fill-color: #1967D2;\n",
              "      --hover-bg-color: #E2EBFA;\n",
              "      --hover-fill-color: #174EA6;\n",
              "      --disabled-fill-color: #AAA;\n",
              "      --disabled-bg-color: #DDD;\n",
              "  }\n",
              "\n",
              "  [theme=dark] .colab-df-quickchart {\n",
              "      --bg-color: #3B4455;\n",
              "      --fill-color: #D2E3FC;\n",
              "      --hover-bg-color: #434B5C;\n",
              "      --hover-fill-color: #FFFFFF;\n",
              "      --disabled-bg-color: #3B4455;\n",
              "      --disabled-fill-color: #666;\n",
              "  }\n",
              "\n",
              "  .colab-df-quickchart {\n",
              "    background-color: var(--bg-color);\n",
              "    border: none;\n",
              "    border-radius: 50%;\n",
              "    cursor: pointer;\n",
              "    display: none;\n",
              "    fill: var(--fill-color);\n",
              "    height: 32px;\n",
              "    padding: 0;\n",
              "    width: 32px;\n",
              "  }\n",
              "\n",
              "  .colab-df-quickchart:hover {\n",
              "    background-color: var(--hover-bg-color);\n",
              "    box-shadow: 0 1px 2px rgba(60, 64, 67, 0.3), 0 1px 3px 1px rgba(60, 64, 67, 0.15);\n",
              "    fill: var(--button-hover-fill-color);\n",
              "  }\n",
              "\n",
              "  .colab-df-quickchart-complete:disabled,\n",
              "  .colab-df-quickchart-complete:disabled:hover {\n",
              "    background-color: var(--disabled-bg-color);\n",
              "    fill: var(--disabled-fill-color);\n",
              "    box-shadow: none;\n",
              "  }\n",
              "\n",
              "  .colab-df-spinner {\n",
              "    border: 2px solid var(--fill-color);\n",
              "    border-color: transparent;\n",
              "    border-bottom-color: var(--fill-color);\n",
              "    animation:\n",
              "      spin 1s steps(1) infinite;\n",
              "  }\n",
              "\n",
              "  @keyframes spin {\n",
              "    0% {\n",
              "      border-color: transparent;\n",
              "      border-bottom-color: var(--fill-color);\n",
              "      border-left-color: var(--fill-color);\n",
              "    }\n",
              "    20% {\n",
              "      border-color: transparent;\n",
              "      border-left-color: var(--fill-color);\n",
              "      border-top-color: var(--fill-color);\n",
              "    }\n",
              "    30% {\n",
              "      border-color: transparent;\n",
              "      border-left-color: var(--fill-color);\n",
              "      border-top-color: var(--fill-color);\n",
              "      border-right-color: var(--fill-color);\n",
              "    }\n",
              "    40% {\n",
              "      border-color: transparent;\n",
              "      border-right-color: var(--fill-color);\n",
              "      border-top-color: var(--fill-color);\n",
              "    }\n",
              "    60% {\n",
              "      border-color: transparent;\n",
              "      border-right-color: var(--fill-color);\n",
              "    }\n",
              "    80% {\n",
              "      border-color: transparent;\n",
              "      border-right-color: var(--fill-color);\n",
              "      border-bottom-color: var(--fill-color);\n",
              "    }\n",
              "    90% {\n",
              "      border-color: transparent;\n",
              "      border-bottom-color: var(--fill-color);\n",
              "    }\n",
              "  }\n",
              "</style>\n",
              "\n",
              "      <script>\n",
              "        async function quickchart(key) {\n",
              "          const quickchartButtonEl =\n",
              "            document.querySelector('#' + key + ' button');\n",
              "          quickchartButtonEl.disabled = true;  // To prevent multiple clicks.\n",
              "          quickchartButtonEl.classList.add('colab-df-spinner');\n",
              "          try {\n",
              "            const charts = await google.colab.kernel.invokeFunction(\n",
              "                'suggestCharts', [key], {});\n",
              "          } catch (error) {\n",
              "            console.error('Error during call to suggestCharts:', error);\n",
              "          }\n",
              "          quickchartButtonEl.classList.remove('colab-df-spinner');\n",
              "          quickchartButtonEl.classList.add('colab-df-quickchart-complete');\n",
              "        }\n",
              "        (() => {\n",
              "          let quickchartButtonEl =\n",
              "            document.querySelector('#df-f40cf1b3-ddeb-436f-a247-8f62f2c78274 button');\n",
              "          quickchartButtonEl.style.display =\n",
              "            google.colab.kernel.accessAllowed ? 'block' : 'none';\n",
              "        })();\n",
              "      </script>\n",
              "    </div>\n",
              "\n",
              "    </div>\n",
              "  </div>\n"
            ],
            "application/vnd.google.colaboratory.intrinsic+json": {
              "type": "dataframe",
              "variable_name": "sixMonth_correlation_data"
            }
          },
          "metadata": {},
          "execution_count": 5
        }
      ]
    }
  ]
}