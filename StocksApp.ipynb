{
  "nbformat": 4,
  "nbformat_minor": 0,
  "metadata": {
    "colab": {
      "provenance": [],
      "gpuType": "T4",
      "collapsed_sections": [
        "qPom_aYMeUSx",
        "Nn9reOwbE96J",
        "AuEQvbbnFGfT",
        "XlkrSQJ8aSKT",
        "WjGziKSbFiNp",
        "IZGBHr-YAJ5U"
      ],
      "mount_file_id": "https://github.com/Risskr/Stock-App/blob/main/StocksApp.ipynb",
      "authorship_tag": "ABX9TyMsfijSAl10y7gHkSsT6vUq",
      "include_colab_link": true
    },
    "kernelspec": {
      "name": "python3",
      "display_name": "Python 3"
    },
    "language_info": {
      "name": "python"
    },
    "accelerator": "GPU"
  },
  "cells": [
    {
      "cell_type": "markdown",
      "metadata": {
        "id": "view-in-github",
        "colab_type": "text"
      },
      "source": [
        "<a href=\"https://colab.research.google.com/github/Risskr/Stock-App/blob/main/StocksApp.ipynb\" target=\"_parent\"><img src=\"https://colab.research.google.com/assets/colab-badge.svg\" alt=\"Open In Colab\"/></a>"
      ]
    },
    {
      "cell_type": "markdown",
      "source": [
        "# Set Up\n"
      ],
      "metadata": {
        "id": "qPom_aYMeUSx"
      }
    },
    {
      "cell_type": "code",
      "execution_count": 8,
      "metadata": {
        "id": "NqHgaNKkh5iP",
        "collapsed": true
      },
      "outputs": [],
      "source": [
        "#refesh python script\n",
        "#get_ipython().kernel.do_shutdown(restart=True)\n",
        "\n",
        "#Check GPUs\n",
        "##!nvidia-smi"
      ]
    },
    {
      "cell_type": "code",
      "source": [
        "# Install nbimporter if not already installed\n",
        "# !pip install import-ipynb\n",
        "# import import_ipynb\n",
        "\n",
        "#load cudf to use GPUs for analysis\n",
        "%load_ext cudf.pandas\n",
        "\n",
        "# import pandas\n",
        "import pandas as pd"
      ],
      "metadata": {
        "id": "vZgiXr-ATxyO",
        "collapsed": true,
        "colab": {
          "base_uri": "https://localhost:8080/"
        },
        "outputId": "3fa713d8-1fee-4220-89f6-e8ead740de5c"
      },
      "execution_count": 9,
      "outputs": [
        {
          "output_type": "stream",
          "name": "stdout",
          "text": [
            "The cudf.pandas extension is already loaded. To reload it, use:\n",
            "  %reload_ext cudf.pandas\n"
          ]
        }
      ]
    },
    {
      "cell_type": "markdown",
      "source": [
        "# Get Stock Data"
      ],
      "metadata": {
        "id": "xe0ltjSPehDV"
      }
    },
    {
      "cell_type": "markdown",
      "source": [
        "## Download Stock Data"
      ],
      "metadata": {
        "id": "Nn9reOwbE96J"
      }
    },
    {
      "cell_type": "code",
      "source": [
        "#Download the stock data\n",
        "##!if [ ! -f \"usa_stocks_30m.parquet\" ]; then curl https://storage.googleapis.com/rapidsai/colab-data/usa_stocks_30m.parquet -o usa_stocks_30m.parquet; else echo \"usa_stocks_30m.parquet found\"; fi"
      ],
      "metadata": {
        "id": "2ipu4MZZV3_y"
      },
      "execution_count": 10,
      "outputs": []
    },
    {
      "cell_type": "code",
      "source": [
        "#move the stock data to my Drive\n",
        "##!mv usa_stocks_30m.parquet \"/content/drive/MyDrive/Colab Notebooks\""
      ],
      "metadata": {
        "id": "D-omEss0dUzI"
      },
      "execution_count": 11,
      "outputs": []
    },
    {
      "cell_type": "markdown",
      "source": [],
      "metadata": {
        "id": "crFRavIvFArM"
      }
    },
    {
      "cell_type": "code",
      "source": [
        "# # Add my drive to the sys.path\n",
        "# # Replace 'My Drive/Colab Notebooks' with the actual path to the directory\n",
        "# # within your Google Drive where Correlation_Coefficient.ipynb is located.\n",
        "# import sys\n",
        "# sys.path.append('/content/drive/My Drive/Colab Notebooks')\n",
        "\n",
        "# # Verify that the directory is in sys.path\n",
        "# print(\"sys.path after appending:\")\n",
        "# print(sys.path)\n",
        "\n",
        "# # List the contents of the directory to check if the file exists\n",
        "# print(\"\\nContents of the directory:\")\n",
        "# !ls \"/content/drive/My Drive/Colab Notebooks\"\n",
        "\n",
        "# # Check if the notebook is recognized as a module\n",
        "# print(\"\\nChecking for Correlation_Coefficient in sys.modules:\")\n",
        "# print('Correlation_Coefficient' in sys.modules)"
      ],
      "metadata": {
        "id": "is0DgseL5SzR"
      },
      "execution_count": 12,
      "outputs": []
    },
    {
      "cell_type": "markdown",
      "source": [
        "## Pull data from My Drive"
      ],
      "metadata": {
        "id": "AuEQvbbnFGfT"
      }
    },
    {
      "cell_type": "code",
      "source": [
        "# Define nasdaq_stocks as the stock data\n",
        "# Specify the full path to the file in your Google Drive\n",
        "nasdaq_stocks = pd.read_parquet(\"/content/drive/MyDrive/Colab Notebooks/usa_stocks_30m.parquet\")"
      ],
      "metadata": {
        "id": "U-s77lCvT7rQ"
      },
      "execution_count": 13,
      "outputs": []
    },
    {
      "cell_type": "code",
      "source": [
        "#Cut down the data first 18M lines because of RAM limits on\n",
        "#free tier of colab\n",
        "#df = df.iloc[:18000000]"
      ],
      "metadata": {
        "id": "AWLaa4vVWFEy"
      },
      "execution_count": 14,
      "outputs": []
    },
    {
      "cell_type": "markdown",
      "source": [
        "## Add columns and Fitler last 5 years"
      ],
      "metadata": {
        "id": "VTUSJsRLFNcZ"
      }
    },
    {
      "cell_type": "code",
      "source": [
        "#add year, month, and day columns\n",
        "#df[[\"year\", \"week\", \"day\"]] = df.datetime.dt.isocalendar()\n",
        "nasdaq_stocks[\"year\"] = nasdaq_stocks.datetime.dt.year\n",
        "nasdaq_stocks[\"month\"] = nasdaq_stocks.datetime.dt.month\n",
        "nasdaq_stocks[\"day\"] = nasdaq_stocks.datetime.dt.day"
      ],
      "metadata": {
        "id": "Gl82QadwUTHF"
      },
      "execution_count": 15,
      "outputs": []
    },
    {
      "cell_type": "code",
      "source": [
        "# Filter the DataFrame based on the 'year' column\n",
        "nasdaq_stocks_last_5y = nasdaq_stocks.loc[nasdaq_stocks['year'] >= 2023]\n",
        "\n",
        "nasdaq_stocks_last_5y.info()"
      ],
      "metadata": {
        "id": "yLPX-ZwFooLd",
        "colab": {
          "base_uri": "https://localhost:8080/"
        },
        "outputId": "56c524b2-c1be-484b-c1d0-dcb37b24f0a0",
        "collapsed": true
      },
      "execution_count": 27,
      "outputs": [
        {
          "output_type": "stream",
          "name": "stdout",
          "text": [
            "<class 'cudf.core.dataframe.DataFrame'>\n",
            "Index: 2115063 entries, 75734 to 36919\n",
            "Data columns (total 10 columns):\n",
            " #   Column    Dtype\n",
            "---  ------    -----\n",
            " 0   datetime  datetime64[ms]\n",
            " 1   open      float64\n",
            " 2   high      float64\n",
            " 3   low       float64\n",
            " 4   close     float64\n",
            " 5   volume    int64\n",
            " 6   ticker    object\n",
            " 7   year      int16\n",
            " 8   month     int16\n",
            " 9   day       int16\n",
            "dtypes: datetime64[ms](1), float64(4), int16(3), int64(1), object(1)\n",
            "memory usage: 139.5+ MB\n"
          ]
        }
      ]
    },
    {
      "cell_type": "code",
      "source": [
        "nasdaq_stocks_last_5y.head()"
      ],
      "metadata": {
        "colab": {
          "base_uri": "https://localhost:8080/",
          "height": 204
        },
        "id": "dK8wrx5cVa2Z",
        "outputId": "5131bfa6-ed11-4967-e049-f8e1c0b2c8ca",
        "collapsed": true
      },
      "execution_count": 17,
      "outputs": [
        {
          "output_type": "execute_result",
          "data": {
            "text/plain": [
              "                 datetime   open   high    low  close  volume ticker  year  \\\n",
              "65555 2020-01-02 16:30:00  85.90  86.35  85.20  85.99  163797      A  2020   \n",
              "65556 2020-01-02 17:00:00  86.01  86.01  85.36  85.54   49377      A  2020   \n",
              "65557 2020-01-02 17:30:00  85.54  85.54  85.31  85.44   46574      A  2020   \n",
              "65558 2020-01-02 18:00:00  85.43  85.61  85.39  85.45   47512      A  2020   \n",
              "65559 2020-01-02 18:30:00  85.47  85.47  85.24  85.43   58244      A  2020   \n",
              "\n",
              "       month  day  \n",
              "65555      1    2  \n",
              "65556      1    2  \n",
              "65557      1    2  \n",
              "65558      1    2  \n",
              "65559      1    2  "
            ],
            "text/html": [
              "<div>\n",
              "<style scoped>\n",
              "    .dataframe tbody tr th:only-of-type {\n",
              "        vertical-align: middle;\n",
              "    }\n",
              "\n",
              "    .dataframe tbody tr th {\n",
              "        vertical-align: top;\n",
              "    }\n",
              "\n",
              "    .dataframe thead th {\n",
              "        text-align: right;\n",
              "    }\n",
              "</style>\n",
              "<table border=\"1\" class=\"dataframe\">\n",
              "  <thead>\n",
              "    <tr style=\"text-align: right;\">\n",
              "      <th></th>\n",
              "      <th>datetime</th>\n",
              "      <th>open</th>\n",
              "      <th>high</th>\n",
              "      <th>low</th>\n",
              "      <th>close</th>\n",
              "      <th>volume</th>\n",
              "      <th>ticker</th>\n",
              "      <th>year</th>\n",
              "      <th>month</th>\n",
              "      <th>day</th>\n",
              "    </tr>\n",
              "  </thead>\n",
              "  <tbody>\n",
              "    <tr>\n",
              "      <th>65555</th>\n",
              "      <td>2020-01-02 16:30:00</td>\n",
              "      <td>85.90</td>\n",
              "      <td>86.35</td>\n",
              "      <td>85.20</td>\n",
              "      <td>85.99</td>\n",
              "      <td>163797</td>\n",
              "      <td>A</td>\n",
              "      <td>2020</td>\n",
              "      <td>1</td>\n",
              "      <td>2</td>\n",
              "    </tr>\n",
              "    <tr>\n",
              "      <th>65556</th>\n",
              "      <td>2020-01-02 17:00:00</td>\n",
              "      <td>86.01</td>\n",
              "      <td>86.01</td>\n",
              "      <td>85.36</td>\n",
              "      <td>85.54</td>\n",
              "      <td>49377</td>\n",
              "      <td>A</td>\n",
              "      <td>2020</td>\n",
              "      <td>1</td>\n",
              "      <td>2</td>\n",
              "    </tr>\n",
              "    <tr>\n",
              "      <th>65557</th>\n",
              "      <td>2020-01-02 17:30:00</td>\n",
              "      <td>85.54</td>\n",
              "      <td>85.54</td>\n",
              "      <td>85.31</td>\n",
              "      <td>85.44</td>\n",
              "      <td>46574</td>\n",
              "      <td>A</td>\n",
              "      <td>2020</td>\n",
              "      <td>1</td>\n",
              "      <td>2</td>\n",
              "    </tr>\n",
              "    <tr>\n",
              "      <th>65558</th>\n",
              "      <td>2020-01-02 18:00:00</td>\n",
              "      <td>85.43</td>\n",
              "      <td>85.61</td>\n",
              "      <td>85.39</td>\n",
              "      <td>85.45</td>\n",
              "      <td>47512</td>\n",
              "      <td>A</td>\n",
              "      <td>2020</td>\n",
              "      <td>1</td>\n",
              "      <td>2</td>\n",
              "    </tr>\n",
              "    <tr>\n",
              "      <th>65559</th>\n",
              "      <td>2020-01-02 18:30:00</td>\n",
              "      <td>85.47</td>\n",
              "      <td>85.47</td>\n",
              "      <td>85.24</td>\n",
              "      <td>85.43</td>\n",
              "      <td>58244</td>\n",
              "      <td>A</td>\n",
              "      <td>2020</td>\n",
              "      <td>1</td>\n",
              "      <td>2</td>\n",
              "    </tr>\n",
              "  </tbody>\n",
              "</table>\n",
              "</div>"
            ],
            "application/vnd.google.colaboratory.intrinsic+json": {
              "type": "dataframe",
              "variable_name": "nasdaq_stocks_last_5y"
            }
          },
          "metadata": {},
          "execution_count": 17
        }
      ]
    },
    {
      "cell_type": "markdown",
      "source": [
        "## Filter for daily close values"
      ],
      "metadata": {
        "id": "wn6LAMjPhXY7"
      }
    },
    {
      "cell_type": "code",
      "source": [
        "#aggregate data by ticker, month, day, closing cost.\n",
        "nasdaq_stocks_last_5y_aggregated_close = nasdaq_stocks_last_5y.groupby([\"ticker\", \"year\", \"month\", \"day\"]).agg({\"close\": \"last\"})\n",
        "\n",
        "nasdaq_stocks_last_5y_aggregated_close.head()"
      ],
      "metadata": {
        "id": "YB-WneeGOF4o",
        "collapsed": true,
        "colab": {
          "base_uri": "https://localhost:8080/",
          "height": 235
        },
        "outputId": "417a6eaf-f1bb-4831-830a-de7f10988004"
      },
      "execution_count": 18,
      "outputs": [
        {
          "output_type": "execute_result",
          "data": {
            "text/plain": [
              "                       close\n",
              "ticker year month day       \n",
              "A      2020 1     2    85.91\n",
              "                  3    84.64\n",
              "                  6    84.80\n",
              "                  7    85.09\n",
              "                  8    85.90"
            ],
            "text/html": [
              "<div>\n",
              "<style scoped>\n",
              "    .dataframe tbody tr th:only-of-type {\n",
              "        vertical-align: middle;\n",
              "    }\n",
              "\n",
              "    .dataframe tbody tr th {\n",
              "        vertical-align: top;\n",
              "    }\n",
              "\n",
              "    .dataframe thead th {\n",
              "        text-align: right;\n",
              "    }\n",
              "</style>\n",
              "<table border=\"1\" class=\"dataframe\">\n",
              "  <thead>\n",
              "    <tr style=\"text-align: right;\">\n",
              "      <th></th>\n",
              "      <th></th>\n",
              "      <th></th>\n",
              "      <th></th>\n",
              "      <th>close</th>\n",
              "    </tr>\n",
              "    <tr>\n",
              "      <th>ticker</th>\n",
              "      <th>year</th>\n",
              "      <th>month</th>\n",
              "      <th>day</th>\n",
              "      <th></th>\n",
              "    </tr>\n",
              "  </thead>\n",
              "  <tbody>\n",
              "    <tr>\n",
              "      <th rowspan=\"5\" valign=\"top\">A</th>\n",
              "      <th rowspan=\"5\" valign=\"top\">2020</th>\n",
              "      <th rowspan=\"5\" valign=\"top\">1</th>\n",
              "      <th>2</th>\n",
              "      <td>85.91</td>\n",
              "    </tr>\n",
              "    <tr>\n",
              "      <th>3</th>\n",
              "      <td>84.64</td>\n",
              "    </tr>\n",
              "    <tr>\n",
              "      <th>6</th>\n",
              "      <td>84.80</td>\n",
              "    </tr>\n",
              "    <tr>\n",
              "      <th>7</th>\n",
              "      <td>85.09</td>\n",
              "    </tr>\n",
              "    <tr>\n",
              "      <th>8</th>\n",
              "      <td>85.90</td>\n",
              "    </tr>\n",
              "  </tbody>\n",
              "</table>\n",
              "</div>"
            ],
            "application/vnd.google.colaboratory.intrinsic+json": {
              "type": "dataframe",
              "variable_name": "nasdaq_stocks_last_5y_aggregated_close"
            }
          },
          "metadata": {},
          "execution_count": 18
        }
      ]
    },
    {
      "cell_type": "markdown",
      "source": [
        "# Pull GOOG and MSFT"
      ],
      "metadata": {
        "id": "uK3tEpu0nyDv"
      }
    },
    {
      "cell_type": "code",
      "source": [
        "# Access the 'ticker' level from the index for filtering\n",
        "GOOGDailyClose = nasdaq_stocks_last_5y_aggregated_close.loc[nasdaq_stocks_last_5y_aggregated_close.index.get_level_values('ticker') == \"GOOG\"]\n",
        "MSFTDailyClose = nasdaq_stocks_last_5y_aggregated_close.loc[nasdaq_stocks_last_5y_aggregated_close.index.get_level_values('ticker') == \"MSFT\"]\n",
        "\n",
        "\n",
        "GOOGDailyClose.info()"
      ],
      "metadata": {
        "id": "nHJt6DToYIU5",
        "colab": {
          "base_uri": "https://localhost:8080/"
        },
        "outputId": "23762ea1-30fc-4f2a-d801-549fa5573924",
        "collapsed": true
      },
      "execution_count": 19,
      "outputs": [
        {
          "output_type": "stream",
          "name": "stdout",
          "text": [
            "<class 'cudf.core.dataframe.DataFrame'>\n",
            "MultiIndex: 1104 entries, ('GOOG', np.int16(2020), np.int16(1), np.int16(2)) to ('GOOG', np.int16(2024), np.int16(3), np.int16(13))\n",
            "Data columns (total 1 columns):\n",
            " #   Column  Non-Null Count  Dtype\n",
            "---  ------  --------------  -----\n",
            " 0   close   1104 non-null   float64\n",
            "dtypes: float64(1)\n",
            "memory usage: 62.0+ KB\n"
          ]
        }
      ]
    },
    {
      "cell_type": "code",
      "source": [
        "GOOGDailyClose.head()"
      ],
      "metadata": {
        "colab": {
          "base_uri": "https://localhost:8080/",
          "height": 235
        },
        "id": "N_qSlC_uNvK4",
        "outputId": "d12235cf-69fc-4321-f4aa-7fd188d06855",
        "collapsed": true
      },
      "execution_count": 20,
      "outputs": [
        {
          "output_type": "execute_result",
          "data": {
            "text/plain": [
              "                       close\n",
              "ticker year month day       \n",
              "GOOG   2020 1     2    68.27\n",
              "                  3    68.05\n",
              "                  6    69.70\n",
              "                  7    69.71\n",
              "                  8    70.19"
            ],
            "text/html": [
              "<div>\n",
              "<style scoped>\n",
              "    .dataframe tbody tr th:only-of-type {\n",
              "        vertical-align: middle;\n",
              "    }\n",
              "\n",
              "    .dataframe tbody tr th {\n",
              "        vertical-align: top;\n",
              "    }\n",
              "\n",
              "    .dataframe thead th {\n",
              "        text-align: right;\n",
              "    }\n",
              "</style>\n",
              "<table border=\"1\" class=\"dataframe\">\n",
              "  <thead>\n",
              "    <tr style=\"text-align: right;\">\n",
              "      <th></th>\n",
              "      <th></th>\n",
              "      <th></th>\n",
              "      <th></th>\n",
              "      <th>close</th>\n",
              "    </tr>\n",
              "    <tr>\n",
              "      <th>ticker</th>\n",
              "      <th>year</th>\n",
              "      <th>month</th>\n",
              "      <th>day</th>\n",
              "      <th></th>\n",
              "    </tr>\n",
              "  </thead>\n",
              "  <tbody>\n",
              "    <tr>\n",
              "      <th rowspan=\"5\" valign=\"top\">GOOG</th>\n",
              "      <th rowspan=\"5\" valign=\"top\">2020</th>\n",
              "      <th rowspan=\"5\" valign=\"top\">1</th>\n",
              "      <th>2</th>\n",
              "      <td>68.27</td>\n",
              "    </tr>\n",
              "    <tr>\n",
              "      <th>3</th>\n",
              "      <td>68.05</td>\n",
              "    </tr>\n",
              "    <tr>\n",
              "      <th>6</th>\n",
              "      <td>69.70</td>\n",
              "    </tr>\n",
              "    <tr>\n",
              "      <th>7</th>\n",
              "      <td>69.71</td>\n",
              "    </tr>\n",
              "    <tr>\n",
              "      <th>8</th>\n",
              "      <td>70.19</td>\n",
              "    </tr>\n",
              "  </tbody>\n",
              "</table>\n",
              "</div>"
            ],
            "application/vnd.google.colaboratory.intrinsic+json": {
              "type": "dataframe",
              "variable_name": "GOOGDailyClose",
              "summary": "{\n  \"name\": \"GOOGDailyClose\",\n  \"rows\": 1104,\n  \"fields\": [\n    {\n      \"column\": \"close\",\n      \"properties\": {\n        \"dtype\": \"number\",\n        \"std\": 25.913985077819948,\n        \"min\": 52.83,\n        \"max\": 154.88,\n        \"num_unique_values\": 1029,\n        \"samples\": [\n          67.43,\n          131.86,\n          100.29\n        ],\n        \"semantic_type\": \"\",\n        \"description\": \"\"\n      }\n    }\n  ]\n}"
            }
          },
          "metadata": {},
          "execution_count": 20
        }
      ]
    },
    {
      "cell_type": "markdown",
      "source": [
        "# Correlation_Coefficient Function"
      ],
      "metadata": {
        "id": "_pVCvXWUGena"
      }
    },
    {
      "source": [
        "# Correlation_Coefficient Function\n",
        "# Using the Pearson correlation coefficient to determine correlation between two stocks\n",
        "\n",
        "def Correlation_Coefficient(StockA, StockB):\n",
        "  # Calculate the correlation between the 'close' columns\n",
        "  StockA = StockA['close'].droplevel('ticker')\n",
        "  StockB = StockB['close'].droplevel('ticker')\n",
        "  correlation = StockA.corr(StockB)\n",
        "  return correlation\n",
        "\n",
        "\n",
        "correlation_value = Correlation_Coefficient(GOOGDailyClose, MSFTDailyClose)\n",
        "print(f\"The Pearson correlation coefficient between GOOG and MSFT is: {correlation_value}\")"
      ],
      "cell_type": "code",
      "metadata": {
        "colab": {
          "base_uri": "https://localhost:8080/"
        },
        "id": "jWUbLSQ7Im3Y",
        "outputId": "228e8e4c-6ab3-4794-8ee2-6a1057b2e1fb"
      },
      "execution_count": 21,
      "outputs": [
        {
          "output_type": "stream",
          "name": "stdout",
          "text": [
            "The Pearson correlation coefficient between GOOG and MSFT is//: 0.8976408107388537\n"
          ]
        }
      ]
    },
    {
      "source": [
        "# Correlation_Coefficient Function with Lag\n",
        "# Using the Pearson correlation coefficient to determine correlation between two stocks with a lag\n",
        "\n",
        "def Correlation_Coefficient_Lag(StockA, StockB, k=0):\n",
        "  # Calculate the correlation between the 'close' columns with a lag\n",
        "  StockA_series = StockA['close'].droplevel('ticker')\n",
        "  StockB_series = StockB['close'].droplevel('ticker')\n",
        "\n",
        "  # Apply the lag to StockB\n",
        "  # Shift the StockB series down by k periods.\n",
        "  # Positive k shifts data points forward, filling early entries with NaN.\n",
        "  # Negative k shifts data points backward, filling late entries with NaN.\n",
        "  StockB_lagged = StockB_series.shift(k)\n",
        "\n",
        "  # Calculate the correlation between the original StockA and the lagged StockB\n",
        "  # The .corr() method automatically handles NaN values by excluding them\n",
        "  correlation = StockA_series.corr(StockB_lagged)\n",
        "\n",
        "  return correlation\n",
        "\n",
        "# Example usage with a lag of k=1 day\n",
        "correlation_value_lag1 = Correlation_Coefficient_Lag(GOOGDailyClose, MSFTDailyClose, k=1)\n",
        "print(f\"The Pearson correlation coefficient between GOOG and MSFT with a 1-day lag on MSFT is: {correlation_value_lag1}\")\n",
        "\n",
        "# Example usage with a lag of k=-1 day\n",
        "correlation_value_lag_neg1 = Correlation_Coefficient_Lag(GOOGDailyClose, MSFTDailyClose, k=-1)\n",
        "print(f\"The Pearson correlation coefficient between GOOG and MSFT with a -1-day lag on MSFT is: {correlation_value_lag_neg1}\")\n",
        "\n",
        "# Example usage with no lag (k=0)\n",
        "correlation_value_lag0 = Correlation_Coefficient_Lag(GOOGDailyClose, MSFTDailyClose, k=0)\n",
        "print(f\"The Pearson correlation coefficient between GOOG and MSFT with no lag is: {correlation_value_lag0}\")"
      ],
      "cell_type": "code",
      "metadata": {
        "id": "RaVWV0y2PKdy",
        "outputId": "76f46bdf-cec6-4507-9a6d-0056d4543b97",
        "colab": {
          "base_uri": "https://localhost:8080/"
        }
      },
      "execution_count": 25,
      "outputs": [
        {
          "output_type": "stream",
          "name": "stdout",
          "text": [
            "The Pearson correlation coefficient between GOOG and MSFT with a 1-day lag on MSFT is: 0.8962704402662925\n",
            "The Pearson correlation coefficient between GOOG and MSFT with a -1-day lag on MSFT is: 0.8945621869369759\n",
            "The Pearson correlation coefficient between GOOG and MSFT with no lag is: 0.8976408107388537\n"
          ]
        }
      ]
    },
    {
      "source": [
        "# Get all unique tickers from the DataFrame\n",
        "all_tickers = nasdaq_stocks_last_5y_aggregated_close.index.get_level_values('ticker').unique()\n",
        "\n",
        "# Define the range of lag values\n",
        "lag_range = range(-2, 3) # -5 to 5 inclusive\n",
        "\n",
        "# Dictionary to store the correlation results\n",
        "# The structure will be: { (ticker_a, ticker_b, lag_k): { 'correlation': correlation_value, 'n_days': number_of_days_used } }\n",
        "all_correlations_with_info = {}\n",
        "\n",
        "# Iterate through all unique tickers as StockA\n",
        "for ticker_a in all_tickers:\n",
        "    # Iterate through all unique tickers as StockB\n",
        "    for ticker_b in all_tickers:\n",
        "        # Skip if StockA is the same as StockB (correlation with itself is always 1 with lag 0, less meaningful with lag)\n",
        "        if ticker_a == ticker_b:\n",
        "            continue\n",
        "\n",
        "        print(f\"Calculating correlations for pair: {ticker_a} (A) and {ticker_b} (B)\")\n",
        "\n",
        "        # Filter the aggregated data for the current ticker pair\n",
        "        StockA_data = nasdaq_stocks_last_5y_aggregated_close.loc[nasdaq_stocks_last_5y_aggregated_close.index.get_level_values('ticker') == ticker_a]\n",
        "        StockB_data = nasdaq_stocks_last_5y_aggregated_close.loc[nasdaq_stocks_last_5y_aggregated_close.index.get_level_values('ticker') == ticker_b]\n",
        "\n",
        "        # Ensure both stocks have data to compare\n",
        "        if not StockA_data.empty and not StockB_data.empty:\n",
        "\n",
        "            # Get the 'close' series and drop the ticker level\n",
        "            StockA_series = StockA_data['close'].droplevel('ticker')\n",
        "            StockB_series = StockB_data['close'].droplevel('ticker')\n",
        "\n",
        "            # Iterate through the defined lag range\n",
        "            for k in lag_range:\n",
        "                # Apply the lag to StockB\n",
        "                StockB_lagged = StockB_series.shift(k)\n",
        "\n",
        "                # Calculate the correlation coefficient\n",
        "                correlation = StockA_series.corr(StockB_lagged)\n",
        "\n",
        "                # Determine the number of non-null pairs used for correlation\n",
        "                # We need to align the indices and then count non-nulls in both series\n",
        "                aligned_series = pd.concat([StockA_series, StockB_lagged], axis=1).dropna()\n",
        "                n_days_used = len(aligned_series)\n",
        "\n",
        "                # Store the result and the number of days used\n",
        "                all_correlations_with_info[(ticker_a, ticker_b, k)] = {\n",
        "                    'correlation': correlation,\n",
        "                    'n_days': n_days_used\n",
        "                }\n",
        "\n",
        "        else:\n",
        "            print(f\"Skipping pair {ticker_a} and {ticker_b} due to missing data.\")\n",
        "\n",
        "# You can now access the correlations and the number of days used\n",
        "# For example, to see correlation between GOOG and MSFT with lag 1 and the number of days used:\n",
        "# pair_info = all_correlations_with_info.get(('GOOG', 'MSFT', 1))\n",
        "# if pair_info:\n",
        "#     print(f\"\\nCorrelation between GOOG (A) and MSFT (B) with lag 1: {pair_info['correlation']}\")\n",
        "#     print(f\"Number of days used in calculation: {pair_info['n_days']}\")\n",
        "\n",
        "# To see correlation between MSFT and GOOG with lag 1 (MSFT is A, GOOG is B, GOOG lagged by 1):\n",
        "# pair_info = all_correlations_with_info.get(('MSFT', 'GOOG', 1))\n",
        "# if pair_info:\n",
        "#     print(f\"\\nCorrelation between MSFT (A) and GOOG (B) with lag 1: {pair_info['correlation']}\")\n",
        "#     print(f\"Number of days used in calculation: {pair_info['n_days']}\")\n",
        "\n",
        "# To iterate through all results for a specific pair (e.g., GOOG and MSFT):\n",
        "# print(\"\\nCorrelations for GOOG (A) and MSFT (B) across lags:\")\n",
        "# for k in lag_range:\n",
        "#     pair_info = all_correlations_with_info.get(('GOOG', 'MSFT', k))\n",
        "#     if pair_info:\n",
        "#         print(f\"  Lag {k}: Correlation = {pair_info['correlation']:.4f}, Days Used = {pair_info['n_days']}\")\n",
        "\n",
        "# print(\"\\nCorrelations for MSFT (A) and GOOG (B) across lags:\")\n",
        "# for k in lag_range:\n",
        "#     pair_info = all_correlations_with_info.get(('MSFT', 'GOOG', k))\n",
        "#     if pair_info:\n",
        "#         print(f\"  Lag {k}: Correlation = {pair_info['correlation']:.4f}, Days Used = {pair_info['n_days']}\")"
      ],
      "cell_type": "code",
      "metadata": {
        "id": "zW3fr3w8SiK6",
        "outputId": "30fea457-8b77-4e00-9f20-ca52a924581d",
        "colab": {
          "base_uri": "https://localhost:8080/",
          "height": 1000
        }
      },
      "execution_count": 30,
      "outputs": [
        {
          "output_type": "stream",
          "name": "stdout",
          "text": [
            "Calculating correlations for pair: A (A) and AAL (B)\n",
            "Calculating correlations for pair: A (A) and AAPL (B)\n",
            "Calculating correlations for pair: A (A) and ABBV (B)\n",
            "Calculating correlations for pair: A (A) and ABNB (B)\n",
            "Calculating correlations for pair: A (A) and ABT (B)\n",
            "Calculating correlations for pair: A (A) and ACGL (B)\n",
            "Calculating correlations for pair: A (A) and ACN (B)\n",
            "Calculating correlations for pair: A (A) and ADBE (B)\n",
            "Calculating correlations for pair: A (A) and ADI (B)\n",
            "Calculating correlations for pair: A (A) and ADM (B)\n",
            "Calculating correlations for pair: A (A) and ADP (B)\n",
            "Calculating correlations for pair: A (A) and ADSK (B)\n",
            "Calculating correlations for pair: A (A) and AEE (B)\n",
            "Calculating correlations for pair: A (A) and AEP (B)\n",
            "Calculating correlations for pair: A (A) and AES (B)\n",
            "Calculating correlations for pair: A (A) and AFL (B)\n",
            "Calculating correlations for pair: A (A) and AIG (B)\n",
            "Calculating correlations for pair: A (A) and AIZ (B)\n",
            "Calculating correlations for pair: A (A) and AJG (B)\n",
            "Calculating correlations for pair: A (A) and AKAM (B)\n",
            "Calculating correlations for pair: A (A) and ALB (B)\n",
            "Calculating correlations for pair: A (A) and ALGN (B)\n",
            "Calculating correlations for pair: A (A) and ALL (B)\n",
            "Calculating correlations for pair: A (A) and ALLE (B)\n",
            "Calculating correlations for pair: A (A) and AMAT (B)\n",
            "Calculating correlations for pair: A (A) and AMCR (B)\n",
            "Calculating correlations for pair: A (A) and AMD (B)\n",
            "Calculating correlations for pair: A (A) and AME (B)\n",
            "Calculating correlations for pair: A (A) and AMGN (B)\n",
            "Calculating correlations for pair: A (A) and AMP (B)\n",
            "Calculating correlations for pair: A (A) and AMT (B)\n",
            "Calculating correlations for pair: A (A) and AMZN (B)\n",
            "Calculating correlations for pair: A (A) and ANET (B)\n",
            "Calculating correlations for pair: A (A) and ANSS (B)\n",
            "Calculating correlations for pair: A (A) and AON (B)\n",
            "Calculating correlations for pair: A (A) and AOS (B)\n",
            "Calculating correlations for pair: A (A) and APA (B)\n",
            "Calculating correlations for pair: A (A) and APD (B)\n",
            "Calculating correlations for pair: A (A) and APH (B)\n",
            "Calculating correlations for pair: A (A) and APTV (B)\n",
            "Calculating correlations for pair: A (A) and ARE (B)\n",
            "Calculating correlations for pair: A (A) and ASML (B)\n",
            "Calculating correlations for pair: A (A) and ATO (B)\n",
            "Calculating correlations for pair: A (A) and AVB (B)\n",
            "Calculating correlations for pair: A (A) and AVGO (B)\n",
            "Calculating correlations for pair: A (A) and AVY (B)\n",
            "Calculating correlations for pair: A (A) and AWK (B)\n",
            "Calculating correlations for pair: A (A) and AXON (B)\n",
            "Calculating correlations for pair: A (A) and AXP (B)\n",
            "Calculating correlations for pair: A (A) and AZN (B)\n",
            "Calculating correlations for pair: A (A) and AZO (B)\n",
            "Calculating correlations for pair: A (A) and BA (B)\n",
            "Calculating correlations for pair: A (A) and BAC (B)\n",
            "Calculating correlations for pair: A (A) and BALL (B)\n",
            "Calculating correlations for pair: A (A) and BAX (B)\n",
            "Calculating correlations for pair: A (A) and BBWI (B)\n",
            "Calculating correlations for pair: A (A) and BBY (B)\n",
            "Calculating correlations for pair: A (A) and BDX (B)\n",
            "Calculating correlations for pair: A (A) and BEN (B)\n",
            "Calculating correlations for pair: A (A) and BF (B)\n",
            "Calculating correlations for pair: A (A) and BG (B)\n",
            "Calculating correlations for pair: A (A) and BIIB (B)\n",
            "Calculating correlations for pair: A (A) and BIO (B)\n",
            "Calculating correlations for pair: A (A) and BK (B)\n",
            "Calculating correlations for pair: A (A) and BKNG (B)\n",
            "Calculating correlations for pair: A (A) and BKR (B)\n",
            "Calculating correlations for pair: A (A) and BLDR (B)\n",
            "Calculating correlations for pair: A (A) and BLK (B)\n",
            "Calculating correlations for pair: A (A) and BMY (B)\n",
            "Calculating correlations for pair: A (A) and BR (B)\n",
            "Calculating correlations for pair: A (A) and BRK (B)\n",
            "Calculating correlations for pair: A (A) and BRO (B)\n",
            "Calculating correlations for pair: A (A) and BSX (B)\n",
            "Calculating correlations for pair: A (A) and BWA (B)\n",
            "Calculating correlations for pair: A (A) and BX (B)\n",
            "Calculating correlations for pair: A (A) and BXP (B)\n",
            "Calculating correlations for pair: A (A) and C (B)\n",
            "Calculating correlations for pair: A (A) and CAG (B)\n",
            "Calculating correlations for pair: A (A) and CAH (B)\n",
            "Calculating correlations for pair: A (A) and CARR (B)\n",
            "Calculating correlations for pair: A (A) and CAT (B)\n",
            "Calculating correlations for pair: A (A) and CB (B)\n",
            "Calculating correlations for pair: A (A) and CBOE (B)\n",
            "Calculating correlations for pair: A (A) and CBRE (B)\n",
            "Calculating correlations for pair: A (A) and CCEP (B)\n",
            "Calculating correlations for pair: A (A) and CCI (B)\n",
            "Calculating correlations for pair: A (A) and CCL (B)\n",
            "Calculating correlations for pair: A (A) and CDAY (B)\n",
            "Calculating correlations for pair: A (A) and CDNS (B)\n",
            "Calculating correlations for pair: A (A) and CDW (B)\n",
            "Calculating correlations for pair: A (A) and CE (B)\n",
            "Calculating correlations for pair: A (A) and CEG (B)\n",
            "Calculating correlations for pair: A (A) and CF (B)\n",
            "Calculating correlations for pair: A (A) and CFG (B)\n",
            "Calculating correlations for pair: A (A) and CHD (B)\n",
            "Calculating correlations for pair: A (A) and CHRW (B)\n",
            "Calculating correlations for pair: A (A) and CHTR (B)\n",
            "Calculating correlations for pair: A (A) and CI (B)\n",
            "Calculating correlations for pair: A (A) and CINF (B)\n",
            "Calculating correlations for pair: A (A) and CL (B)\n",
            "Calculating correlations for pair: A (A) and CLX (B)\n",
            "Calculating correlations for pair: A (A) and CMA (B)\n",
            "Calculating correlations for pair: A (A) and CMCSA (B)\n",
            "Calculating correlations for pair: A (A) and CME (B)\n",
            "Calculating correlations for pair: A (A) and CMG (B)\n",
            "Calculating correlations for pair: A (A) and CMI (B)\n",
            "Calculating correlations for pair: A (A) and CMS (B)\n",
            "Calculating correlations for pair: A (A) and CNC (B)\n",
            "Calculating correlations for pair: A (A) and CNP (B)\n",
            "Calculating correlations for pair: A (A) and COF (B)\n",
            "Calculating correlations for pair: A (A) and COO (B)\n",
            "Calculating correlations for pair: A (A) and COP (B)\n",
            "Calculating correlations for pair: A (A) and COR (B)\n",
            "Calculating correlations for pair: A (A) and COST (B)\n",
            "Calculating correlations for pair: A (A) and CPB (B)\n",
            "Calculating correlations for pair: A (A) and CPRT (B)\n",
            "Calculating correlations for pair: A (A) and CPT (B)\n",
            "Calculating correlations for pair: A (A) and CRL (B)\n",
            "Calculating correlations for pair: A (A) and CRM (B)\n",
            "Calculating correlations for pair: A (A) and CRWD (B)\n",
            "Calculating correlations for pair: A (A) and CSCO (B)\n",
            "Calculating correlations for pair: A (A) and CSGP (B)\n",
            "Calculating correlations for pair: A (A) and CSX (B)\n",
            "Calculating correlations for pair: A (A) and CTAS (B)\n",
            "Calculating correlations for pair: A (A) and CTLT (B)\n",
            "Calculating correlations for pair: A (A) and CTRA (B)\n",
            "Calculating correlations for pair: A (A) and CTSH (B)\n",
            "Calculating correlations for pair: A (A) and CTVA (B)\n",
            "Calculating correlations for pair: A (A) and CVS (B)\n",
            "Calculating correlations for pair: A (A) and CVX (B)\n",
            "Calculating correlations for pair: A (A) and CZR (B)\n",
            "Calculating correlations for pair: A (A) and D (B)\n",
            "Calculating correlations for pair: A (A) and DAL (B)\n",
            "Calculating correlations for pair: A (A) and DASH (B)\n",
            "Calculating correlations for pair: A (A) and DD (B)\n",
            "Calculating correlations for pair: A (A) and DDOG (B)\n",
            "Calculating correlations for pair: A (A) and DE (B)\n",
            "Calculating correlations for pair: A (A) and DFS (B)\n",
            "Calculating correlations for pair: A (A) and DG (B)\n",
            "Calculating correlations for pair: A (A) and DGX (B)\n",
            "Calculating correlations for pair: A (A) and DHI (B)\n",
            "Calculating correlations for pair: A (A) and DHR (B)\n",
            "Calculating correlations for pair: A (A) and DIS (B)\n",
            "Calculating correlations for pair: A (A) and DLR (B)\n",
            "Calculating correlations for pair: A (A) and DLTR (B)\n",
            "Calculating correlations for pair: A (A) and DOV (B)\n",
            "Calculating correlations for pair: A (A) and DOW (B)\n",
            "Calculating correlations for pair: A (A) and DPZ (B)\n",
            "Calculating correlations for pair: A (A) and DRI (B)\n",
            "Calculating correlations for pair: A (A) and DTE (B)\n",
            "Calculating correlations for pair: A (A) and DUK (B)\n",
            "Calculating correlations for pair: A (A) and DVA (B)\n",
            "Calculating correlations for pair: A (A) and DVN (B)\n",
            "Calculating correlations for pair: A (A) and DXCM (B)\n",
            "Calculating correlations for pair: A (A) and EA (B)\n",
            "Calculating correlations for pair: A (A) and EBAY (B)\n",
            "Calculating correlations for pair: A (A) and ECL (B)\n",
            "Calculating correlations for pair: A (A) and ED (B)\n"
          ]
        },
        {
          "output_type": "error",
          "ename": "KeyboardInterrupt",
          "evalue": "",
          "traceback": [
            "\u001b[0;31m---------------------------------------------------------------------------\u001b[0m",
            "\u001b[0;31mKeyboardInterrupt\u001b[0m                         Traceback (most recent call last)",
            "\u001b[0;32m<ipython-input-30-dbfa83d62915>\u001b[0m in \u001b[0;36m<cell line: 0>\u001b[0;34m()\u001b[0m\n\u001b[1;32m     40\u001b[0m                 \u001b[0;31m# Determine the number of non-null pairs used for correlation\u001b[0m\u001b[0;34m\u001b[0m\u001b[0;34m\u001b[0m\u001b[0m\n\u001b[1;32m     41\u001b[0m                 \u001b[0;31m# We need to align the indices and then count non-nulls in both series\u001b[0m\u001b[0;34m\u001b[0m\u001b[0;34m\u001b[0m\u001b[0m\n\u001b[0;32m---> 42\u001b[0;31m                 \u001b[0maligned_series\u001b[0m \u001b[0;34m=\u001b[0m \u001b[0mpd\u001b[0m\u001b[0;34m.\u001b[0m\u001b[0mconcat\u001b[0m\u001b[0;34m(\u001b[0m\u001b[0;34m[\u001b[0m\u001b[0mStockA_series\u001b[0m\u001b[0;34m,\u001b[0m \u001b[0mStockB_lagged\u001b[0m\u001b[0;34m]\u001b[0m\u001b[0;34m,\u001b[0m \u001b[0maxis\u001b[0m\u001b[0;34m=\u001b[0m\u001b[0;36m1\u001b[0m\u001b[0;34m)\u001b[0m\u001b[0;34m.\u001b[0m\u001b[0mdropna\u001b[0m\u001b[0;34m(\u001b[0m\u001b[0;34m)\u001b[0m\u001b[0;34m\u001b[0m\u001b[0;34m\u001b[0m\u001b[0m\n\u001b[0m\u001b[1;32m     43\u001b[0m                 \u001b[0mn_days_used\u001b[0m \u001b[0;34m=\u001b[0m \u001b[0mlen\u001b[0m\u001b[0;34m(\u001b[0m\u001b[0maligned_series\u001b[0m\u001b[0;34m)\u001b[0m\u001b[0;34m\u001b[0m\u001b[0;34m\u001b[0m\u001b[0m\n\u001b[1;32m     44\u001b[0m \u001b[0;34m\u001b[0m\u001b[0m\n",
            "\u001b[0;32m/usr/local/lib/python3.11/dist-packages/cudf/pandas/fast_slow_proxy.py\u001b[0m in \u001b[0;36m__call__\u001b[0;34m(self, *args, **kwargs)\u001b[0m\n\u001b[1;32m    719\u001b[0m \u001b[0;34m\u001b[0m\u001b[0m\n\u001b[1;32m    720\u001b[0m     \u001b[0;32mdef\u001b[0m \u001b[0m__call__\u001b[0m\u001b[0;34m(\u001b[0m\u001b[0mself\u001b[0m\u001b[0;34m,\u001b[0m \u001b[0;34m*\u001b[0m\u001b[0margs\u001b[0m\u001b[0;34m,\u001b[0m \u001b[0;34m**\u001b[0m\u001b[0mkwargs\u001b[0m\u001b[0;34m)\u001b[0m \u001b[0;34m->\u001b[0m \u001b[0mAny\u001b[0m\u001b[0;34m:\u001b[0m\u001b[0;34m\u001b[0m\u001b[0;34m\u001b[0m\u001b[0m\n\u001b[0;32m--> 721\u001b[0;31m         result, _ = _fast_slow_function_call(\n\u001b[0m\u001b[1;32m    722\u001b[0m             \u001b[0;31m# We cannot directly call self here because we need it to be\u001b[0m\u001b[0;34m\u001b[0m\u001b[0;34m\u001b[0m\u001b[0m\n\u001b[1;32m    723\u001b[0m             \u001b[0;31m# converted into either the fast or slow object (by\u001b[0m\u001b[0;34m\u001b[0m\u001b[0;34m\u001b[0m\u001b[0m\n",
            "\u001b[0;32m/usr/local/lib/python3.11/dist-packages/cudf/pandas/fast_slow_proxy.py\u001b[0m in \u001b[0;36m_fast_slow_function_call\u001b[0;34m(func, *args, **kwargs)\u001b[0m\n\u001b[1;32m    994\u001b[0m         ):\n\u001b[1;32m    995\u001b[0m             \u001b[0mfast_args\u001b[0m\u001b[0;34m,\u001b[0m \u001b[0mfast_kwargs\u001b[0m \u001b[0;34m=\u001b[0m \u001b[0m_fast_arg\u001b[0m\u001b[0;34m(\u001b[0m\u001b[0margs\u001b[0m\u001b[0;34m)\u001b[0m\u001b[0;34m,\u001b[0m \u001b[0m_fast_arg\u001b[0m\u001b[0;34m(\u001b[0m\u001b[0mkwargs\u001b[0m\u001b[0;34m)\u001b[0m\u001b[0;34m\u001b[0m\u001b[0;34m\u001b[0m\u001b[0m\n\u001b[0;32m--> 996\u001b[0;31m             \u001b[0mresult\u001b[0m \u001b[0;34m=\u001b[0m \u001b[0mfunc\u001b[0m\u001b[0;34m(\u001b[0m\u001b[0;34m*\u001b[0m\u001b[0mfast_args\u001b[0m\u001b[0;34m,\u001b[0m \u001b[0;34m**\u001b[0m\u001b[0mfast_kwargs\u001b[0m\u001b[0;34m)\u001b[0m\u001b[0;34m\u001b[0m\u001b[0;34m\u001b[0m\u001b[0m\n\u001b[0m\u001b[1;32m    997\u001b[0m             \u001b[0;32mif\u001b[0m \u001b[0mresult\u001b[0m \u001b[0;32mis\u001b[0m \u001b[0mNotImplemented\u001b[0m\u001b[0;34m:\u001b[0m\u001b[0;34m\u001b[0m\u001b[0;34m\u001b[0m\u001b[0m\n\u001b[1;32m    998\u001b[0m                 \u001b[0;31m# try slow path\u001b[0m\u001b[0;34m\u001b[0m\u001b[0;34m\u001b[0m\u001b[0m\n",
            "\u001b[0;32m/usr/local/lib/python3.11/dist-packages/cudf/pandas/fast_slow_proxy.py\u001b[0m in \u001b[0;36mcall_operator\u001b[0;34m(fn, args, kwargs)\u001b[0m\n\u001b[1;32m     26\u001b[0m \u001b[0;34m\u001b[0m\u001b[0m\n\u001b[1;32m     27\u001b[0m \u001b[0;32mdef\u001b[0m \u001b[0mcall_operator\u001b[0m\u001b[0;34m(\u001b[0m\u001b[0mfn\u001b[0m\u001b[0;34m,\u001b[0m \u001b[0margs\u001b[0m\u001b[0;34m,\u001b[0m \u001b[0mkwargs\u001b[0m\u001b[0;34m)\u001b[0m\u001b[0;34m:\u001b[0m\u001b[0;34m\u001b[0m\u001b[0;34m\u001b[0m\u001b[0m\n\u001b[0;32m---> 28\u001b[0;31m     \u001b[0;32mreturn\u001b[0m \u001b[0mfn\u001b[0m\u001b[0;34m(\u001b[0m\u001b[0;34m*\u001b[0m\u001b[0margs\u001b[0m\u001b[0;34m,\u001b[0m \u001b[0;34m**\u001b[0m\u001b[0mkwargs\u001b[0m\u001b[0;34m)\u001b[0m\u001b[0;34m\u001b[0m\u001b[0;34m\u001b[0m\u001b[0m\n\u001b[0m\u001b[1;32m     29\u001b[0m \u001b[0;34m\u001b[0m\u001b[0m\n\u001b[1;32m     30\u001b[0m \u001b[0;34m\u001b[0m\u001b[0m\n",
            "\u001b[0;32m/usr/local/lib/python3.11/dist-packages/cudf/core/reshape.py\u001b[0m in \u001b[0;36mconcat\u001b[0;34m(objs, axis, join, ignore_index, keys, levels, names, verify_integrity, sort)\u001b[0m\n\u001b[1;32m    403\u001b[0m         \u001b[0;31m# would anyway return an empty dataframe below\u001b[0m\u001b[0;34m\u001b[0m\u001b[0;34m\u001b[0m\u001b[0m\n\u001b[1;32m    404\u001b[0m         \u001b[0;32mif\u001b[0m \u001b[0;32mnot\u001b[0m \u001b[0mempty_inner\u001b[0m\u001b[0;34m:\u001b[0m\u001b[0;34m\u001b[0m\u001b[0;34m\u001b[0m\u001b[0m\n\u001b[0;32m--> 405\u001b[0;31m             \u001b[0mobjs\u001b[0m \u001b[0;34m=\u001b[0m \u001b[0m_align_objs\u001b[0m\u001b[0;34m(\u001b[0m\u001b[0mobjs\u001b[0m\u001b[0;34m,\u001b[0m \u001b[0mhow\u001b[0m\u001b[0;34m=\u001b[0m\u001b[0mjoin\u001b[0m\u001b[0;34m,\u001b[0m \u001b[0msort\u001b[0m\u001b[0;34m=\u001b[0m\u001b[0msort\u001b[0m\u001b[0;34m)\u001b[0m\u001b[0;34m\u001b[0m\u001b[0;34m\u001b[0m\u001b[0m\n\u001b[0m\u001b[1;32m    406\u001b[0m             \u001b[0mresult_index\u001b[0m \u001b[0;34m=\u001b[0m \u001b[0mobjs\u001b[0m\u001b[0;34m[\u001b[0m\u001b[0;36m0\u001b[0m\u001b[0;34m]\u001b[0m\u001b[0;34m.\u001b[0m\u001b[0mindex\u001b[0m\u001b[0;34m\u001b[0m\u001b[0;34m\u001b[0m\u001b[0m\n\u001b[1;32m    407\u001b[0m         \u001b[0;32melse\u001b[0m\u001b[0;34m:\u001b[0m\u001b[0;34m\u001b[0m\u001b[0;34m\u001b[0m\u001b[0m\n",
            "\u001b[0;32m/usr/local/lib/python3.11/dist-packages/cudf/core/reshape.py\u001b[0m in \u001b[0;36m_align_objs\u001b[0;34m(objs, how, sort)\u001b[0m\n\u001b[1;32m     53\u001b[0m \u001b[0;34m\u001b[0m\u001b[0m\n\u001b[1;32m     54\u001b[0m     \u001b[0;32mif\u001b[0m \u001b[0mnot_matching_index\u001b[0m\u001b[0;34m:\u001b[0m\u001b[0;34m\u001b[0m\u001b[0;34m\u001b[0m\u001b[0m\n\u001b[0;32m---> 55\u001b[0;31m         \u001b[0;32mif\u001b[0m \u001b[0;32mnot\u001b[0m \u001b[0mall\u001b[0m\u001b[0;34m(\u001b[0m\u001b[0mo\u001b[0m\u001b[0;34m.\u001b[0m\u001b[0mindex\u001b[0m\u001b[0;34m.\u001b[0m\u001b[0mis_unique\u001b[0m \u001b[0;32mfor\u001b[0m \u001b[0mo\u001b[0m \u001b[0;32min\u001b[0m \u001b[0mobjs\u001b[0m\u001b[0;34m)\u001b[0m\u001b[0;34m:\u001b[0m\u001b[0;34m\u001b[0m\u001b[0;34m\u001b[0m\u001b[0m\n\u001b[0m\u001b[1;32m     56\u001b[0m             \u001b[0;32mraise\u001b[0m \u001b[0mValueError\u001b[0m\u001b[0;34m(\u001b[0m\u001b[0;34m\"cannot reindex on an axis with duplicate labels\"\u001b[0m\u001b[0;34m)\u001b[0m\u001b[0;34m\u001b[0m\u001b[0;34m\u001b[0m\u001b[0m\n\u001b[1;32m     57\u001b[0m \u001b[0;34m\u001b[0m\u001b[0m\n",
            "\u001b[0;32m/usr/local/lib/python3.11/dist-packages/cudf/core/reshape.py\u001b[0m in \u001b[0;36m<genexpr>\u001b[0;34m(.0)\u001b[0m\n\u001b[1;32m     53\u001b[0m \u001b[0;34m\u001b[0m\u001b[0m\n\u001b[1;32m     54\u001b[0m     \u001b[0;32mif\u001b[0m \u001b[0mnot_matching_index\u001b[0m\u001b[0;34m:\u001b[0m\u001b[0;34m\u001b[0m\u001b[0;34m\u001b[0m\u001b[0m\n\u001b[0;32m---> 55\u001b[0;31m         \u001b[0;32mif\u001b[0m \u001b[0;32mnot\u001b[0m \u001b[0mall\u001b[0m\u001b[0;34m(\u001b[0m\u001b[0mo\u001b[0m\u001b[0;34m.\u001b[0m\u001b[0mindex\u001b[0m\u001b[0;34m.\u001b[0m\u001b[0mis_unique\u001b[0m \u001b[0;32mfor\u001b[0m \u001b[0mo\u001b[0m \u001b[0;32min\u001b[0m \u001b[0mobjs\u001b[0m\u001b[0;34m)\u001b[0m\u001b[0;34m:\u001b[0m\u001b[0;34m\u001b[0m\u001b[0;34m\u001b[0m\u001b[0m\n\u001b[0m\u001b[1;32m     56\u001b[0m             \u001b[0;32mraise\u001b[0m \u001b[0mValueError\u001b[0m\u001b[0;34m(\u001b[0m\u001b[0;34m\"cannot reindex on an axis with duplicate labels\"\u001b[0m\u001b[0;34m)\u001b[0m\u001b[0;34m\u001b[0m\u001b[0;34m\u001b[0m\u001b[0m\n\u001b[1;32m     57\u001b[0m \u001b[0;34m\u001b[0m\u001b[0m\n",
            "\u001b[0;32m/usr/lib/python3.11/functools.py\u001b[0m in \u001b[0;36m__get__\u001b[0;34m(self, instance, owner)\u001b[0m\n\u001b[1;32m    999\u001b[0m                 \u001b[0mval\u001b[0m \u001b[0;34m=\u001b[0m \u001b[0mcache\u001b[0m\u001b[0;34m.\u001b[0m\u001b[0mget\u001b[0m\u001b[0;34m(\u001b[0m\u001b[0mself\u001b[0m\u001b[0;34m.\u001b[0m\u001b[0mattrname\u001b[0m\u001b[0;34m,\u001b[0m \u001b[0m_NOT_FOUND\u001b[0m\u001b[0;34m)\u001b[0m\u001b[0;34m\u001b[0m\u001b[0;34m\u001b[0m\u001b[0m\n\u001b[1;32m   1000\u001b[0m                 \u001b[0;32mif\u001b[0m \u001b[0mval\u001b[0m \u001b[0;32mis\u001b[0m \u001b[0m_NOT_FOUND\u001b[0m\u001b[0;34m:\u001b[0m\u001b[0;34m\u001b[0m\u001b[0;34m\u001b[0m\u001b[0m\n\u001b[0;32m-> 1001\u001b[0;31m                     \u001b[0mval\u001b[0m \u001b[0;34m=\u001b[0m \u001b[0mself\u001b[0m\u001b[0;34m.\u001b[0m\u001b[0mfunc\u001b[0m\u001b[0;34m(\u001b[0m\u001b[0minstance\u001b[0m\u001b[0;34m)\u001b[0m\u001b[0;34m\u001b[0m\u001b[0;34m\u001b[0m\u001b[0m\n\u001b[0m\u001b[1;32m   1002\u001b[0m                     \u001b[0;32mtry\u001b[0m\u001b[0;34m:\u001b[0m\u001b[0;34m\u001b[0m\u001b[0;34m\u001b[0m\u001b[0m\n\u001b[1;32m   1003\u001b[0m                         \u001b[0mcache\u001b[0m\u001b[0;34m[\u001b[0m\u001b[0mself\u001b[0m\u001b[0;34m.\u001b[0m\u001b[0mattrname\u001b[0m\u001b[0;34m]\u001b[0m \u001b[0;34m=\u001b[0m \u001b[0mval\u001b[0m\u001b[0;34m\u001b[0m\u001b[0;34m\u001b[0m\u001b[0m\n",
            "\u001b[0;32m/usr/local/lib/python3.11/dist-packages/cudf/utils/performance_tracking.py\u001b[0m in \u001b[0;36mwrapper\u001b[0;34m(*args, **kwargs)\u001b[0m\n\u001b[1;32m     49\u001b[0m                     )\n\u001b[1;32m     50\u001b[0m                 )\n\u001b[0;32m---> 51\u001b[0;31m             \u001b[0;32mreturn\u001b[0m \u001b[0mfunc\u001b[0m\u001b[0;34m(\u001b[0m\u001b[0;34m*\u001b[0m\u001b[0margs\u001b[0m\u001b[0;34m,\u001b[0m \u001b[0;34m**\u001b[0m\u001b[0mkwargs\u001b[0m\u001b[0;34m)\u001b[0m\u001b[0;34m\u001b[0m\u001b[0;34m\u001b[0m\u001b[0m\n\u001b[0m\u001b[1;32m     52\u001b[0m \u001b[0;34m\u001b[0m\u001b[0m\n\u001b[1;32m     53\u001b[0m     \u001b[0;32mreturn\u001b[0m \u001b[0mwrapper\u001b[0m\u001b[0;34m\u001b[0m\u001b[0;34m\u001b[0m\u001b[0m\n",
            "\u001b[0;32m/usr/local/lib/python3.11/dist-packages/cudf/core/multiindex.py\u001b[0m in \u001b[0;36mis_unique\u001b[0;34m(self)\u001b[0m\n\u001b[1;32m   1667\u001b[0m     \u001b[0;34m@\u001b[0m\u001b[0m_performance_tracking\u001b[0m\u001b[0;34m\u001b[0m\u001b[0;34m\u001b[0m\u001b[0m\n\u001b[1;32m   1668\u001b[0m     \u001b[0;32mdef\u001b[0m \u001b[0mis_unique\u001b[0m\u001b[0;34m(\u001b[0m\u001b[0mself\u001b[0m\u001b[0;34m)\u001b[0m \u001b[0;34m->\u001b[0m \u001b[0mbool\u001b[0m\u001b[0;34m:\u001b[0m\u001b[0;34m\u001b[0m\u001b[0;34m\u001b[0m\u001b[0m\n\u001b[0;32m-> 1669\u001b[0;31m         \u001b[0;32mreturn\u001b[0m \u001b[0mlen\u001b[0m\u001b[0;34m(\u001b[0m\u001b[0mself\u001b[0m\u001b[0;34m)\u001b[0m \u001b[0;34m==\u001b[0m \u001b[0mlen\u001b[0m\u001b[0;34m(\u001b[0m\u001b[0mself\u001b[0m\u001b[0;34m.\u001b[0m\u001b[0munique\u001b[0m\u001b[0;34m(\u001b[0m\u001b[0;34m)\u001b[0m\u001b[0;34m)\u001b[0m\u001b[0;34m\u001b[0m\u001b[0;34m\u001b[0m\u001b[0m\n\u001b[0m\u001b[1;32m   1670\u001b[0m \u001b[0;34m\u001b[0m\u001b[0m\n\u001b[1;32m   1671\u001b[0m     \u001b[0;34m@\u001b[0m\u001b[0mproperty\u001b[0m\u001b[0;34m\u001b[0m\u001b[0;34m\u001b[0m\u001b[0m\n",
            "\u001b[0;32m/usr/local/lib/python3.11/dist-packages/cudf/utils/performance_tracking.py\u001b[0m in \u001b[0;36mwrapper\u001b[0;34m(*args, **kwargs)\u001b[0m\n\u001b[1;32m     49\u001b[0m                     )\n\u001b[1;32m     50\u001b[0m                 )\n\u001b[0;32m---> 51\u001b[0;31m             \u001b[0;32mreturn\u001b[0m \u001b[0mfunc\u001b[0m\u001b[0;34m(\u001b[0m\u001b[0;34m*\u001b[0m\u001b[0margs\u001b[0m\u001b[0;34m,\u001b[0m \u001b[0;34m**\u001b[0m\u001b[0mkwargs\u001b[0m\u001b[0;34m)\u001b[0m\u001b[0;34m\u001b[0m\u001b[0;34m\u001b[0m\u001b[0m\n\u001b[0m\u001b[1;32m     52\u001b[0m \u001b[0;34m\u001b[0m\u001b[0m\n\u001b[1;32m     53\u001b[0m     \u001b[0;32mreturn\u001b[0m \u001b[0mwrapper\u001b[0m\u001b[0;34m\u001b[0m\u001b[0;34m\u001b[0m\u001b[0m\n",
            "\u001b[0;32m/usr/local/lib/python3.11/dist-packages/cudf/core/multiindex.py\u001b[0m in \u001b[0;36munique\u001b[0;34m(self, level)\u001b[0m\n\u001b[1;32m   1784\u001b[0m     \u001b[0;32mdef\u001b[0m \u001b[0munique\u001b[0m\u001b[0;34m(\u001b[0m\u001b[0mself\u001b[0m\u001b[0;34m,\u001b[0m \u001b[0mlevel\u001b[0m\u001b[0;34m:\u001b[0m \u001b[0mint\u001b[0m \u001b[0;34m|\u001b[0m \u001b[0;32mNone\u001b[0m \u001b[0;34m=\u001b[0m \u001b[0;32mNone\u001b[0m\u001b[0;34m)\u001b[0m \u001b[0;34m->\u001b[0m \u001b[0mSelf\u001b[0m \u001b[0;34m|\u001b[0m \u001b[0mcudf\u001b[0m\u001b[0;34m.\u001b[0m\u001b[0mIndex\u001b[0m\u001b[0;34m:\u001b[0m\u001b[0;34m\u001b[0m\u001b[0;34m\u001b[0m\u001b[0m\n\u001b[1;32m   1785\u001b[0m         \u001b[0;32mif\u001b[0m \u001b[0mlevel\u001b[0m \u001b[0;32mis\u001b[0m \u001b[0;32mNone\u001b[0m\u001b[0;34m:\u001b[0m\u001b[0;34m\u001b[0m\u001b[0;34m\u001b[0m\u001b[0m\n\u001b[0;32m-> 1786\u001b[0;31m             \u001b[0;32mreturn\u001b[0m \u001b[0mself\u001b[0m\u001b[0;34m.\u001b[0m\u001b[0mdrop_duplicates\u001b[0m\u001b[0;34m(\u001b[0m\u001b[0mkeep\u001b[0m\u001b[0;34m=\u001b[0m\u001b[0;34m\"first\"\u001b[0m\u001b[0;34m)\u001b[0m\u001b[0;34m\u001b[0m\u001b[0;34m\u001b[0m\u001b[0m\n\u001b[0m\u001b[1;32m   1787\u001b[0m         \u001b[0;32melse\u001b[0m\u001b[0;34m:\u001b[0m\u001b[0;34m\u001b[0m\u001b[0;34m\u001b[0m\u001b[0m\n\u001b[1;32m   1788\u001b[0m             \u001b[0;32mreturn\u001b[0m \u001b[0mself\u001b[0m\u001b[0;34m.\u001b[0m\u001b[0mget_level_values\u001b[0m\u001b[0;34m(\u001b[0m\u001b[0mlevel\u001b[0m\u001b[0;34m)\u001b[0m\u001b[0;34m.\u001b[0m\u001b[0munique\u001b[0m\u001b[0;34m(\u001b[0m\u001b[0;34m)\u001b[0m\u001b[0;34m\u001b[0m\u001b[0;34m\u001b[0m\u001b[0m\n",
            "\u001b[0;32m/usr/local/lib/python3.11/dist-packages/cudf/core/_base_index.py\u001b[0m in \u001b[0;36mdrop_duplicates\u001b[0;34m(self, keep, nulls_are_equal)\u001b[0m\n\u001b[1;32m   1941\u001b[0m         \u001b[0;31m# Except RangeIndex.\u001b[0m\u001b[0;34m\u001b[0m\u001b[0;34m\u001b[0m\u001b[0m\n\u001b[1;32m   1942\u001b[0m         return self._from_columns_like_self(\n\u001b[0;32m-> 1943\u001b[0;31m             stream_compaction.drop_duplicates(\n\u001b[0m\u001b[1;32m   1944\u001b[0m                 \u001b[0mlist\u001b[0m\u001b[0;34m(\u001b[0m\u001b[0mself\u001b[0m\u001b[0;34m.\u001b[0m\u001b[0m_columns\u001b[0m\u001b[0;34m)\u001b[0m\u001b[0;34m,\u001b[0m\u001b[0;34m\u001b[0m\u001b[0;34m\u001b[0m\u001b[0m\n\u001b[1;32m   1945\u001b[0m                 \u001b[0mkeep\u001b[0m\u001b[0;34m=\u001b[0m\u001b[0mkeep\u001b[0m\u001b[0;34m,\u001b[0m\u001b[0;34m\u001b[0m\u001b[0;34m\u001b[0m\u001b[0m\n",
            "\u001b[0;32m/usr/lib/python3.11/contextlib.py\u001b[0m in \u001b[0;36minner\u001b[0;34m(*args, **kwds)\u001b[0m\n\u001b[1;32m     79\u001b[0m         \u001b[0;32mdef\u001b[0m \u001b[0minner\u001b[0m\u001b[0;34m(\u001b[0m\u001b[0;34m*\u001b[0m\u001b[0margs\u001b[0m\u001b[0;34m,\u001b[0m \u001b[0;34m**\u001b[0m\u001b[0mkwds\u001b[0m\u001b[0;34m)\u001b[0m\u001b[0;34m:\u001b[0m\u001b[0;34m\u001b[0m\u001b[0;34m\u001b[0m\u001b[0m\n\u001b[1;32m     80\u001b[0m             \u001b[0;32mwith\u001b[0m \u001b[0mself\u001b[0m\u001b[0;34m.\u001b[0m\u001b[0m_recreate_cm\u001b[0m\u001b[0;34m(\u001b[0m\u001b[0;34m)\u001b[0m\u001b[0;34m:\u001b[0m\u001b[0;34m\u001b[0m\u001b[0;34m\u001b[0m\u001b[0m\n\u001b[0;32m---> 81\u001b[0;31m                 \u001b[0;32mreturn\u001b[0m \u001b[0mfunc\u001b[0m\u001b[0;34m(\u001b[0m\u001b[0;34m*\u001b[0m\u001b[0margs\u001b[0m\u001b[0;34m,\u001b[0m \u001b[0;34m**\u001b[0m\u001b[0mkwds\u001b[0m\u001b[0;34m)\u001b[0m\u001b[0;34m\u001b[0m\u001b[0;34m\u001b[0m\u001b[0m\n\u001b[0m\u001b[1;32m     82\u001b[0m         \u001b[0;32mreturn\u001b[0m \u001b[0minner\u001b[0m\u001b[0;34m\u001b[0m\u001b[0;34m\u001b[0m\u001b[0m\n\u001b[1;32m     83\u001b[0m \u001b[0;34m\u001b[0m\u001b[0m\n",
            "\u001b[0;32m/usr/local/lib/python3.11/dist-packages/cudf/core/_internals/stream_compaction.py\u001b[0m in \u001b[0;36mdrop_duplicates\u001b[0;34m(columns, keys, keep, nulls_are_equal)\u001b[0m\n\u001b[1;32m    110\u001b[0m         \u001b[0;32mraise\u001b[0m \u001b[0mValueError\u001b[0m\u001b[0;34m(\u001b[0m\u001b[0;34m'keep must be either \"first\", \"last\" or False'\u001b[0m\u001b[0;34m)\u001b[0m\u001b[0;34m\u001b[0m\u001b[0;34m\u001b[0m\u001b[0m\n\u001b[1;32m    111\u001b[0m \u001b[0;34m\u001b[0m\u001b[0m\n\u001b[0;32m--> 112\u001b[0;31m     plc_table = plc.stream_compaction.stable_distinct(\n\u001b[0m\u001b[1;32m    113\u001b[0m         \u001b[0mplc\u001b[0m\u001b[0;34m.\u001b[0m\u001b[0mTable\u001b[0m\u001b[0;34m(\u001b[0m\u001b[0;34m[\u001b[0m\u001b[0mcol\u001b[0m\u001b[0;34m.\u001b[0m\u001b[0mto_pylibcudf\u001b[0m\u001b[0;34m(\u001b[0m\u001b[0mmode\u001b[0m\u001b[0;34m=\u001b[0m\u001b[0;34m\"read\"\u001b[0m\u001b[0;34m)\u001b[0m \u001b[0;32mfor\u001b[0m \u001b[0mcol\u001b[0m \u001b[0;32min\u001b[0m \u001b[0mcolumns\u001b[0m\u001b[0;34m]\u001b[0m\u001b[0;34m)\u001b[0m\u001b[0;34m,\u001b[0m\u001b[0;34m\u001b[0m\u001b[0;34m\u001b[0m\u001b[0m\n\u001b[1;32m    114\u001b[0m         \u001b[0mkeys\u001b[0m \u001b[0;32mif\u001b[0m \u001b[0mkeys\u001b[0m \u001b[0;32mis\u001b[0m \u001b[0;32mnot\u001b[0m \u001b[0;32mNone\u001b[0m \u001b[0;32melse\u001b[0m \u001b[0mlist\u001b[0m\u001b[0;34m(\u001b[0m\u001b[0mrange\u001b[0m\u001b[0;34m(\u001b[0m\u001b[0mlen\u001b[0m\u001b[0;34m(\u001b[0m\u001b[0mcolumns\u001b[0m\u001b[0;34m)\u001b[0m\u001b[0;34m)\u001b[0m\u001b[0;34m)\u001b[0m\u001b[0;34m,\u001b[0m\u001b[0;34m\u001b[0m\u001b[0;34m\u001b[0m\u001b[0m\n",
            "\u001b[0;32mstream_compaction.pyx\u001b[0m in \u001b[0;36mpylibcudf.stream_compaction.stable_distinct\u001b[0;34m()\u001b[0m\n",
            "\u001b[0;32mstream_compaction.pyx\u001b[0m in \u001b[0;36mpylibcudf.stream_compaction.stable_distinct\u001b[0;34m()\u001b[0m\n",
            "\u001b[0;32mtable.pyx\u001b[0m in \u001b[0;36mpylibcudf.table.Table.from_libcudf\u001b[0;34m()\u001b[0m\n",
            "\u001b[0;32mcolumn.pyx\u001b[0m in \u001b[0;36mpylibcudf.column.Column.from_libcudf\u001b[0;34m()\u001b[0m\n",
            "\u001b[0;32mdevice_buffer.pyx\u001b[0m in \u001b[0;36mrmm.pylibrmm.device_buffer.DeviceBuffer.c_from_unique_ptr\u001b[0;34m()\u001b[0m\n",
            "\u001b[0;32mdevice_buffer.pyx\u001b[0m in \u001b[0;36mrmm.pylibrmm.device_buffer.DeviceBuffer.__cinit__\u001b[0;34m()\u001b[0m\n",
            "\u001b[0;32mmemory_resource.pyx\u001b[0m in \u001b[0;36mrmm.pylibrmm.memory_resource.get_current_device_resource\u001b[0;34m()\u001b[0m\n",
            "\u001b[0;32m/usr/local/lib/python3.11/dist-packages/rmm/_cuda/gpu.py\u001b[0m in \u001b[0;36mgetDevice\u001b[0;34m()\u001b[0m\n\u001b[1;32m     54\u001b[0m     \u001b[0mGet\u001b[0m \u001b[0mthe\u001b[0m \u001b[0mcurrent\u001b[0m \u001b[0mCUDA\u001b[0m \u001b[0mdevice\u001b[0m\u001b[0;34m\u001b[0m\u001b[0;34m\u001b[0m\u001b[0m\n\u001b[1;32m     55\u001b[0m     \"\"\"\n\u001b[0;32m---> 56\u001b[0;31m     \u001b[0mstatus\u001b[0m\u001b[0;34m,\u001b[0m \u001b[0mdevice\u001b[0m \u001b[0;34m=\u001b[0m \u001b[0mruntime\u001b[0m\u001b[0;34m.\u001b[0m\u001b[0mcudaGetDevice\u001b[0m\u001b[0;34m(\u001b[0m\u001b[0;34m)\u001b[0m\u001b[0;34m\u001b[0m\u001b[0;34m\u001b[0m\u001b[0m\n\u001b[0m\u001b[1;32m     57\u001b[0m     \u001b[0;32mif\u001b[0m \u001b[0mstatus\u001b[0m \u001b[0;34m!=\u001b[0m \u001b[0mruntime\u001b[0m\u001b[0;34m.\u001b[0m\u001b[0mcudaError_t\u001b[0m\u001b[0;34m.\u001b[0m\u001b[0mcudaSuccess\u001b[0m\u001b[0;34m:\u001b[0m\u001b[0;34m\u001b[0m\u001b[0;34m\u001b[0m\u001b[0m\n\u001b[1;32m     58\u001b[0m         \u001b[0;32mraise\u001b[0m \u001b[0mCUDARuntimeError\u001b[0m\u001b[0;34m(\u001b[0m\u001b[0mstatus\u001b[0m\u001b[0;34m)\u001b[0m\u001b[0;34m\u001b[0m\u001b[0;34m\u001b[0m\u001b[0m\n",
            "\u001b[0;31mKeyboardInterrupt\u001b[0m: "
          ]
        }
      ]
    },
    {
      "cell_type": "markdown",
      "source": [
        "## Example how to locate in dataframes and in sereies"
      ],
      "metadata": {
        "id": "XlkrSQJ8aSKT"
      }
    },
    {
      "source": [
        "# GOOGDailyClose_Series = GOOGDailyClose['close']\n",
        "\n",
        "# x = GOOGDailyClose.loc[('GOOG', 2020, 1, 2), 'close']\n",
        "# print(x)\n",
        "\n",
        "# y = GOOGDailyClose_Series.loc[('GOOG', 2020, 1, 2)]\n",
        "# print(y)"
      ],
      "cell_type": "code",
      "metadata": {
        "id": "EAJJI4s9PtYV"
      },
      "execution_count": 22,
      "outputs": []
    },
    {
      "cell_type": "markdown",
      "source": [
        "## Example graph"
      ],
      "metadata": {
        "id": "WjGziKSbFiNp"
      }
    },
    {
      "source": [
        "# # from matplotlib import pyplot as plt\n",
        "# # GOOGDailyClose['close'].plot(kind='line', figsize=(8, 4), title='close')\n",
        "# # plt.gca().spines[['top', 'right']].set_visible(False)\n",
        "\n",
        "# from matplotlib import pyplot as plt\n",
        "\n",
        "# # Create the plot for GOOGDailyClose\n",
        "# ax = GOOGDailyClose['close'].plot(kind='line', figsize=(8, 4), title='Closing Stock Prices')\n",
        "\n",
        "# # Add the plot for MSFTDailyClose to the same axes\n",
        "# MSFTDailyClose['close'].plot(kind='line', ax=ax)\n",
        "\n",
        "# # Hide the top and right spines\n",
        "# plt.gca().spines[['top', 'right']].set_visible(False)\n",
        "\n",
        "# # Add a legend to distinguish the lines\n",
        "# plt.legend(['GOOG', 'MSFT'])"
      ],
      "cell_type": "code",
      "execution_count": 23,
      "outputs": [],
      "metadata": {
        "id": "OPyPXSyWqeD7"
      }
    },
    {
      "cell_type": "markdown",
      "source": [
        "# Example Call Function from another file\n",
        "Eample Call Correlation_Coefficient function from another My Drive file"
      ],
      "metadata": {
        "id": "IZGBHr-YAJ5U"
      }
    },
    {
      "cell_type": "code",
      "source": [
        "# %run \"/content/drive/My Drive/Colab Notebooks/Correlation_Coefficient.ipynb\"\n",
        "\n",
        "# Correlation_Coefficient(GOOGDailyClose, MSFTDaily Close)\n"
      ],
      "metadata": {
        "id": "7rhY5LPO7oHq"
      },
      "execution_count": 24,
      "outputs": []
    }
  ]
}