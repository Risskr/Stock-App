{
  "nbformat": 4,
  "nbformat_minor": 0,
  "metadata": {
    "colab": {
      "provenance": [],
      "collapsed_sections": [
        "qPom_aYMeUSx",
        "Nn9reOwbE96J",
        "AuEQvbbnFGfT",
        "XlkrSQJ8aSKT",
        "WjGziKSbFiNp",
        "IZGBHr-YAJ5U"
      ],
      "machine_shape": "hm",
      "mount_file_id": "https://github.com/Risskr/Stock-App/blob/Simplified/StocksApp.ipynb",
      "authorship_tag": "ABX9TyN2iH1v+fc39jdfb/PWh2BH",
      "include_colab_link": true
    },
    "kernelspec": {
      "name": "python3",
      "display_name": "Python 3"
    },
    "language_info": {
      "name": "python"
    }
  },
  "cells": [
    {
      "cell_type": "markdown",
      "metadata": {
        "id": "view-in-github",
        "colab_type": "text"
      },
      "source": [
        "<a href=\"https://colab.research.google.com/github/Risskr/Stock-App/blob/Simplified/StocksApp.ipynb\" target=\"_parent\"><img src=\"https://colab.research.google.com/assets/colab-badge.svg\" alt=\"Open In Colab\"/></a>"
      ]
    },
    {
      "cell_type": "markdown",
      "source": [
        "# **Set Up**\n"
      ],
      "metadata": {
        "id": "qPom_aYMeUSx"
      }
    },
    {
      "cell_type": "code",
      "execution_count": 1,
      "metadata": {
        "id": "NqHgaNKkh5iP",
        "collapsed": true
      },
      "outputs": [],
      "source": [
        "# #refesh python script\n",
        "# get_ipython().kernel.do_shutdown(restart=True)\n",
        "\n",
        "# #Check GPUs\n",
        "# !nvidia-smi\n",
        "\n",
        "#load cudf to use GPUs for analysis\n",
        "#%load_ext cudf.pandas\n",
        "\n",
        "# import pandas\n",
        "import pandas as pd\n",
        "import datetime\n",
        "import pickle\n",
        "import numpy as np\n",
        "from tqdm.notebook import tqdm\n",
        "\n",
        "#!pip install tqdm==4.66.1"
      ]
    },
    {
      "cell_type": "markdown",
      "source": [
        "# **Examples**"
      ],
      "metadata": {
        "id": "pB5S7lY7ODCY"
      }
    },
    {
      "cell_type": "markdown",
      "source": [
        "## Example how to locate in dataframes and in sereies"
      ],
      "metadata": {
        "id": "XlkrSQJ8aSKT"
      }
    },
    {
      "source": [
        "# GOOGDailyClose_Series = GOOGDailyClose['close']\n",
        "\n",
        "#Dataframe example\n",
        "# x = GOOGDailyClose.loc[('GOOG', 2020, 1, 2), 'close']\n",
        "# print(x)\n",
        "\n",
        "#Series Example\n",
        "# y = GOOGDailyClose_Series.loc[('GOOG', 2020, 1, 2)]\n",
        "# print(y)"
      ],
      "cell_type": "code",
      "metadata": {
        "id": "EAJJI4s9PtYV"
      },
      "execution_count": null,
      "outputs": []
    },
    {
      "cell_type": "markdown",
      "source": [
        "## Example graph"
      ],
      "metadata": {
        "id": "WjGziKSbFiNp"
      }
    },
    {
      "source": [
        "# # from matplotlib import pyplot as plt\n",
        "# # GOOGDailyClose['close'].plot(kind='line', figsize=(8, 4), title='close')\n",
        "# # plt.gca().spines[['top', 'right']].set_visible(False)\n",
        "\n",
        "# from matplotlib import pyplot as plt\n",
        "\n",
        "# # Create the plot for GOOGDailyClose\n",
        "# ax = GOOGDailyClose['close'].plot(kind='line', figsize=(8, 4), title='Closing Stock Prices')\n",
        "\n",
        "# # Add the plot for MSFTDailyClose to the same axes\n",
        "# MSFTDailyClose['close'].plot(kind='line', ax=ax)\n",
        "\n",
        "# # Hide the top and right spines\n",
        "# plt.gca().spines[['top', 'right']].set_visible(False)\n",
        "\n",
        "# # Add a legend to distinguish the lines\n",
        "# plt.legend(['GOOG', 'MSFT'])"
      ],
      "cell_type": "code",
      "execution_count": null,
      "outputs": [],
      "metadata": {
        "id": "OPyPXSyWqeD7"
      }
    },
    {
      "cell_type": "markdown",
      "source": [
        "## Example Call Function from another file\n",
        "Eample Call Correlation_Coefficient function from another My Drive file"
      ],
      "metadata": {
        "id": "IZGBHr-YAJ5U"
      }
    },
    {
      "cell_type": "code",
      "source": [
        "# %run \"/content/drive/My Drive/Colab Notebooks/Correlation_Coefficient.ipynb\"\n",
        "\n",
        "# Correlation_Coefficient(GOOGDailyClose, MSFTDaily Close)\n"
      ],
      "metadata": {
        "id": "7rhY5LPO7oHq"
      },
      "execution_count": null,
      "outputs": []
    },
    {
      "cell_type": "markdown",
      "source": [
        "# **Get Stock Data**"
      ],
      "metadata": {
        "id": "xe0ltjSPehDV"
      }
    },
    {
      "cell_type": "markdown",
      "source": [
        "## Function: Download Stock Data to My Drive"
      ],
      "metadata": {
        "id": "Nn9reOwbE96J"
      }
    },
    {
      "cell_type": "code",
      "source": [
        "def DownloadStockData():\n",
        "  #Download the stock data\n",
        "  !if [ ! -f \"usa_stocks_30m.parquet\" ]; then curl https://storage.googleapis.com/rapidsai/colab-data/usa_stocks_30m.parquet -o usa_stocks_30m.parquet; else echo \"usa_stocks_30m.parquet found\"; fi\n",
        "\n",
        "  #move the stock data to my Drive\n",
        "  !mv usa_stocks_30m.parquet \"/content/drive/MyDrive/Colab Notebooks\""
      ],
      "metadata": {
        "id": "2ipu4MZZV3_y"
      },
      "execution_count": null,
      "outputs": []
    },
    {
      "cell_type": "markdown",
      "source": [
        "## Function: Import Stock Data from My Drive"
      ],
      "metadata": {
        "id": "AuEQvbbnFGfT"
      }
    },
    {
      "cell_type": "code",
      "source": [
        "def ImportStockData():\n",
        "  # Import the stock data from My Drive\n",
        "  # Define nasdaq_stocks as the stock data\n",
        "  # Specify the full path to the file in your Google Drive\n",
        "  nasdaq_stocks = pd.read_parquet(\"/content/drive/MyDrive/Colab Notebooks/usa_stocks_30m.parquet\")\n",
        "  return nasdaq_stocks\n"
      ],
      "metadata": {
        "id": "U-s77lCvT7rQ"
      },
      "execution_count": null,
      "outputs": []
    },
    {
      "cell_type": "markdown",
      "source": [
        "## Function: Manipulate raw stock data for correlation funciton"
      ],
      "metadata": {
        "id": "VTUSJsRLFNcZ"
      }
    },
    {
      "cell_type": "code",
      "source": [
        "def ManipulateStockData(nasdaq_stocks):\n",
        "  #add year, month, and day columns\n",
        "  #df[[\"year\", \"week\", \"day\"]] = df.datetime.dt.isocalendar()\n",
        "  nasdaq_stocks[\"year\"] = nasdaq_stocks.datetime.dt.year\n",
        "  nasdaq_stocks[\"month\"] = nasdaq_stocks.datetime.dt.month\n",
        "  nasdaq_stocks[\"day\"] = nasdaq_stocks.datetime.dt.day\n",
        "\n",
        "  # Filter the DataFrame based on the 'year' column\n",
        "  stock_TimeFiltered = nasdaq_stocks.loc[nasdaq_stocks['year'] >= 2023]\n",
        "\n",
        "  #stock_TimeFiltered.info()\n",
        "  #stock_TimeFiltered.head()\n",
        "\n",
        "  #aggregate data by ticker, month, day, closing cost.\n",
        "  stock_TimeFiltered_aggregated_close = stock_TimeFiltered.groupby([\"ticker\", \"year\", \"month\", \"day\"]).agg({\"close\": \"last\"})\n",
        "\n",
        "  #stock_TimeFiltered_aggregated_close.info()\n",
        "  #stock_TimeFiltered_aggregated_close.head()\n",
        "  return stock_TimeFiltered_aggregated_close"
      ],
      "metadata": {
        "id": "Gl82QadwUTHF"
      },
      "execution_count": null,
      "outputs": []
    },
    {
      "cell_type": "markdown",
      "source": [
        "## Functions: Export/Import variables to My Drive"
      ],
      "metadata": {
        "id": "EYLv8nAunJdW"
      }
    },
    {
      "source": [
        "def export_variable(variable_name, file_name):\n",
        "\n",
        "  now = datetime.datetime.now()\n",
        "\n",
        "  save_path = f\"/content/drive/MyDrive/Colab Notebooks/{file_name}_{now}.parquet\"\n",
        "\n",
        "  try:\n",
        "      variable_name.to_parquet(save_path)\n",
        "      print(f\"Successfully saved the variable to {save_path}\")\n",
        "  except Exception as e:\n",
        "      print(f\"An error occurred while saving the file: {e}\")\n",
        "  return\n",
        "\n",
        "# # use this line to run the function\n",
        "# export_variable(lagged_correlations, \"lagged_correlation\")"
      ],
      "cell_type": "code",
      "metadata": {
        "id": "JfVjRhSjmq94"
      },
      "execution_count": null,
      "outputs": []
    },
    {
      "source": [
        "def import_variable(file_name):\n",
        "  load_path = f\"/content/drive/MyDrive/Colab Notebooks/{file_name}\"\n",
        "\n",
        "  try:\n",
        "      variable = pd.read_parquet(load_path)\n",
        "\n",
        "      print(f\"Successfully loaded data from {load_path}\")\n",
        "\n",
        "  except FileNotFoundError:\n",
        "      print(f\"Error: The file was not found at {load_path}\")\n",
        "  except Exception as e:\n",
        "      print(f\"An error occurred while loading the file: {e}\")\n",
        "  return variable\n",
        "\n",
        "# #run this funciton with this line\n",
        "# x = import_variable(\"testing2_2025-05-22 19:07:29.595379.parquet\")"
      ],
      "cell_type": "code",
      "metadata": {
        "id": "ziAUfSzymzUc"
      },
      "execution_count": 2,
      "outputs": []
    },
    {
      "cell_type": "markdown",
      "source": [
        "# **Correlation Coefficent funtions**"
      ],
      "metadata": {
        "id": "Yx4PfQYuNsi8"
      }
    },
    {
      "cell_type": "markdown",
      "source": [
        "## Function: Correlation_Coefficient with Lag for two stocks"
      ],
      "metadata": {
        "id": "_pVCvXWUGena"
      }
    },
    {
      "source": [
        "# Correlation_Coefficient Function with Lag\n",
        "# Using the Pearson correlation coefficient to determine correlation between two stocks with a lag\n",
        "\n",
        "def Correlation_Coefficient_Lag(StockA, StockB, k=0):\n",
        "  # Calculate the correlation between the 'close' columns with a lag\n",
        "  StockA_series = StockA['close'].droplevel('ticker')\n",
        "  StockB_series = StockB['close'].droplevel('ticker')\n",
        "\n",
        "  # Apply the lag to StockB\n",
        "  # Shift the StockB series down by k periods.\n",
        "  # Positive k shifts data points forward, filling early entries with NaN.\n",
        "  # Negative k shifts data points backward, filling late entries with NaN.\n",
        "  StockB_lagged = StockB_series.shift(k)\n",
        "\n",
        "  # Calculate the correlation between the original StockA and the lagged StockB\n",
        "  # The .corr() method automatically handles NaN values by excluding them\n",
        "  correlation = StockA_series.corr(StockB_lagged)\n",
        "\n",
        "  return correlation\n",
        "\n",
        "# # Example usage with a lag of k=1 day\n",
        "# correlation_value_lag1 = Correlation_Coefficient_Lag(GOOGDailyClose, MSFTDailyClose, k=1)\n",
        "# print(f\"The Pearson correlation coefficient between GOOG and MSFT with a 1-day lag on MSFT is: {correlation_value_lag1}\")\n",
        "\n",
        "# # Example usage with a lag of k=-1 day\n",
        "# correlation_value_lag_neg1 = Correlation_Coefficient_Lag(GOOGDailyClose, MSFTDailyClose, k=-1)\n",
        "# print(f\"The Pearson correlation coefficient between GOOG and MSFT with a -1-day lag on MSFT is: {correlation_value_lag_neg1}\")\n",
        "\n",
        "# # Example usage with no lag (k=0)\n",
        "# correlation_value_lag0 = Correlation_Coefficient_Lag(GOOGDailyClose, MSFTDailyClose, k=0)\n",
        "# print(f\"The Pearson correlation coefficient between GOOG and MSFT with no lag is: {correlation_value_lag0}\")"
      ],
      "cell_type": "code",
      "metadata": {
        "id": "RaVWV0y2PKdy"
      },
      "execution_count": null,
      "outputs": []
    },
    {
      "cell_type": "markdown",
      "source": [
        "## Function: Sample GOOG and MSFT Correlation"
      ],
      "metadata": {
        "id": "uK3tEpu0nyDv"
      }
    },
    {
      "cell_type": "code",
      "source": [
        "def GOOG_MSFT():\n",
        "  # Access the 'ticker' level from the index for filtering\n",
        "  GOOGDailyClose = stock_TimeFiltered_aggregated_close.loc[stock_TimeFiltered_aggregated_close.index.get_level_values('ticker') == \"GOOG\"]\n",
        "  MSFTDailyClose = stock_TimeFiltered_aggregated_close.loc[stock_TimeFiltered_aggregated_close.index.get_level_values('ticker') == \"MSFT\"]\n",
        "\n",
        "  GOOGDailyClose.info()\n",
        "  GOOGDailyClose.head()\n",
        "\n",
        "# Correlation_Coefficient Function\n",
        "# Using the Pearson correlation coefficient to determine correlation between two stocks\n",
        "\n",
        "def Correlation_Coefficient_testing(StockA, StockB):\n",
        "  # Calculate the correlation between the 'close' columns\n",
        "  StockA = StockA['close'].droplevel('ticker')\n",
        "  StockB = StockB['close'].droplevel('ticker')\n",
        "  correlation = StockA.corr(StockB)\n",
        "  return correlation\n",
        "\n",
        "  correlation_value = Correlation_Coefficient_testing(GOOGDailyClose, MSFTDailyClose)\n",
        "  print(f\"The Pearson correlation coefficient between GOOG and MSFT is: {correlation_value}\")"
      ],
      "metadata": {
        "id": "nHJt6DToYIU5",
        "collapsed": true
      },
      "execution_count": null,
      "outputs": []
    },
    {
      "cell_type": "markdown",
      "source": [
        "## Function: Correlation Coeficient for entire stock data set"
      ],
      "metadata": {
        "id": "-Aj3d3SJJe3p"
      }
    },
    {
      "source": [
        "def calculate_lagged_correlation(df, end_date, lag_days=1):\n",
        "  # import pandas as pd\n",
        "  # import numpy as np\n",
        "  # from tqdm.notebook import tqdm # Import tqdm\n",
        "  \"\"\"\n",
        "  Calculates the pairwise Pearson correlation coefficient between all stocks\n",
        "  in a DataFrame for a specified 6-month period with a given lag.\n",
        "\n",
        "  Args:\n",
        "    df: DataFrame with a MultiIndex (ticker, year, month, day) and 'close' column.\n",
        "    end_date: The end date (inclusive) of the 6-month period as a string 'YYYY-MM-DD'.\n",
        "    lag_days: The number of days to lag the second stock's data.\n",
        "\n",
        "  Returns:\n",
        "    A pandas DataFrame containing the pairwise correlation coefficients.\n",
        "  \"\"\"\n",
        "  # Convert end_date to datetime object\n",
        "  end_datetime = pd.to_datetime(end_date)\n",
        "\n",
        "  # Calculate the start date for the 6-month period\n",
        "  start_datetime = end_datetime - pd.DateOffset(months=6)\n",
        "\n",
        "  # Filter the DataFrame for the specified date range\n",
        "  # We need to create a datetime column from the index to filter\n",
        "  df['datetime'] = pd.to_datetime(df.index.get_level_values('year').astype(str) + '-' +\n",
        "                                   df.index.get_level_values('month').astype(str) + '-' +\n",
        "                                   df.index.get_level_values('day').astype(str))\n",
        "  filtered_df = df[(df['datetime'] >= start_datetime) & (df['datetime'] <= end_datetime)]\n",
        "  filtered_df = filtered_df.drop(columns=['datetime']) # Drop the temporary datetime column\n",
        "\n",
        "\n",
        "  # Get unique tickers in the filtered data\n",
        "  tickers = filtered_df.index.get_level_values('ticker').unique()\n",
        "\n",
        "  # Create an empty DataFrame to store correlation results\n",
        "  correlation_matrix = pd.DataFrame(index=tickers, columns=tickers, dtype=float)\n",
        "\n",
        "  # Iterate through all pairs of tickers with a progress bar\n",
        "  for ticker_a in tqdm(tickers, desc=\"Calculating correlations\"): # Add tqdm here\n",
        "\n",
        "    # Extract data for each ticker\n",
        "    stock_a_data = filtered_df.loc[ticker_a, 'close']\n",
        "\n",
        "    for ticker_b in tickers:\n",
        "      if ticker_a != ticker_b:\n",
        "        # Extract data for each ticker\n",
        "        stock_b_data = filtered_df.loc[ticker_b, 'close']\n",
        "\n",
        "        # Align the dataframes based on the date index\n",
        "        aligned_data = pd.merge(stock_a_data.reset_index(), stock_b_data.reset_index(),\n",
        "                                on=['year', 'month', 'day'], how='inner', suffixes=('_A', '_B'))\n",
        "        aligned_data['datetime'] = pd.to_datetime(aligned_data['year'].astype(str) + '-' +\n",
        "                                                  aligned_data['month'].astype(str) + '-' +\n",
        "                                                  aligned_data['day'].astype(str))\n",
        "        aligned_data = aligned_data.set_index('datetime').sort_index()\n",
        "\n",
        "        # Apply the lag to stock_b_data\n",
        "        lagged_stock_b_data = aligned_data['close_B'].shift(lag_days)\n",
        "\n",
        "        # Calculate correlation, dropping NaN values\n",
        "        correlation = aligned_data['close_A'].corr(lagged_stock_b_data)\n",
        "\n",
        "        # Store the correlation in the matrix\n",
        "        correlation_matrix.loc[ticker_a, ticker_b] = correlation\n",
        "\n",
        "  return correlation_matrix\n",
        "\n",
        "# Example usage:\n",
        "# Assuming 'stock_TimeFiltered_aggregated_close' is your aggregated stock data\n",
        "# and you want to calculate correlations ending on '2023-12-31' with a 1-day lag.\n",
        "# Replace 'stock_TimeFiltered_aggregated_close' with the actual name of your DataFrame.\n",
        "# end_date = '2023-12-31'\n",
        "# lagged_correlations = calculate_pairwise_lagged_correlation(stock_TimeFiltered_aggregated_close, end_date, lag_days=1)\n",
        "\n",
        "# Display the correlation matrix\n",
        "# print(lagged_correlations)\n",
        "\n",
        "# To access the correlation between specific stocks, e.g., GOOG and MSFT:\n",
        "# print(lagged_correlations.loc['GOOG', 'MSFT'])"
      ],
      "cell_type": "code",
      "metadata": {
        "collapsed": true,
        "id": "FtqUV9nKkT6q"
      },
      "execution_count": null,
      "outputs": []
    },
    {
      "cell_type": "markdown",
      "source": [
        "# **Run Fucntions**"
      ],
      "metadata": {
        "id": "aCEfO-bsKNCg"
      }
    },
    {
      "cell_type": "code",
      "source": [
        "# #import Stock data from MyDrive\n",
        "# nasdaq_stocks = ImportStockData()\n",
        "\n",
        "# #Manipulate the raw stock data for my correlation function\n",
        "# stock_TimeFiltered_aggregated_close = ManipulateStockData(nasdaq_stocks)\n",
        "\n",
        "# $ enter end date and run correlation function on entire stock data. This will take a couple of hours\n",
        "# end_date = '2023-12-31'\n",
        "# lagged_correlations = calculate_lagged_correlation(stock_TimeFiltered_aggregated_close, end_date, lag_days=1)\n",
        "\n",
        "# import correlation data from entire stock data that I saved off earlier on MyDrive\n",
        "sixMonth_correlation_data = import_variable(\"6month_correlation_data.parquet\")"
      ],
      "metadata": {
        "id": "BxwPwW4fKQa3",
        "colab": {
          "base_uri": "https://localhost:8080/"
        },
        "outputId": "c0a4d048-c01a-4cb7-e556-4a46a21a5a56"
      },
      "execution_count": 35,
      "outputs": [
        {
          "output_type": "stream",
          "name": "stdout",
          "text": [
            "Successfully loaded data from /content/drive/MyDrive/Colab Notebooks/6month_correlation_data.parquet\n"
          ]
        }
      ]
    },
    {
      "cell_type": "code",
      "source": [
        "#sixMonth_correlation_data.head()"
      ],
      "metadata": {
        "id": "KO9Imi9d37qN"
      },
      "execution_count": 4,
      "outputs": []
    },
    {
      "cell_type": "code",
      "source": [
        "# prompt: Use the sixMonth_correlation_data and create a new dataframe that is grouped by each ticker. This dateframe will have an index of the ticker.  Then there will be 4 columns of\n",
        "# 1) ticker_b\n",
        "# 2) the original positive or negative correlation coefficient with ticker_b.\n",
        "# 3) the z score for the correlation coefficient for all data for ticker_a using standard deviation and mean of that ticker’s data.\n",
        "# 4) the coefficient of determination.\n",
        "\n",
        "import pandas as pd\n",
        "def analyze_correlations(correlation_df):\n",
        "  \"\"\"\n",
        "  Analyzes a correlation matrix to create a new DataFrame grouped by ticker.\n",
        "\n",
        "  Args:\n",
        "    correlation_df: A pandas DataFrame where both index and columns are tickers\n",
        "                    representing pairwise correlation coefficients.\n",
        "\n",
        "  Returns:\n",
        "    A pandas DataFrame with ticker as the index and columns for ticker_b,\n",
        "    correlation, z_score, and coefficient of determination.\n",
        "  \"\"\"\n",
        "  analyzed_data = []\n",
        "\n",
        "  for ticker_a in correlation_df.index:\n",
        "    # Extract correlations for ticker_a against all other tickers\n",
        "    ticker_a_correlations = correlation_df.loc[ticker_a].drop(ticker_a) # Drop self-correlation\n",
        "\n",
        "    # Calculate the mean and standard deviation for ticker_a's correlations\n",
        "    mean_correlation = ticker_a_correlations.mean()\n",
        "    std_deviation = ticker_a_correlations.std()\n",
        "\n",
        "    for ticker_b, correlation in ticker_a_correlations.items():\n",
        "      # Calculate the z-score\n",
        "      if std_deviation != 0:\n",
        "        z_score = (correlation - mean_correlation) / std_deviation\n",
        "      else:\n",
        "        z_score = 0 # Handle cases with zero standard deviation\n",
        "\n",
        "      # Calculate the coefficient of determination (R-squared)\n",
        "      coefficient_of_determination = correlation**2\n",
        "\n",
        "      analyzed_data.append({\n",
        "          'ticker_a': ticker_a,\n",
        "          'ticker_b': ticker_b,\n",
        "          'correlation': correlation,\n",
        "          'z_score': z_score,\n",
        "          'coefficient_of_determination': coefficient_of_determination\n",
        "      })\n",
        "\n",
        "  # Create a new DataFrame\n",
        "  analyzed_df = pd.DataFrame(analyzed_data)\n",
        "\n",
        "  # Set the index to ticker_a and remove the ticker_a column\n",
        "  analyzed_df = analyzed_df.set_index('ticker_a')\n",
        "\n",
        "  return analyzed_df\n",
        "\n",
        "# Analyze the sixMonth_correlation_data\n",
        "grouped_correlation_data = analyze_correlations(sixMonth_correlation_data)\n",
        "\n",
        "# Display the first few rows of the new DataFrame\n",
        "print(grouped_correlation_data.head())\n",
        "\n",
        "# To access data for a specific ticker, e.g., 'GOOG':\n",
        "# print(grouped_correlation_data.loc['GOOG'])"
      ],
      "metadata": {
        "id": "TOvuBw9ATujx",
        "outputId": "53a9b06c-cfaf-403a-b196-9cdc9c3b12cc",
        "colab": {
          "base_uri": "https://localhost:8080/"
        }
      },
      "execution_count": 36,
      "outputs": [
        {
          "output_type": "stream",
          "name": "stdout",
          "text": [
            "         ticker_b  correlation   z_score  coefficient_of_determination\n",
            "ticker_a                                                              \n",
            "A             AAL     0.436758 -0.143640                      0.190758\n",
            "A            AAPL     0.757819  0.789383                      0.574290\n",
            "A            ABBV     0.288543 -0.574361                      0.083257\n",
            "A            ABNB     0.607573  0.352760                      0.369145\n",
            "A             ABT     0.809978  0.940958                      0.656064\n"
          ]
        }
      ]
    },
    {
      "source": [
        "def filter_by_zscore_gap(grouped_correlation_data, std_dev_multiplier=2):\n",
        "    \"\"\"\n",
        "    Filters correlation data based on the gap between sorted z-scores for each ticker,\n",
        "    allowing selection of the standard deviation multiplier.\n",
        "\n",
        "    Args:\n",
        "      grouped_correlation_data: DataFrame with ticker_a as index and columns\n",
        "                                for ticker_b, correlation, z_score, and\n",
        "                                coefficient of determination.\n",
        "      std_dev_multiplier: The number of standard deviations from the mean z-score\n",
        "                          gap to include (default is 2).\n",
        "\n",
        "    Returns:\n",
        "      A pandas DataFrame with the same structure as the input, containing\n",
        "      only the rows where the z-score gap is within the specified number of\n",
        "      standard deviations from the mean gap for that ticker.\n",
        "    \"\"\"\n",
        "    filtered_data = []\n",
        "\n",
        "    for ticker_a in grouped_correlation_data.index.unique():\n",
        "        # Get data for the current ticker and sort by z_score\n",
        "        ticker_a_data = grouped_correlation_data.loc[ticker_a].sort_values(by='z_score')\n",
        "\n",
        "        # Calculate the gap between consecutive z-scores\n",
        "        zscore_gaps = ticker_a_data['z_score'].diff().dropna() # Drop the first NaN value\n",
        "\n",
        "        # Ensure there are enough gaps to calculate mean and standard deviation\n",
        "        if len(zscore_gaps) > 1:\n",
        "            # Calculate the mean and standard deviation of the z-score gaps\n",
        "            mean_gap = zscore_gaps.mean()\n",
        "            std_gap = zscore_gaps.std()\n",
        "\n",
        "            # Determine the acceptable range for z-score gaps (mean +/- std_dev_multiplier * std)\n",
        "            lower_bound = mean_gap - std_dev_multiplier * std_gap\n",
        "            upper_bound = mean_gap + std_dev_multiplier * std_gap\n",
        "\n",
        "            # Calculate the absolute gap between each z-score and the *next* z-score\n",
        "            ticker_a_data['zscore_gap_after'] = ticker_a_data['z_score'].diff(-1).abs()\n",
        "            ticker_a_data['zscore_gap_after'] = ticker_a_data['zscore_gap_after'].shift(1)\n",
        "\n",
        "            # Drop the last NaN value from the shift\n",
        "            ticker_a_data = ticker_a_data.dropna(subset=['zscore_gap_after'])\n",
        "\n",
        "            # Determine the acceptable range for z-score gaps *after* the row\n",
        "            valid_rows = ticker_a_data[(ticker_a_data['zscore_gap_after'] >= lower_bound) &\n",
        "                                       (ticker_a_data['zscore_gap_after'] <= upper_bound)].copy() # Use .copy()\n",
        "\n",
        "            # Add the original data for these valid rows to the results list\n",
        "            filtered_data.extend(valid_rows[['ticker_b', 'correlation', 'z_score', 'coefficient_of_determination']].reset_index().values.tolist())\n",
        "\n",
        "        elif len(zscore_gaps) == 1:\n",
        "             # If there's only one gap, it cannot have a standard deviation, so we skip filtering for this ticker's gaps\n",
        "             pass\n",
        "\n",
        "        else:\n",
        "            # If there are no gaps (0 or 1 row of data for the ticker), skip\n",
        "            pass\n",
        "\n",
        "    # Create a new DataFrame from the filtered data\n",
        "    if filtered_data:\n",
        "        filtered_df = pd.DataFrame(filtered_data, columns=['ticker_a', 'ticker_b', 'correlation', 'z_score', 'coefficient_of_determination'])\n",
        "        filtered_df = filtered_df.set_index('ticker_a')\n",
        "    else:\n",
        "        filtered_df = pd.DataFrame(columns=['ticker_b', 'correlation', 'z_score', 'coefficient_of_determination']).rename_axis('ticker_a')\n",
        "\n",
        "    return filtered_df"
      ],
      "cell_type": "code",
      "metadata": {
        "id": "j3ny75p2aB-A"
      },
      "execution_count": null,
      "outputs": []
    },
    {
      "cell_type": "code",
      "source": [
        "# prompt: Print the row that only shows the index AAPL\n",
        "\n",
        "print(grouped_correlation_data.loc['AAPL'])"
      ],
      "metadata": {
        "id": "8sfM-0EYUVOQ",
        "outputId": "0e8ce333-ecff-420a-873a-7f6cbf535031",
        "colab": {
          "base_uri": "https://localhost:8080/"
        }
      },
      "execution_count": 44,
      "outputs": [
        {
          "output_type": "stream",
          "name": "stdout",
          "text": [
            "         ticker_b  correlation   z_score  coefficient_of_determination\n",
            "ticker_a                                                              \n",
            "AAPL         BALL     0.917978  1.399184                      0.842683\n"
          ]
        }
      ]
    },
    {
      "source": [
        "import networkx as nx\n",
        "import matplotlib.pyplot as plt\n",
        "import ipywidgets as widgets\n",
        "from IPython.display import display\n",
        "import numpy as np\n",
        "import pandas as pd\n",
        "\n",
        "def plot_ticker_network_modified(correlated_data, target_ticker):\n",
        "  \"\"\"\n",
        "  Plots a network graph for a specific ticker and its most correlated partners,\n",
        "  only including connections where the target ticker is in 'ticker_a'.\n",
        "  The distance between nodes is inversely proportional to the absolute correlation,\n",
        "  scaled based on the distribution of absolute correlations for the target ticker.\n",
        "\n",
        "  Args:\n",
        "    correlated_data: DataFrame with columns 'ticker_a', 'ticker_b', 'correlation_coefficient'.\n",
        "    target_ticker: The ticker for which to generate the network graph.\n",
        "  \"\"\"\n",
        "  # Filter the data to include only connections where the target ticker is in 'ticker_a'\n",
        "  ticker_connections = correlated_data[correlated_data['ticker_a'] == target_ticker].copy()\n",
        "\n",
        "  # Handle cases where there are no connections found after filtering\n",
        "  if ticker_connections.empty:\n",
        "      print(f\"No significant correlations found for ticker {target_ticker} as 'ticker_a' within the provided data.\")\n",
        "      return\n",
        "\n",
        "  # Calculate absolute correlations\n",
        "  ticker_connections['abs_correlation'] = ticker_connections['correlation_coefficient'].abs()\n",
        "\n",
        "  # --- Scaling for Distance (Inverse Relationship) ---\n",
        "  # We want larger absolute correlation to mean smaller distance.\n",
        "  # A simple transformation is 1 / abs_correlation. However, this can lead to\n",
        "  # infinite distance for zero correlation.\n",
        "  # A more robust approach is to scale relative to the range of absolute correlations.\n",
        "  min_abs_corr = ticker_connections['abs_correlation'].min()\n",
        "  max_abs_corr = ticker_connections['abs_correlation'].max()\n",
        "\n",
        "  # Avoid division by zero if all correlations are the same\n",
        "  if max_abs_corr == min_abs_corr:\n",
        "      # If all correlations are the same, set a fixed weight (distance)\n",
        "      ticker_connections['distance_weight'] = 1.0\n",
        "  else:\n",
        "      # Scale absolute correlations to a range (e.g., 0.1 to 1.0) where 1.0 is the min_abs_corr\n",
        "      # and 0.1 is the max_abs_corr. Then use the inverse.\n",
        "      # We map the range [min_abs_corr, max_abs_corr] to [1.0, 0.1] for distance.\n",
        "      # Linear mapping: distance_weight = m * abs_correlation + c\n",
        "      # At min_abs_corr, distance_weight = 1.0\n",
        "      # At max_abs_corr, distance_weight = 0.1\n",
        "      # Solving for m and c:\n",
        "      # 1.0 = m * min_abs_corr + c\n",
        "      # 0.1 = m * max_abs_corr + c\n",
        "      # Subtracting the second from the first: 0.9 = m * (min_abs_corr - max_abs_corr)\n",
        "      # m = 0.9 / (min_abs_corr - max_abs_corr)\n",
        "      # c = 1.0 - m * min_abs_corr\n",
        "\n",
        "      m = 0.9 / (min_abs_corr - max_abs_corr)\n",
        "      c = 1.0 - m * min_abs_corr\n",
        "\n",
        "      ticker_connections['distance_weight'] = m * ticker_connections['abs_correlation'] + c\n",
        "\n",
        "      # Ensure the distance_weight is within a reasonable range (e.g., 0.1 to 1.0)\n",
        "      ticker_connections['distance_weight'] = ticker_connections['distance_weight'].clip(lower=0.1, upper=1.0)\n",
        "\n",
        "\n",
        "  # Create a graph\n",
        "  # We'll use 'distance_weight' to influence the spring_layout\n",
        "  G = nx.from_pandas_edgelist(ticker_connections,\n",
        "                              'ticker_a', 'ticker_b', ['correlation_coefficient', 'abs_correlation', 'distance_weight'])\n",
        "\n",
        "\n",
        "  # Customize graph visualization\n",
        "  plt.figure(figsize=(12, 10))\n",
        "  # Use the calculated 'distance_weight' for spring_layout. Lower weight means stronger pull (closer).\n",
        "  # Note: spring_layout's 'weight' parameter represents the *strength* of the spring.\n",
        "  # So, if we want larger correlation to mean smaller distance, we need a weight\n",
        "  # that is inversely proportional to the desired distance.\n",
        "  # We can use 1 / distance_weight, but let's test the 'distance_weight' directly first,\n",
        "  # as spring_layout might interpret higher weights as stronger connections resulting in\n",
        "  # closer nodes, which is what we want based on our distance_weight calculation.\n",
        "  # Let's use 1/distance_weight as the weight for spring_layout, as a smaller distance_weight\n",
        "  # should correspond to a weaker spring force (larger distance).\n",
        "  # However, spring_layout uses higher weights for stronger springs (closer nodes).\n",
        "  # Our 'distance_weight' is already designed such that higher absolute correlation\n",
        "  # results in a smaller distance_weight value. So, for spring_layout, we want\n",
        "  # a weight that is *inversely* related to distance_weight. Let's try using\n",
        "  # the inverse of our distance_weight as the spring force weight.\n",
        "\n",
        "  # Create a weight for spring_layout that is inversely proportional to distance_weight\n",
        "  # Add a small epsilon to avoid division by zero if distance_weight is ever exactly 0\n",
        "  for u, v, d in G.edges(data=True):\n",
        "      d['spring_weight'] = 1.0 / (d['distance_weight'] + 1e-6)\n",
        "\n",
        "  pos = nx.spring_layout(G, k=0.5, weight='spring_weight', iterations=100) # Use the inverse distance as spring weight\n",
        "\n",
        "\n",
        "  # Draw nodes\n",
        "  nx.draw_networkx_nodes(G, pos, node_size=800, node_color='skyblue', alpha=0.9)\n",
        "\n",
        "  # Draw edges and color based on correlation sign\n",
        "  edge_colors = ['red' if data['correlation_coefficient'] < 0 else 'green' for u, v, data in G.edges(data=True)]\n",
        "  nx.draw_networkx_edges(G, pos, edge_color=edge_colors, width=2)\n",
        "\n",
        "  # Draw labels\n",
        "  nx.draw_networkx_labels(G, pos, font_size=10, font_weight='bold')\n",
        "\n",
        "  # Draw edge labels (correlation values)\n",
        "  edge_labels = {(u, v): data['correlation_coefficient'] for u, v, data in G.edges(data=True)}\n",
        "  formatted_edge_labels = {k: f'{v:.2f}' for k, v in edge_labels.items()}\n",
        "  nx.draw_networkx_edge_labels(G, pos, edge_labels=formatted_edge_labels, font_color='red')\n",
        "\n",
        "  plt.title(f'Network for {target_ticker} and Most Correlated Partners (Distance Scaled by Absolute Correlation)')\n",
        "  plt.axis('off') # Hide axes\n",
        "  plt.show()\n",
        "\n",
        "# Example usage (assuming most_correlated_stocks_long is your long format DataFrame)\n",
        "plot_ticker_network_modified(most_correlated_stocks_long, 'AXON') # Replace 'AAPL' with the ticker you want to visualize"
      ],
      "cell_type": "code",
      "metadata": {
        "id": "nKAINF5Z7rPN",
        "outputId": "688c8bc9-40a6-4e39-e9a8-e8c2c957eab1",
        "colab": {
          "base_uri": "https://localhost:8080/",
          "height": 829
        }
      },
      "execution_count": 16,
      "outputs": [
        {
          "output_type": "display_data",
          "data": {
            "text/plain": [
              "<Figure size 1200x1000 with 1 Axes>"
            ],
            "image/png": "[encoded data removed]"
          },
          "metadata": {}
        }
      ]
    }
  ]
}