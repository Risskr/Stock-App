{
  "nbformat": 4,
  "nbformat_minor": 0,
  "metadata": {
    "colab": {
      "provenance": [],
      "collapsed_sections": [
        "qPom_aYMeUSx",
        "Nn9reOwbE96J",
        "AuEQvbbnFGfT",
        "XlkrSQJ8aSKT",
        "WjGziKSbFiNp",
        "IZGBHr-YAJ5U"
      ],
      "mount_file_id": "https://github.com/Risskr/Stock-App/blob/Simplified/StocksApp.ipynb",
      "authorship_tag": "ABX9TyNz/haL+Tvw8DJHs3puD+L6",
      "include_colab_link": true
    },
    "kernelspec": {
      "name": "python3",
      "display_name": "Python 3"
    },
    "language_info": {
      "name": "python"
    }
  },
  "cells": [
    {
      "cell_type": "markdown",
      "metadata": {
        "id": "view-in-github",
        "colab_type": "text"
      },
      "source": [
        "<a href=\"https://colab.research.google.com/github/Risskr/Stock-App/blob/Simplified/StocksApp.ipynb\" target=\"_parent\"><img src=\"https://colab.research.google.com/assets/colab-badge.svg\" alt=\"Open In Colab\"/></a>"
      ]
    },
    {
      "cell_type": "markdown",
      "source": [
        "# **Set Up**\n"
      ],
      "metadata": {
        "id": "qPom_aYMeUSx"
      }
    },
    {
      "cell_type": "code",
      "execution_count": 1,
      "metadata": {
        "id": "NqHgaNKkh5iP",
        "collapsed": true
      },
      "outputs": [],
      "source": [
        "# #refesh python script\n",
        "# get_ipython().kernel.do_shutdown(restart=True)\n",
        "\n",
        "# #Check GPUs\n",
        "# !nvidia-smi\n",
        "\n",
        "#load cudf to use GPUs for analysis\n",
        "#%load_ext cudf.pandas\n",
        "\n",
        "# import pandas\n",
        "import pandas as pd\n",
        "import datetime\n",
        "import pickle\n",
        "import numpy as np\n",
        "from tqdm.notebook import tqdm\n",
        "\n",
        "#!pip install tqdm==4.66.1"
      ]
    },
    {
      "cell_type": "markdown",
      "source": [
        "## Functions: Export/Import variables to My Drive"
      ],
      "metadata": {
        "id": "EYLv8nAunJdW"
      }
    },
    {
      "source": [
        "def import_variable(file_name):\n",
        "  load_path = f\"/content/drive/MyDrive/Colab Notebooks/{file_name}\"\n",
        "\n",
        "  try:\n",
        "      variable = pd.read_parquet(load_path)\n",
        "\n",
        "      print(f\"Successfully loaded data from {load_path}\")\n",
        "\n",
        "  except FileNotFoundError:\n",
        "      print(f\"Error: The file was not found at {load_path}\")\n",
        "  except Exception as e:\n",
        "      print(f\"An error occurred while loading the file: {e}\")\n",
        "  return variable\n",
        "\n",
        "# #run this funciton with this line\n",
        "# x = import_variable(\"testing2_2025-05-22 19:07:29.595379.parquet\")"
      ],
      "cell_type": "code",
      "metadata": {
        "id": "ziAUfSzymzUc"
      },
      "execution_count": 2,
      "outputs": []
    },
    {
      "source": [
        "def export_variable(variable_name, file_name):\n",
        "\n",
        "  now = datetime.datetime.now()\n",
        "\n",
        "  save_path = f\"/content/drive/MyDrive/Colab Notebooks/{file_name}_{now}.parquet\"\n",
        "\n",
        "  try:\n",
        "      variable_name.to_parquet(save_path)\n",
        "      print(f\"Successfully saved the variable to {save_path}\")\n",
        "  except Exception as e:\n",
        "      print(f\"An error occurred while saving the file: {e}\")\n",
        "  return\n",
        "\n",
        "# # use this line to run the function\n",
        "# export_variable(lagged_correlations, \"lagged_correlation\")"
      ],
      "cell_type": "code",
      "metadata": {
        "id": "JfVjRhSjmq94"
      },
      "execution_count": null,
      "outputs": []
    },
    {
      "cell_type": "markdown",
      "source": [
        "# **Examples**"
      ],
      "metadata": {
        "id": "pB5S7lY7ODCY"
      }
    },
    {
      "cell_type": "markdown",
      "source": [
        "## Example how to locate in dataframes and in sereies"
      ],
      "metadata": {
        "id": "XlkrSQJ8aSKT"
      }
    },
    {
      "source": [
        "# GOOGDailyClose_Series = GOOGDailyClose['close']\n",
        "\n",
        "#Dataframe example\n",
        "# x = GOOGDailyClose.loc[('GOOG', 2020, 1, 2), 'close']\n",
        "# print(x)\n",
        "\n",
        "#Series Example\n",
        "# y = GOOGDailyClose_Series.loc[('GOOG', 2020, 1, 2)]\n",
        "# print(y)"
      ],
      "cell_type": "code",
      "metadata": {
        "id": "EAJJI4s9PtYV"
      },
      "execution_count": null,
      "outputs": []
    },
    {
      "cell_type": "markdown",
      "source": [
        "## Example graph"
      ],
      "metadata": {
        "id": "WjGziKSbFiNp"
      }
    },
    {
      "source": [
        "# # from matplotlib import pyplot as plt\n",
        "# # GOOGDailyClose['close'].plot(kind='line', figsize=(8, 4), title='close')\n",
        "# # plt.gca().spines[['top', 'right']].set_visible(False)\n",
        "\n",
        "# from matplotlib import pyplot as plt\n",
        "\n",
        "# # Create the plot for GOOGDailyClose\n",
        "# ax = GOOGDailyClose['close'].plot(kind='line', figsize=(8, 4), title='Closing Stock Prices')\n",
        "\n",
        "# # Add the plot for MSFTDailyClose to the same axes\n",
        "# MSFTDailyClose['close'].plot(kind='line', ax=ax)\n",
        "\n",
        "# # Hide the top and right spines\n",
        "# plt.gca().spines[['top', 'right']].set_visible(False)\n",
        "\n",
        "# # Add a legend to distinguish the lines\n",
        "# plt.legend(['GOOG', 'MSFT'])"
      ],
      "cell_type": "code",
      "execution_count": null,
      "outputs": [],
      "metadata": {
        "id": "OPyPXSyWqeD7"
      }
    },
    {
      "cell_type": "markdown",
      "source": [
        "## Example Call Function from another file\n",
        "Eample Call Correlation_Coefficient function from another My Drive file"
      ],
      "metadata": {
        "id": "IZGBHr-YAJ5U"
      }
    },
    {
      "cell_type": "code",
      "source": [
        "# %run \"/content/drive/My Drive/Colab Notebooks/Correlation_Coefficient.ipynb\"\n",
        "\n",
        "# Correlation_Coefficient(GOOGDailyClose, MSFTDaily Close)\n"
      ],
      "metadata": {
        "id": "7rhY5LPO7oHq"
      },
      "execution_count": null,
      "outputs": []
    },
    {
      "cell_type": "markdown",
      "source": [
        "# **Get Stock Data**"
      ],
      "metadata": {
        "id": "xe0ltjSPehDV"
      }
    },
    {
      "cell_type": "markdown",
      "source": [
        "## Function: Download Stock Data to My Drive"
      ],
      "metadata": {
        "id": "Nn9reOwbE96J"
      }
    },
    {
      "cell_type": "code",
      "source": [
        "def DownloadStockData():\n",
        "  #Download the stock data\n",
        "  !if [ ! -f \"usa_stocks_30m.parquet\" ]; then curl https://storage.googleapis.com/rapidsai/colab-data/usa_stocks_30m.parquet -o usa_stocks_30m.parquet; else echo \"usa_stocks_30m.parquet found\"; fi\n",
        "\n",
        "  #move the stock data to my Drive\n",
        "  !mv usa_stocks_30m.parquet \"/content/drive/MyDrive/Colab Notebooks\""
      ],
      "metadata": {
        "id": "2ipu4MZZV3_y"
      },
      "execution_count": null,
      "outputs": []
    },
    {
      "cell_type": "markdown",
      "source": [
        "## Function: Import Stock Data from My Drive"
      ],
      "metadata": {
        "id": "AuEQvbbnFGfT"
      }
    },
    {
      "cell_type": "code",
      "source": [
        "def ImportStockData():\n",
        "  # Import the stock data from My Drive\n",
        "  # Define nasdaq_stocks as the stock data\n",
        "  # Specify the full path to the file in your Google Drive\n",
        "  nasdaq_stocks = pd.read_parquet(\"/content/drive/MyDrive/Colab Notebooks/usa_stocks_30m.parquet\")\n",
        "  return nasdaq_stocks\n",
        "\n",
        "# #import Stock data from MyDrive\n",
        "# nasdaq_stocks = ImportStockData()"
      ],
      "metadata": {
        "id": "U-s77lCvT7rQ"
      },
      "execution_count": null,
      "outputs": []
    },
    {
      "cell_type": "markdown",
      "source": [
        "## Function: Manipulate raw stock data for correlation funciton"
      ],
      "metadata": {
        "id": "VTUSJsRLFNcZ"
      }
    },
    {
      "cell_type": "code",
      "source": [
        "def ManipulateStockData(nasdaq_stocks):\n",
        "  #add year, month, and day columns\n",
        "  #df[[\"year\", \"week\", \"day\"]] = df.datetime.dt.isocalendar()\n",
        "  nasdaq_stocks[\"year\"] = nasdaq_stocks.datetime.dt.year\n",
        "  nasdaq_stocks[\"month\"] = nasdaq_stocks.datetime.dt.month\n",
        "  nasdaq_stocks[\"day\"] = nasdaq_stocks.datetime.dt.day\n",
        "\n",
        "  # Filter the DataFrame based on the 'year' column\n",
        "  stock_TimeFiltered = nasdaq_stocks.loc[nasdaq_stocks['year'] >= 2023]\n",
        "\n",
        "  #stock_TimeFiltered.info()\n",
        "  #stock_TimeFiltered.head()\n",
        "\n",
        "  #aggregate data by ticker, month, day, closing cost.\n",
        "  stock_TimeFiltered_aggregated_close = stock_TimeFiltered.groupby([\"ticker\", \"year\", \"month\", \"day\"]).agg({\"close\": \"last\"})\n",
        "\n",
        "  #stock_TimeFiltered_aggregated_close.info()\n",
        "  #stock_TimeFiltered_aggregated_close.head()\n",
        "  return stock_TimeFiltered_aggregated_close\n",
        "\n",
        "# #Manipulate the raw stock data for my correlation function\n",
        "# stock_TimeFiltered_aggregated_close = ManipulateStockData(nasdaq_stocks)"
      ],
      "metadata": {
        "id": "Gl82QadwUTHF"
      },
      "execution_count": null,
      "outputs": []
    },
    {
      "cell_type": "markdown",
      "source": [
        "# **Correlation Coefficent funtions**"
      ],
      "metadata": {
        "id": "Yx4PfQYuNsi8"
      }
    },
    {
      "cell_type": "markdown",
      "source": [
        "## Function: Correlation_Coefficient with Lag for two stocks"
      ],
      "metadata": {
        "id": "_pVCvXWUGena"
      }
    },
    {
      "source": [
        "# Correlation_Coefficient Function with Lag\n",
        "# Using the Pearson correlation coefficient to determine correlation between two stocks with a lag\n",
        "\n",
        "def Correlation_Coefficient_Lag(StockA, StockB, k=0):\n",
        "  # Calculate the correlation between the 'close' columns with a lag\n",
        "  StockA_series = StockA['close'].droplevel('ticker')\n",
        "  StockB_series = StockB['close'].droplevel('ticker')\n",
        "\n",
        "  # Apply the lag to StockB\n",
        "  # Shift the StockB series down by k periods.\n",
        "  # Positive k shifts data points forward, filling early entries with NaN.\n",
        "  # Negative k shifts data points backward, filling late entries with NaN.\n",
        "  StockB_lagged = StockB_series.shift(k)\n",
        "\n",
        "  # Calculate the correlation between the original StockA and the lagged StockB\n",
        "  # The .corr() method automatically handles NaN values by excluding them\n",
        "  correlation = StockA_series.corr(StockB_lagged)\n",
        "\n",
        "  return correlation\n",
        "\n",
        "# # Example usage with a lag of k=1 day\n",
        "# correlation_value_lag1 = Correlation_Coefficient_Lag(GOOGDailyClose, MSFTDailyClose, k=1)\n",
        "# print(f\"The Pearson correlation coefficient between GOOG and MSFT with a 1-day lag on MSFT is: {correlation_value_lag1}\")\n",
        "\n",
        "# # Example usage with a lag of k=-1 day\n",
        "# correlation_value_lag_neg1 = Correlation_Coefficient_Lag(GOOGDailyClose, MSFTDailyClose, k=-1)\n",
        "# print(f\"The Pearson correlation coefficient between GOOG and MSFT with a -1-day lag on MSFT is: {correlation_value_lag_neg1}\")\n",
        "\n",
        "# # Example usage with no lag (k=0)\n",
        "# correlation_value_lag0 = Correlation_Coefficient_Lag(GOOGDailyClose, MSFTDailyClose, k=0)\n",
        "# print(f\"The Pearson correlation coefficient between GOOG and MSFT with no lag is: {correlation_value_lag0}\")"
      ],
      "cell_type": "code",
      "metadata": {
        "id": "RaVWV0y2PKdy"
      },
      "execution_count": null,
      "outputs": []
    },
    {
      "cell_type": "markdown",
      "source": [
        "## Function: Sample GOOG and MSFT Correlation"
      ],
      "metadata": {
        "id": "uK3tEpu0nyDv"
      }
    },
    {
      "cell_type": "code",
      "source": [
        "def GOOG_MSFT():\n",
        "  # Access the 'ticker' level from the index for filtering\n",
        "  GOOGDailyClose = stock_TimeFiltered_aggregated_close.loc[stock_TimeFiltered_aggregated_close.index.get_level_values('ticker') == \"GOOG\"]\n",
        "  MSFTDailyClose = stock_TimeFiltered_aggregated_close.loc[stock_TimeFiltered_aggregated_close.index.get_level_values('ticker') == \"MSFT\"]\n",
        "\n",
        "  GOOGDailyClose.info()\n",
        "  GOOGDailyClose.head()\n",
        "\n",
        "# Correlation_Coefficient Function\n",
        "# Using the Pearson correlation coefficient to determine correlation between two stocks\n",
        "\n",
        "def Correlation_Coefficient_testing(StockA, StockB):\n",
        "  # Calculate the correlation between the 'close' columns\n",
        "  StockA = StockA['close'].droplevel('ticker')\n",
        "  StockB = StockB['close'].droplevel('ticker')\n",
        "  correlation = StockA.corr(StockB)\n",
        "  return correlation\n",
        "\n",
        "  correlation_value = Correlation_Coefficient_testing(GOOGDailyClose, MSFTDailyClose)\n",
        "  print(f\"The Pearson correlation coefficient between GOOG and MSFT is: {correlation_value}\")"
      ],
      "metadata": {
        "id": "nHJt6DToYIU5",
        "collapsed": true
      },
      "execution_count": null,
      "outputs": []
    },
    {
      "cell_type": "markdown",
      "source": [
        "## Function: Correlation Coeficient for entire stock data set"
      ],
      "metadata": {
        "id": "-Aj3d3SJJe3p"
      }
    },
    {
      "source": [
        "def calculate_lagged_correlation(df, end_date, lag_days=1):\n",
        "  # import pandas as pd\n",
        "  # import numpy as np\n",
        "  # from tqdm.notebook import tqdm # Import tqdm\n",
        "  \"\"\"\n",
        "  Calculates the pairwise Pearson correlation coefficient between all stocks\n",
        "  in a DataFrame for a specified 6-month period with a given lag.\n",
        "\n",
        "  Args:\n",
        "    df: DataFrame with a MultiIndex (ticker, year, month, day) and 'close' column.\n",
        "    end_date: The end date (inclusive) of the 6-month period as a string 'YYYY-MM-DD'.\n",
        "    lag_days: The number of days to lag the second stock's data.\n",
        "\n",
        "  Returns:\n",
        "    A pandas DataFrame containing the pairwise correlation coefficients.\n",
        "  \"\"\"\n",
        "  # Convert end_date to datetime object\n",
        "  end_datetime = pd.to_datetime(end_date)\n",
        "\n",
        "  # Calculate the start date for the 6-month period\n",
        "  start_datetime = end_datetime - pd.DateOffset(months=6)\n",
        "\n",
        "  # Filter the DataFrame for the specified date range\n",
        "  # We need to create a datetime column from the index to filter\n",
        "  df['datetime'] = pd.to_datetime(df.index.get_level_values('year').astype(str) + '-' +\n",
        "                                   df.index.get_level_values('month').astype(str) + '-' +\n",
        "                                   df.index.get_level_values('day').astype(str))\n",
        "  filtered_df = df[(df['datetime'] >= start_datetime) & (df['datetime'] <= end_datetime)]\n",
        "  filtered_df = filtered_df.drop(columns=['datetime']) # Drop the temporary datetime column\n",
        "\n",
        "\n",
        "  # Get unique tickers in the filtered data\n",
        "  tickers = filtered_df.index.get_level_values('ticker').unique()\n",
        "\n",
        "  # Create an empty DataFrame to store correlation results\n",
        "  correlation_matrix = pd.DataFrame(index=tickers, columns=tickers, dtype=float)\n",
        "\n",
        "  # Iterate through all pairs of tickers with a progress bar\n",
        "  for ticker_a in tqdm(tickers, desc=\"Calculating correlations\"): # Add tqdm here\n",
        "\n",
        "    # Extract data for each ticker\n",
        "    stock_a_data = filtered_df.loc[ticker_a, 'close']\n",
        "\n",
        "    for ticker_b in tickers:\n",
        "      if ticker_a != ticker_b:\n",
        "        # Extract data for each ticker\n",
        "        stock_b_data = filtered_df.loc[ticker_b, 'close']\n",
        "\n",
        "        # Align the dataframes based on the date index\n",
        "        aligned_data = pd.merge(stock_a_data.reset_index(), stock_b_data.reset_index(),\n",
        "                                on=['year', 'month', 'day'], how='inner', suffixes=('_A', '_B'))\n",
        "        aligned_data['datetime'] = pd.to_datetime(aligned_data['year'].astype(str) + '-' +\n",
        "                                                  aligned_data['month'].astype(str) + '-' +\n",
        "                                                  aligned_data['day'].astype(str))\n",
        "        aligned_data = aligned_data.set_index('datetime').sort_index()\n",
        "\n",
        "        # Apply the lag to stock_b_data\n",
        "        lagged_stock_b_data = aligned_data['close_B'].shift(lag_days)\n",
        "\n",
        "        # Calculate correlation, dropping NaN values\n",
        "        correlation = aligned_data['close_A'].corr(lagged_stock_b_data)\n",
        "\n",
        "        # Store the correlation in the matrix\n",
        "        correlation_matrix.loc[ticker_a, ticker_b] = correlation\n",
        "\n",
        "  return correlation_matrix\n",
        "\n",
        "# Example usage:\n",
        "# Assuming 'stock_TimeFiltered_aggregated_close' is your aggregated stock data\n",
        "# and you want to calculate correlations ending on '2023-12-31' with a 1-day lag.\n",
        "# Replace 'stock_TimeFiltered_aggregated_close' with the actual name of your DataFrame.\n",
        "# end_date = '2023-12-31'\n",
        "# lagged_correlations = calculate_pairwise_lagged_correlation(stock_TimeFiltered_aggregated_close, end_date, lag_days=1)\n",
        "\n",
        "# Display the correlation matrix\n",
        "# print(lagged_correlations)\n",
        "\n",
        "# To access the correlation between specific stocks, e.g., GOOG and MSFT:\n",
        "# print(lagged_correlations.loc['GOOG', 'MSFT'])\n",
        "\n",
        "# #enter end date and run correlation function on entire stock data. This will take a couple of hours\n",
        "# end_date = '2023-12-31'\n",
        "# lagged_correlations = calculate_lagged_correlation(stock_TimeFiltered_aggregated_close, end_date, lag_days=1)"
      ],
      "cell_type": "code",
      "metadata": {
        "collapsed": true,
        "id": "FtqUV9nKkT6q"
      },
      "execution_count": null,
      "outputs": []
    },
    {
      "cell_type": "markdown",
      "source": [
        "# **Run Fucntions**"
      ],
      "metadata": {
        "id": "aCEfO-bsKNCg"
      }
    },
    {
      "cell_type": "code",
      "source": [
        "\n",
        "# import correlation data from entire stock data that I saved off earlier on MyDrive\n",
        "sixMonth_correlation_data = import_variable(\"6month_correlation_data.parquet\")"
      ],
      "metadata": {
        "id": "BxwPwW4fKQa3",
        "colab": {
          "base_uri": "https://localhost:8080/"
        },
        "outputId": "3da1badd-5f0f-4a23-9c63-8b86e3218185"
      },
      "execution_count": 3,
      "outputs": [
        {
          "output_type": "stream",
          "name": "stdout",
          "text": [
            "Successfully loaded data from /content/drive/MyDrive/Colab Notebooks/6month_correlation_data.parquet\n"
          ]
        }
      ]
    },
    {
      "cell_type": "code",
      "source": [
        "#sixMonth_correlation_data.head()"
      ],
      "metadata": {
        "id": "ASYRA0OcJNUQ"
      },
      "execution_count": 6,
      "outputs": []
    },
    {
      "source": [
        "# groups the data and adds coefficient of determination\n",
        "\n",
        "import pandas as pd\n",
        "\n",
        "def analyze_correlations(correlation_df):\n",
        "  \"\"\"\n",
        "\n",
        "  Args:\n",
        "    correlation_df: A pandas DataFrame where both index and columns are tickers\n",
        "                    representing pairwise correlation coefficients.\n",
        "\n",
        "  Returns:\n",
        "    A pandas DataFrame with ticker as the index and columns for ticker_b,\n",
        "    correlation, and coefficient of determination.\n",
        "  \"\"\"\n",
        "  analyzed_data = []\n",
        "\n",
        "  for ticker_a in correlation_df.index:\n",
        "    # Extract correlations for ticker_a against all other tickers\n",
        "    ticker_a_correlations = correlation_df.loc[ticker_a].drop(ticker_a) # Drop self-correlation\n",
        "\n",
        "    for ticker_b, correlation in ticker_a_correlations.items():\n",
        "      # Calculate the coefficient of determination (R-squared)\n",
        "      coefficient_of_determination = correlation**2\n",
        "\n",
        "      analyzed_data.append({\n",
        "          'ticker_a': ticker_a,\n",
        "          'ticker_b': ticker_b,\n",
        "          'correlation': correlation,\n",
        "          'coefficient_of_determination': coefficient_of_determination\n",
        "      })\n",
        "\n",
        "  # Create a new DataFrame\n",
        "  analyzed_df = pd.DataFrame(analyzed_data)\n",
        "\n",
        "  # Set the index to ticker_a and remove the ticker_a column\n",
        "  analyzed_df = analyzed_df.set_index('ticker_a')\n",
        "\n",
        "  return analyzed_df\n",
        "\n",
        "# Analyze the sixMonth_correlation_data\n",
        "grouped_correlation_data = analyze_correlations(sixMonth_correlation_data)\n",
        "\n",
        "# Display the first few rows of the new DataFrame\n",
        "print(grouped_correlation_data.head())\n"
      ],
      "cell_type": "code",
      "metadata": {
        "colab": {
          "base_uri": "https://localhost:8080/"
        },
        "id": "CmRO0gO39cAM",
        "outputId": "1b7e8293-6f17-4f3c-b15b-04507d50344e"
      },
      "execution_count": null,
      "outputs": [
        {
          "output_type": "stream",
          "name": "stdout",
          "text": [
            "         ticker_b  correlation  coefficient_of_determination\n",
            "ticker_a                                                    \n",
            "A             AAL     0.436758                      0.190758\n",
            "A            AAPL     0.757819                      0.574290\n",
            "A            ABBV     0.288543                      0.083257\n",
            "A            ABNB     0.607573                      0.369145\n",
            "A             ABT     0.809978                      0.656064\n"
          ]
        }
      ]
    },
    {
      "source": [
        "# Filter for only the top correlations\n",
        "\n",
        "# Create a dictionary to store the filtered data for each ticker\n",
        "filtered_data_dict = {}\n",
        "\n",
        "# Iterate through each unique ticker in the index\n",
        "for ticker_a, group_df in grouped_correlation_data.groupby(level=0):\n",
        "    # Calculate the absolute correlation for the current ticker group\n",
        "    group_df['abs_correlation'] = group_df['correlation'].abs()\n",
        "\n",
        "    # Find the maximum absolute correlation for this ticker\n",
        "    max_abs_correlation = group_df['abs_correlation'].max()\n",
        "\n",
        "    # Define the threshold for keeping correlations (within 10% of the max)\n",
        "    threshold = max_abs_correlation * 0.90  # Keep correlations >= 90% of the max\n",
        "\n",
        "    # Filter the rows within the current ticker group based on the threshold\n",
        "    filtered_group_df_threshold = group_df[group_df['abs_correlation'] >= threshold].copy()\n",
        "\n",
        "    # Determine the final filtered DataFrame based on the number of rows\n",
        "    if len(filtered_group_df_threshold) < 5:\n",
        "        # If less than 5 rows after threshold filtering, get the top 5 based on absolute correlation\n",
        "        # Sort by absolute correlation in descending order and take the top 5\n",
        "        filtered_group_df = group_df.sort_values(by='abs_correlation', ascending=False).head(5).copy()\n",
        "    elif len(filtered_group_df_threshold) > 20:\n",
        "        # If more than 20 rows after threshold filtering, get the top 20 based on absolute correlation\n",
        "        # Sort the threshold-filtered data and take the top 20\n",
        "        filtered_group_df = filtered_group_df_threshold.sort_values(by='abs_correlation', ascending=False).head(20).copy()\n",
        "    else:\n",
        "        # If between 5 and 20 rows (inclusive) after threshold filtering, use the threshold-filtered result\n",
        "        filtered_group_df = filtered_group_df_threshold\n",
        "\n",
        "    # Remove the temporary 'abs_correlation' column from the final filtered DataFrame\n",
        "    filtered_group_df = filtered_group_df.drop(columns=['abs_correlation'])\n",
        "\n",
        "    # Store the final filtered DataFrame for this ticker\n",
        "    filtered_data_dict[ticker_a] = filtered_group_df\n",
        "\n",
        "# Concatenate the filtered DataFrames for all tickers back into a single DataFrame\n",
        "# We'll call this new DataFrame 'most_correlated_stocks'\n",
        "most_correlated_stocks = pd.concat(filtered_data_dict.values())\n",
        "\n",
        "# Display the head of the new DataFrame to see the result\n",
        "# print(most_correlated_stocks.head())\n",
        "\n",
        "# You can also access the filtered data for a specific ticker, e.g., 'GOOG'\n",
        "print(most_correlated_stocks.loc['AAPL']) # Example: Display filtered data for AAPL"
      ],
      "cell_type": "code",
      "metadata": {
        "colab": {
          "base_uri": "https://localhost:8080/"
        },
        "id": "HA5Bg1bY_3qf",
        "outputId": "15b1215b-b7b8-4e59-d9bf-b435e97aefa6"
      },
      "execution_count": null,
      "outputs": [
        {
          "output_type": "stream",
          "name": "stdout",
          "text": [
            "         ticker_b  correlation  coefficient_of_determination\n",
            "ticker_a                                                    \n",
            "AAPL         BALL     0.917978                      0.842683\n",
            "AAPL         EQIX     0.881262                      0.776624\n",
            "AAPL         MPWR     0.878269                      0.771357\n",
            "AAPL         ASML     0.877733                      0.770416\n",
            "AAPL         SPGI     0.874539                      0.764819\n",
            "AAPL         DDOG     0.874249                      0.764312\n",
            "AAPL          MDB     0.865554                      0.749184\n",
            "AAPL          XYL     0.864476                      0.747319\n",
            "AAPL          MCO     0.863528                      0.745680\n",
            "AAPL            C     0.858869                      0.737656\n",
            "AAPL          CCI     0.858693                      0.737354\n",
            "AAPL          SNA     0.854893                      0.730842\n",
            "AAPL          ROP     0.853958                      0.729245\n",
            "AAPL          HWM     0.853443                      0.728365\n",
            "AAPL          AOS     0.852948                      0.727521\n",
            "AAPL         TTWO     0.847494                      0.718246\n",
            "AAPL         QCOM     0.844363                      0.712948\n",
            "AAPL          ECL     0.839785                      0.705239\n",
            "AAPL           EA     0.838771                      0.703537\n",
            "AAPL          TFC     0.837908                      0.702090\n"
          ]
        }
      ]
    },
    {
      "source": [
        "# Calculate the minimum and maximum correlation for each ticker_a\n",
        "min_max_correlations = most_correlated_stocks.groupby('ticker_a')['correlation'].agg(['min', 'max'])\n",
        "\n",
        "# Define a function to normalize the correlation value with inverse scaling\n",
        "def normalize_correlation_inverse(row):\n",
        "    ticker_a = row.name  # Get the ticker_a from the index\n",
        "    correlation = row['correlation']\n",
        "    min_corr = min_max_correlations.loc[ticker_a, 'min']\n",
        "    max_corr = min_max_correlations.loc[ticker_a, 'max']\n",
        "\n",
        "    # Avoid division by zero if all correlations for a ticker are the same\n",
        "    if max_corr == min_corr:\n",
        "        return 0.0  # Or handle as appropriate (e.g., return a fixed value)\n",
        "\n",
        "    # Normalize the correlation value to a range [1, 0] where min_corr maps to 1 and max_corr maps to 0\n",
        "    # The formula for inverse scaling from [a, b] to [c, d] is:\n",
        "    # normalized_value = d + (value - a) * (c - d) / (b - a)\n",
        "    # Here, value = correlation, a = min_corr, b = max_corr, c = 1, d = 0\n",
        "    normalized_value = 0 + (correlation - min_corr) * (1 - 0) / (max_corr - min_corr)\n",
        "    # Now, we want min_corr to be 1 and max_corr to be 0.\n",
        "    # So, we need to invert the normalized_value from [0, 1] to [1, 0].\n",
        "    # This can be done with 1 - normalized_value\n",
        "    orbital_radius = 1 - normalized_value\n",
        "\n",
        "    return orbital_radius\n",
        "\n",
        "# Apply the normalization function to create the new column 'Orbital Radius'\n",
        "most_correlated_stocks['Orbital Radius'] = most_correlated_stocks.apply(normalize_correlation_inverse, axis=1)\n",
        "\n",
        "# Display the dataframe with the new column\n",
        "# print(most_correlated_stocks.head())\n",
        "print(most_correlated_stocks.loc['AAPL'])"
      ],
      "cell_type": "code",
      "metadata": {
        "colab": {
          "base_uri": "https://localhost:8080/"
        },
        "id": "ZJJAtEk8OQWZ",
        "outputId": "9e16dd89-39f1-479f-8b58-354faf65461f"
      },
      "execution_count": null,
      "outputs": [
        {
          "output_type": "stream",
          "name": "stdout",
          "text": [
            "         ticker_b  correlation  coefficient_of_determination  Orbital Radius\n",
            "ticker_a                                                                    \n",
            "AAPL         BALL     0.917978                      0.842683        0.000000\n",
            "AAPL         EQIX     0.881262                      0.776624        0.458541\n",
            "AAPL         MPWR     0.878269                      0.771357        0.495923\n",
            "AAPL         ASML     0.877733                      0.770416        0.502616\n",
            "AAPL         SPGI     0.874539                      0.764819        0.542506\n",
            "AAPL         DDOG     0.874249                      0.764312        0.546127\n",
            "AAPL          MDB     0.865554                      0.749184        0.654724\n",
            "AAPL          XYL     0.864476                      0.747319        0.668188\n",
            "AAPL          MCO     0.863528                      0.745680        0.680035\n",
            "AAPL            C     0.858869                      0.737656        0.738218\n",
            "AAPL          CCI     0.858693                      0.737354        0.740412\n",
            "AAPL          SNA     0.854893                      0.730842        0.787869\n",
            "AAPL          ROP     0.853958                      0.729245        0.799547\n",
            "AAPL          HWM     0.853443                      0.728365        0.805980\n",
            "AAPL          AOS     0.852948                      0.727521        0.812159\n",
            "AAPL         TTWO     0.847494                      0.718246        0.880282\n",
            "AAPL         QCOM     0.844363                      0.712948        0.919387\n",
            "AAPL          ECL     0.839785                      0.705239        0.976557\n",
            "AAPL           EA     0.838771                      0.703537        0.989222\n",
            "AAPL          TFC     0.837908                      0.702090        1.000000\n"
          ]
        }
      ]
    },
    {
      "cell_type": "code",
      "source": [
        "# prompt: Add a column to the dataframe ‘most_correlated_stocks’ The code will iterates through ticker_an and normalizes the coefficient_of_determination value using all of the coefficient_of_determinations for each ticker_b. This new column will be called ‘Planet Radius’\n",
        "\n",
        "# Calculate the minimum and maximum coefficient of determination for each ticker_a\n",
        "min_max_coefficient = most_correlated_stocks.groupby('ticker_a')['coefficient_of_determination'].agg(['min', 'max'])\n",
        "\n",
        "# Define a function to normalize the coefficient of determination value\n",
        "def normalize_coefficient(row):\n",
        "    ticker_a = row.name  # Get the ticker_a from the index\n",
        "    coefficient = row['coefficient_of_determination']\n",
        "    min_coeff = min_max_coefficient.loc[ticker_a, 'min']\n",
        "    max_coeff = min_max_coefficient.loc[ticker_a, 'max']\n",
        "\n",
        "    # Avoid division by zero if all coefficients for a ticker are the same\n",
        "    if max_coeff == min_coeff:\n",
        "        return 0.0  # Or handle as appropriate\n",
        "\n",
        "    # Normalize the coefficient of determination value to a range [0, 1]\n",
        "    normalized_value = (coefficient - min_coeff) / (max_coeff - min_coeff)\n",
        "    return normalized_value\n",
        "\n",
        "# Apply the normalization function to create the new column 'Planet Radius'\n",
        "most_correlated_stocks['Planet Radius'] = most_correlated_stocks.apply(normalize_coefficient, axis=1)\n",
        "\n",
        "# Display the dataframe with the new column\n",
        "# print(most_correlated_stocks.head())\n",
        "print(most_correlated_stocks.loc['AAPL'])"
      ],
      "metadata": {
        "colab": {
          "base_uri": "https://localhost:8080/"
        },
        "id": "FvqPznzsMbF4",
        "outputId": "43e067de-17ac-466d-86ca-762abeaf89cf"
      },
      "execution_count": null,
      "outputs": [
        {
          "output_type": "stream",
          "name": "stdout",
          "text": [
            "         ticker_b  correlation  coefficient_of_determination  Orbital Radius  \\\n",
            "ticker_a                                                                       \n",
            "AAPL         BALL     0.917978                      0.842683        0.000000   \n",
            "AAPL         EQIX     0.881262                      0.776624        0.458541   \n",
            "AAPL         MPWR     0.878269                      0.771357        0.495923   \n",
            "AAPL         ASML     0.877733                      0.770416        0.502616   \n",
            "AAPL         SPGI     0.874539                      0.764819        0.542506   \n",
            "AAPL         DDOG     0.874249                      0.764312        0.546127   \n",
            "AAPL          MDB     0.865554                      0.749184        0.654724   \n",
            "AAPL          XYL     0.864476                      0.747319        0.668188   \n",
            "AAPL          MCO     0.863528                      0.745680        0.680035   \n",
            "AAPL            C     0.858869                      0.737656        0.738218   \n",
            "AAPL          CCI     0.858693                      0.737354        0.740412   \n",
            "AAPL          SNA     0.854893                      0.730842        0.787869   \n",
            "AAPL          ROP     0.853958                      0.729245        0.799547   \n",
            "AAPL          HWM     0.853443                      0.728365        0.805980   \n",
            "AAPL          AOS     0.852948                      0.727521        0.812159   \n",
            "AAPL         TTWO     0.847494                      0.718246        0.880282   \n",
            "AAPL         QCOM     0.844363                      0.712948        0.919387   \n",
            "AAPL          ECL     0.839785                      0.705239        0.976557   \n",
            "AAPL           EA     0.838771                      0.703537        0.989222   \n",
            "AAPL          TFC     0.837908                      0.702090        1.000000   \n",
            "\n",
            "          Planet Radius  \n",
            "ticker_a                 \n",
            "AAPL           1.000000  \n",
            "AAPL           0.530137  \n",
            "AAPL           0.492677  \n",
            "AAPL           0.485984  \n",
            "AAPL           0.446176  \n",
            "AAPL           0.442570  \n",
            "AAPL           0.334967  \n",
            "AAPL           0.321701  \n",
            "AAPL           0.310043  \n",
            "AAPL           0.252969  \n",
            "AAPL           0.250824  \n",
            "AAPL           0.204509  \n",
            "AAPL           0.193145  \n",
            "AAPL           0.186889  \n",
            "AAPL           0.180884  \n",
            "AAPL           0.114913  \n",
            "AAPL           0.077233  \n",
            "AAPL           0.022399  \n",
            "AAPL           0.010292  \n",
            "AAPL           0.000000  \n"
          ]
        }
      ]
    },
    {
      "source": [
        "# Reset the index to turn the 'ticker_a' index level into a column\n",
        "most_correlated_stocks_long = most_correlated_stocks.reset_index()\n",
        "\n",
        "# Rename 'ticker_a' to 'source' and 'ticker_b' to 'target' for clarity in network context\n",
        "most_correlated_stocks_long = most_correlated_stocks_long.rename(columns={'ticker_a': 'source', 'ticker_b': 'target'})\n",
        "\n",
        "# Display the head of the long format DataFrame\n",
        "print(most_correlated_stocks_long.head())"
      ],
      "cell_type": "code",
      "metadata": {
        "colab": {
          "base_uri": "https://localhost:8080/"
        },
        "id": "xVAnYtu4PZGG",
        "outputId": "4e61e273-9598-4fa3-e3f5-a0cd5f73b530"
      },
      "execution_count": null,
      "outputs": [
        {
          "output_type": "stream",
          "name": "stdout",
          "text": [
            "  source target  correlation  coefficient_of_determination  Orbital Radius  \\\n",
            "0      A     BA     0.938178                      0.880178        0.000000   \n",
            "1      A    JPM     0.933544                      0.871504        0.104285   \n",
            "2      A    SHW     0.932902                      0.870305        0.118736   \n",
            "3      A   NTRS     0.932325                      0.869230        0.131712   \n",
            "4      A   HBAN     0.931452                      0.867603        0.151358   \n",
            "\n",
            "   Planet Radius  \n",
            "0       1.000000  \n",
            "1       0.893449  \n",
            "2       0.878726  \n",
            "3       0.865514  \n",
            "4       0.845526  \n"
          ]
        }
      ]
    },
    {
      "source": [
        "import networkx as nx\n",
        "import matplotlib.pyplot as plt\n",
        "import ipywidgets as widgets\n",
        "from IPython.display import display\n",
        "import numpy as np\n",
        "import pandas as pd\n",
        "\n",
        "def plot_ticker_network_visual(correlated_data, target_ticker):\n",
        "    \"\"\"\n",
        "    Plots a network graph for a specific ticker and its most correlated partners,\n",
        "    where distance is based on 'Orbital Radius', node size on 'Planet Radius',\n",
        "    and edge labels are correlations as percentages.\n",
        "\n",
        "    Args:\n",
        "      correlated_data: DataFrame with columns 'source', 'target', 'correlation',\n",
        "                       'Orbital Radius', 'Planet Radius'.\n",
        "      target_ticker: The ticker for which to generate the network graph.\n",
        "    \"\"\"\n",
        "    # Filter the data to include only connections where the target ticker is the source\n",
        "    ticker_connections = correlated_data[correlated_data['source'] == target_ticker].copy()\n",
        "\n",
        "    # Handle cases where there are no connections found after filtering\n",
        "    if ticker_connections.empty:\n",
        "        print(f\"No connections found for ticker {target_ticker} as the source within the provided data.\")\n",
        "        return\n",
        "\n",
        "    # Create a graph\n",
        "    G = nx.from_pandas_edgelist(ticker_connections,\n",
        "                                'source', 'target',\n",
        "                                ['correlation', 'Orbital Radius', 'Planet Radius'])\n",
        "\n",
        "    # Customize graph visualization\n",
        "    plt.figure(figsize=(12, 10))\n",
        "\n",
        "    # --- Positioning based on 'Orbital Radius' ---\n",
        "    # We need to create a dictionary of positions where the target_ticker is at the center (0,0)\n",
        "    # and other nodes are placed based on their 'Orbital Radius'.\n",
        "    # A simple approach is to place them on a circle with the orbital radius.\n",
        "    pos = {}\n",
        "    pos[target_ticker] = (0, 0) # Center the target ticker\n",
        "\n",
        "    # Place other nodes on a circle based on their orbital radius\n",
        "    num_connections = len(ticker_connections)\n",
        "    for i, row in ticker_connections.iterrows():\n",
        "        target = row['target']\n",
        "        orbital_radius = row['Orbital Radius']\n",
        "        # Add the minimum distance to the orbital radius\n",
        "        min_distance = 0.3\n",
        "        orbital_radius = orbital_radius + min_distance\n",
        "\n",
        "        # Distribute nodes around a circle\n",
        "        angle = 2 * np.pi * i / num_connections\n",
        "        x = orbital_radius * np.cos(angle)\n",
        "        y = orbital_radius * np.sin(angle)\n",
        "        pos[target] = (x, y)\n",
        "\n",
        "    # --- Node Sizes based on 'Planet Radius' ---\n",
        "    # Create a dictionary of node sizes\n",
        "    node_sizes = {}\n",
        "    node_sizes[target_ticker] = 1000 # Set a fixed size for the central node\n",
        "    for i, row in ticker_connections.iterrows():\n",
        "        target = row['target']\n",
        "        planet_radius = row['Planet Radius']\n",
        "        # Scale planet radius to a reasonable node size range (e.g., 300 to 800)\n",
        "        # Assuming 'Planet Radius' is normalized between 0 and 1\n",
        "        scaled_size = 300 + (planet_radius * 500)\n",
        "        node_sizes[target] = scaled_size\n",
        "\n",
        "\n",
        "    # Draw nodes\n",
        "    nx.draw_networkx_nodes(G, pos, node_size=[node_sizes.get(node, 300) for node in G.nodes()], node_color='skyblue', alpha=0.9)\n",
        "\n",
        "    # Draw edges and color based on correlation sign\n",
        "    edge_colors = ['red' if data['correlation'] < 0 else 'green' for u, v, data in G.edges(data=True)]\n",
        "    nx.draw_networkx_edges(G, pos, edge_color=edge_colors, width=2)\n",
        "\n",
        "    # Draw labels\n",
        "    #nx.draw_networkx_labels(G, pos, font_size=10, font_weight='bold')\n",
        "    nx.draw_networkx_labels(G, pos, font_size=10)\n",
        "\n",
        "    # --- Draw edge labels manually at the midpoint of the straight line ---\n",
        "    edge_labels = {(u, v): data['correlation'] for u, v, data in G.edges(data=True)}\n",
        "    formatted_edge_labels = {k: f'{v:.2%}' for k, v in edge_labels.items()} # Format as percentage\n",
        "\n",
        "    for (u, v), label in formatted_edge_labels.items():\n",
        "        # Get the positions of the connected nodes\n",
        "        x1, y1 = pos[u]\n",
        "        x2, y2 = pos[v]\n",
        "\n",
        "        # Calculate the midpoint coordinates\n",
        "        mid_x = (x1 + x2) / 2\n",
        "        mid_y = (y1 + y2) / 2\n",
        "\n",
        "        # Draw the text at the midpoint\n",
        "        plt.text(mid_x, mid_y, label,\n",
        "                 fontsize=8, color='black', ha='center', va='center',\n",
        "                 bbox=dict(facecolor='white', alpha=0.7, edgecolor='none', boxstyle='round,pad=0.2'))\n",
        "\n",
        "    plt.title(f'Network for {target_ticker} and Most Correlated Partners')\n",
        "    plt.axis('off') # Hide axes\n",
        "    plt.show()"
      ],
      "cell_type": "code",
      "metadata": {
        "id": "evEcHFqkPwxY"
      },
      "execution_count": null,
      "outputs": []
    },
    {
      "cell_type": "code",
      "source": [
        "# Example usage:\n",
        "plot_ticker_network_visual(most_correlated_stocks_long, 'MSFT') # Replace 'AAPL' with the ticker you want to visualize"
      ],
      "metadata": {
        "colab": {
          "base_uri": "https://localhost:8080/",
          "height": 829
        },
        "id": "Es2WrMAHOqCV",
        "outputId": "c73cc5b6-aa4b-4f51-dfcb-2cb243e59be7"
      },
      "execution_count": null,
      "outputs": [
        {
          "output_type": "display_data",
          "data": {
            "text/plain": [
              "<Figure size 1200x1000 with 1 Axes>"
            ],
            "image/png": "[encoded data removed]"
          },
          "metadata": {}
        }
      ]
    }
  ]
}