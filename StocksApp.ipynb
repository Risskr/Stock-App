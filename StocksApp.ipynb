{
  "nbformat": 4,
  "nbformat_minor": 0,
  "metadata": {
    "colab": {
      "provenance": [],
      "collapsed_sections": [
        "qPom_aYMeUSx",
        "Nn9reOwbE96J",
        "AuEQvbbnFGfT",
        "XlkrSQJ8aSKT",
        "WjGziKSbFiNp",
        "IZGBHr-YAJ5U"
      ],
      "machine_shape": "hm",
      "mount_file_id": "https://github.com/Risskr/Stock-App/blob/Simplified/StocksApp.ipynb",
      "authorship_tag": "ABX9TyPZeETI9DEPNAZHMEL0zCg0",
      "include_colab_link": true
    },
    "kernelspec": {
      "name": "python3",
      "display_name": "Python 3"
    },
    "language_info": {
      "name": "python"
    }
  },
  "cells": [
    {
      "cell_type": "markdown",
      "metadata": {
        "id": "view-in-github",
        "colab_type": "text"
      },
      "source": [
        "<a href=\"https://colab.research.google.com/github/Risskr/Stock-App/blob/Simplified/StocksApp.ipynb\" target=\"_parent\"><img src=\"https://colab.research.google.com/assets/colab-badge.svg\" alt=\"Open In Colab\"/></a>"
      ]
    },
    {
      "cell_type": "markdown",
      "source": [
        "# **Set Up**\n"
      ],
      "metadata": {
        "id": "qPom_aYMeUSx"
      }
    },
    {
      "cell_type": "code",
      "execution_count": 1,
      "metadata": {
        "id": "NqHgaNKkh5iP",
        "collapsed": true
      },
      "outputs": [],
      "source": [
        "# #refesh python script\n",
        "# get_ipython().kernel.do_shutdown(restart=True)\n",
        "\n",
        "# #Check GPUs\n",
        "# !nvidia-smi\n",
        "\n",
        "#load cudf to use GPUs for analysis\n",
        "#%load_ext cudf.pandas\n",
        "\n",
        "# import pandas\n",
        "import pandas as pd\n",
        "import datetime\n",
        "import pickle\n",
        "import numpy as np\n",
        "from tqdm.notebook import tqdm\n",
        "\n",
        "#!pip install tqdm==4.66.1"
      ]
    },
    {
      "cell_type": "markdown",
      "source": [
        "# **Examples**"
      ],
      "metadata": {
        "id": "pB5S7lY7ODCY"
      }
    },
    {
      "cell_type": "markdown",
      "source": [
        "## Example how to locate in dataframes and in sereies"
      ],
      "metadata": {
        "id": "XlkrSQJ8aSKT"
      }
    },
    {
      "source": [
        "# GOOGDailyClose_Series = GOOGDailyClose['close']\n",
        "\n",
        "#Dataframe example\n",
        "# x = GOOGDailyClose.loc[('GOOG', 2020, 1, 2), 'close']\n",
        "# print(x)\n",
        "\n",
        "#Series Example\n",
        "# y = GOOGDailyClose_Series.loc[('GOOG', 2020, 1, 2)]\n",
        "# print(y)"
      ],
      "cell_type": "code",
      "metadata": {
        "id": "EAJJI4s9PtYV"
      },
      "execution_count": null,
      "outputs": []
    },
    {
      "cell_type": "markdown",
      "source": [
        "## Example graph"
      ],
      "metadata": {
        "id": "WjGziKSbFiNp"
      }
    },
    {
      "source": [
        "# # from matplotlib import pyplot as plt\n",
        "# # GOOGDailyClose['close'].plot(kind='line', figsize=(8, 4), title='close')\n",
        "# # plt.gca().spines[['top', 'right']].set_visible(False)\n",
        "\n",
        "# from matplotlib import pyplot as plt\n",
        "\n",
        "# # Create the plot for GOOGDailyClose\n",
        "# ax = GOOGDailyClose['close'].plot(kind='line', figsize=(8, 4), title='Closing Stock Prices')\n",
        "\n",
        "# # Add the plot for MSFTDailyClose to the same axes\n",
        "# MSFTDailyClose['close'].plot(kind='line', ax=ax)\n",
        "\n",
        "# # Hide the top and right spines\n",
        "# plt.gca().spines[['top', 'right']].set_visible(False)\n",
        "\n",
        "# # Add a legend to distinguish the lines\n",
        "# plt.legend(['GOOG', 'MSFT'])"
      ],
      "cell_type": "code",
      "execution_count": null,
      "outputs": [],
      "metadata": {
        "id": "OPyPXSyWqeD7"
      }
    },
    {
      "cell_type": "markdown",
      "source": [
        "## Example Call Function from another file\n",
        "Eample Call Correlation_Coefficient function from another My Drive file"
      ],
      "metadata": {
        "id": "IZGBHr-YAJ5U"
      }
    },
    {
      "cell_type": "code",
      "source": [
        "# %run \"/content/drive/My Drive/Colab Notebooks/Correlation_Coefficient.ipynb\"\n",
        "\n",
        "# Correlation_Coefficient(GOOGDailyClose, MSFTDaily Close)\n"
      ],
      "metadata": {
        "id": "7rhY5LPO7oHq"
      },
      "execution_count": null,
      "outputs": []
    },
    {
      "cell_type": "markdown",
      "source": [
        "# **Get Stock Data**"
      ],
      "metadata": {
        "id": "xe0ltjSPehDV"
      }
    },
    {
      "cell_type": "markdown",
      "source": [
        "## Function: Download Stock Data to My Drive"
      ],
      "metadata": {
        "id": "Nn9reOwbE96J"
      }
    },
    {
      "cell_type": "code",
      "source": [
        "def DownloadStockData():\n",
        "  #Download the stock data\n",
        "  !if [ ! -f \"usa_stocks_30m.parquet\" ]; then curl https://storage.googleapis.com/rapidsai/colab-data/usa_stocks_30m.parquet -o usa_stocks_30m.parquet; else echo \"usa_stocks_30m.parquet found\"; fi\n",
        "\n",
        "  #move the stock data to my Drive\n",
        "  !mv usa_stocks_30m.parquet \"/content/drive/MyDrive/Colab Notebooks\""
      ],
      "metadata": {
        "id": "2ipu4MZZV3_y"
      },
      "execution_count": null,
      "outputs": []
    },
    {
      "cell_type": "markdown",
      "source": [
        "## Function: Import Stock Data from My Drive"
      ],
      "metadata": {
        "id": "AuEQvbbnFGfT"
      }
    },
    {
      "cell_type": "code",
      "source": [
        "def ImportStockData():\n",
        "  # Import the stock data from My Drive\n",
        "  # Define nasdaq_stocks as the stock data\n",
        "  # Specify the full path to the file in your Google Drive\n",
        "  nasdaq_stocks = pd.read_parquet(\"/content/drive/MyDrive/Colab Notebooks/usa_stocks_30m.parquet\")\n",
        "  return nasdaq_stocks\n"
      ],
      "metadata": {
        "id": "U-s77lCvT7rQ"
      },
      "execution_count": null,
      "outputs": []
    },
    {
      "cell_type": "markdown",
      "source": [
        "## Function: Manipulate raw stock data for correlation funciton"
      ],
      "metadata": {
        "id": "VTUSJsRLFNcZ"
      }
    },
    {
      "cell_type": "code",
      "source": [
        "def ManipulateStockData(nasdaq_stocks):\n",
        "  #add year, month, and day columns\n",
        "  #df[[\"year\", \"week\", \"day\"]] = df.datetime.dt.isocalendar()\n",
        "  nasdaq_stocks[\"year\"] = nasdaq_stocks.datetime.dt.year\n",
        "  nasdaq_stocks[\"month\"] = nasdaq_stocks.datetime.dt.month\n",
        "  nasdaq_stocks[\"day\"] = nasdaq_stocks.datetime.dt.day\n",
        "\n",
        "  # Filter the DataFrame based on the 'year' column\n",
        "  stock_TimeFiltered = nasdaq_stocks.loc[nasdaq_stocks['year'] >= 2023]\n",
        "\n",
        "  #stock_TimeFiltered.info()\n",
        "  #stock_TimeFiltered.head()\n",
        "\n",
        "  #aggregate data by ticker, month, day, closing cost.\n",
        "  stock_TimeFiltered_aggregated_close = stock_TimeFiltered.groupby([\"ticker\", \"year\", \"month\", \"day\"]).agg({\"close\": \"last\"})\n",
        "\n",
        "  #stock_TimeFiltered_aggregated_close.info()\n",
        "  #stock_TimeFiltered_aggregated_close.head()\n",
        "  return stock_TimeFiltered_aggregated_close"
      ],
      "metadata": {
        "id": "Gl82QadwUTHF"
      },
      "execution_count": null,
      "outputs": []
    },
    {
      "cell_type": "markdown",
      "source": [
        "## Functions: Export/Import variables to My Drive"
      ],
      "metadata": {
        "id": "EYLv8nAunJdW"
      }
    },
    {
      "source": [
        "def export_variable(variable_name, file_name):\n",
        "\n",
        "  now = datetime.datetime.now()\n",
        "\n",
        "  save_path = f\"/content/drive/MyDrive/Colab Notebooks/{file_name}_{now}.parquet\"\n",
        "\n",
        "  try:\n",
        "      variable_name.to_parquet(save_path)\n",
        "      print(f\"Successfully saved the variable to {save_path}\")\n",
        "  except Exception as e:\n",
        "      print(f\"An error occurred while saving the file: {e}\")\n",
        "  return\n",
        "\n",
        "# # use this line to run the function\n",
        "# export_variable(lagged_correlations, \"lagged_correlation\")"
      ],
      "cell_type": "code",
      "metadata": {
        "id": "JfVjRhSjmq94"
      },
      "execution_count": null,
      "outputs": []
    },
    {
      "source": [
        "def import_variable(file_name):\n",
        "  load_path = f\"/content/drive/MyDrive/Colab Notebooks/{file_name}\"\n",
        "\n",
        "  try:\n",
        "      variable = pd.read_parquet(load_path)\n",
        "\n",
        "      print(f\"Successfully loaded data from {load_path}\")\n",
        "\n",
        "  except FileNotFoundError:\n",
        "      print(f\"Error: The file was not found at {load_path}\")\n",
        "  except Exception as e:\n",
        "      print(f\"An error occurred while loading the file: {e}\")\n",
        "  return variable\n",
        "\n",
        "# #run this funciton with this line\n",
        "# x = import_variable(\"testing2_2025-05-22 19:07:29.595379.parquet\")"
      ],
      "cell_type": "code",
      "metadata": {
        "id": "ziAUfSzymzUc"
      },
      "execution_count": 2,
      "outputs": []
    },
    {
      "cell_type": "markdown",
      "source": [
        "# **Correlation Coefficent funtions**"
      ],
      "metadata": {
        "id": "Yx4PfQYuNsi8"
      }
    },
    {
      "cell_type": "markdown",
      "source": [
        "## Function: Correlation_Coefficient with Lag for two stocks"
      ],
      "metadata": {
        "id": "_pVCvXWUGena"
      }
    },
    {
      "source": [
        "# Correlation_Coefficient Function with Lag\n",
        "# Using the Pearson correlation coefficient to determine correlation between two stocks with a lag\n",
        "\n",
        "def Correlation_Coefficient_Lag(StockA, StockB, k=0):\n",
        "  # Calculate the correlation between the 'close' columns with a lag\n",
        "  StockA_series = StockA['close'].droplevel('ticker')\n",
        "  StockB_series = StockB['close'].droplevel('ticker')\n",
        "\n",
        "  # Apply the lag to StockB\n",
        "  # Shift the StockB series down by k periods.\n",
        "  # Positive k shifts data points forward, filling early entries with NaN.\n",
        "  # Negative k shifts data points backward, filling late entries with NaN.\n",
        "  StockB_lagged = StockB_series.shift(k)\n",
        "\n",
        "  # Calculate the correlation between the original StockA and the lagged StockB\n",
        "  # The .corr() method automatically handles NaN values by excluding them\n",
        "  correlation = StockA_series.corr(StockB_lagged)\n",
        "\n",
        "  return correlation\n",
        "\n",
        "# # Example usage with a lag of k=1 day\n",
        "# correlation_value_lag1 = Correlation_Coefficient_Lag(GOOGDailyClose, MSFTDailyClose, k=1)\n",
        "# print(f\"The Pearson correlation coefficient between GOOG and MSFT with a 1-day lag on MSFT is: {correlation_value_lag1}\")\n",
        "\n",
        "# # Example usage with a lag of k=-1 day\n",
        "# correlation_value_lag_neg1 = Correlation_Coefficient_Lag(GOOGDailyClose, MSFTDailyClose, k=-1)\n",
        "# print(f\"The Pearson correlation coefficient between GOOG and MSFT with a -1-day lag on MSFT is: {correlation_value_lag_neg1}\")\n",
        "\n",
        "# # Example usage with no lag (k=0)\n",
        "# correlation_value_lag0 = Correlation_Coefficient_Lag(GOOGDailyClose, MSFTDailyClose, k=0)\n",
        "# print(f\"The Pearson correlation coefficient between GOOG and MSFT with no lag is: {correlation_value_lag0}\")"
      ],
      "cell_type": "code",
      "metadata": {
        "id": "RaVWV0y2PKdy"
      },
      "execution_count": null,
      "outputs": []
    },
    {
      "cell_type": "markdown",
      "source": [
        "## Function: Sample GOOG and MSFT Correlation"
      ],
      "metadata": {
        "id": "uK3tEpu0nyDv"
      }
    },
    {
      "cell_type": "code",
      "source": [
        "def GOOG_MSFT():\n",
        "  # Access the 'ticker' level from the index for filtering\n",
        "  GOOGDailyClose = stock_TimeFiltered_aggregated_close.loc[stock_TimeFiltered_aggregated_close.index.get_level_values('ticker') == \"GOOG\"]\n",
        "  MSFTDailyClose = stock_TimeFiltered_aggregated_close.loc[stock_TimeFiltered_aggregated_close.index.get_level_values('ticker') == \"MSFT\"]\n",
        "\n",
        "  GOOGDailyClose.info()\n",
        "  GOOGDailyClose.head()\n",
        "\n",
        "# Correlation_Coefficient Function\n",
        "# Using the Pearson correlation coefficient to determine correlation between two stocks\n",
        "\n",
        "def Correlation_Coefficient_testing(StockA, StockB):\n",
        "  # Calculate the correlation between the 'close' columns\n",
        "  StockA = StockA['close'].droplevel('ticker')\n",
        "  StockB = StockB['close'].droplevel('ticker')\n",
        "  correlation = StockA.corr(StockB)\n",
        "  return correlation\n",
        "\n",
        "  correlation_value = Correlation_Coefficient_testing(GOOGDailyClose, MSFTDailyClose)\n",
        "  print(f\"The Pearson correlation coefficient between GOOG and MSFT is: {correlation_value}\")"
      ],
      "metadata": {
        "id": "nHJt6DToYIU5",
        "collapsed": true
      },
      "execution_count": null,
      "outputs": []
    },
    {
      "cell_type": "markdown",
      "source": [
        "## Function: Correlation Coeficient for entire stock data set"
      ],
      "metadata": {
        "id": "-Aj3d3SJJe3p"
      }
    },
    {
      "source": [
        "def calculate_lagged_correlation(df, end_date, lag_days=1):\n",
        "  # import pandas as pd\n",
        "  # import numpy as np\n",
        "  # from tqdm.notebook import tqdm # Import tqdm\n",
        "  \"\"\"\n",
        "  Calculates the pairwise Pearson correlation coefficient between all stocks\n",
        "  in a DataFrame for a specified 6-month period with a given lag.\n",
        "\n",
        "  Args:\n",
        "    df: DataFrame with a MultiIndex (ticker, year, month, day) and 'close' column.\n",
        "    end_date: The end date (inclusive) of the 6-month period as a string 'YYYY-MM-DD'.\n",
        "    lag_days: The number of days to lag the second stock's data.\n",
        "\n",
        "  Returns:\n",
        "    A pandas DataFrame containing the pairwise correlation coefficients.\n",
        "  \"\"\"\n",
        "  # Convert end_date to datetime object\n",
        "  end_datetime = pd.to_datetime(end_date)\n",
        "\n",
        "  # Calculate the start date for the 6-month period\n",
        "  start_datetime = end_datetime - pd.DateOffset(months=6)\n",
        "\n",
        "  # Filter the DataFrame for the specified date range\n",
        "  # We need to create a datetime column from the index to filter\n",
        "  df['datetime'] = pd.to_datetime(df.index.get_level_values('year').astype(str) + '-' +\n",
        "                                   df.index.get_level_values('month').astype(str) + '-' +\n",
        "                                   df.index.get_level_values('day').astype(str))\n",
        "  filtered_df = df[(df['datetime'] >= start_datetime) & (df['datetime'] <= end_datetime)]\n",
        "  filtered_df = filtered_df.drop(columns=['datetime']) # Drop the temporary datetime column\n",
        "\n",
        "\n",
        "  # Get unique tickers in the filtered data\n",
        "  tickers = filtered_df.index.get_level_values('ticker').unique()\n",
        "\n",
        "  # Create an empty DataFrame to store correlation results\n",
        "  correlation_matrix = pd.DataFrame(index=tickers, columns=tickers, dtype=float)\n",
        "\n",
        "  # Iterate through all pairs of tickers with a progress bar\n",
        "  for ticker_a in tqdm(tickers, desc=\"Calculating correlations\"): # Add tqdm here\n",
        "\n",
        "    # Extract data for each ticker\n",
        "    stock_a_data = filtered_df.loc[ticker_a, 'close']\n",
        "\n",
        "    for ticker_b in tickers:\n",
        "      if ticker_a != ticker_b:\n",
        "        # Extract data for each ticker\n",
        "        stock_b_data = filtered_df.loc[ticker_b, 'close']\n",
        "\n",
        "        # Align the dataframes based on the date index\n",
        "        aligned_data = pd.merge(stock_a_data.reset_index(), stock_b_data.reset_index(),\n",
        "                                on=['year', 'month', 'day'], how='inner', suffixes=('_A', '_B'))\n",
        "        aligned_data['datetime'] = pd.to_datetime(aligned_data['year'].astype(str) + '-' +\n",
        "                                                  aligned_data['month'].astype(str) + '-' +\n",
        "                                                  aligned_data['day'].astype(str))\n",
        "        aligned_data = aligned_data.set_index('datetime').sort_index()\n",
        "\n",
        "        # Apply the lag to stock_b_data\n",
        "        lagged_stock_b_data = aligned_data['close_B'].shift(lag_days)\n",
        "\n",
        "        # Calculate correlation, dropping NaN values\n",
        "        correlation = aligned_data['close_A'].corr(lagged_stock_b_data)\n",
        "\n",
        "        # Store the correlation in the matrix\n",
        "        correlation_matrix.loc[ticker_a, ticker_b] = correlation\n",
        "\n",
        "  return correlation_matrix\n",
        "\n",
        "# Example usage:\n",
        "# Assuming 'stock_TimeFiltered_aggregated_close' is your aggregated stock data\n",
        "# and you want to calculate correlations ending on '2023-12-31' with a 1-day lag.\n",
        "# Replace 'stock_TimeFiltered_aggregated_close' with the actual name of your DataFrame.\n",
        "# end_date = '2023-12-31'\n",
        "# lagged_correlations = calculate_pairwise_lagged_correlation(stock_TimeFiltered_aggregated_close, end_date, lag_days=1)\n",
        "\n",
        "# Display the correlation matrix\n",
        "# print(lagged_correlations)\n",
        "\n",
        "# To access the correlation between specific stocks, e.g., GOOG and MSFT:\n",
        "# print(lagged_correlations.loc['GOOG', 'MSFT'])"
      ],
      "cell_type": "code",
      "metadata": {
        "collapsed": true,
        "id": "FtqUV9nKkT6q"
      },
      "execution_count": null,
      "outputs": []
    },
    {
      "cell_type": "markdown",
      "source": [
        "# **Run Fucntions**"
      ],
      "metadata": {
        "id": "aCEfO-bsKNCg"
      }
    },
    {
      "cell_type": "code",
      "source": [
        "# #import Stock data from MyDrive\n",
        "# nasdaq_stocks = ImportStockData()\n",
        "\n",
        "# #Manipulate the raw stock data for my correlation function\n",
        "# stock_TimeFiltered_aggregated_close = ManipulateStockData(nasdaq_stocks)\n",
        "\n",
        "# $ enter end date and run correlation function on entire stock data. This will take a couple of hours\n",
        "# end_date = '2023-12-31'\n",
        "# lagged_correlations = calculate_lagged_correlation(stock_TimeFiltered_aggregated_close, end_date, lag_days=1)\n",
        "\n",
        "# import correlation data from entire stock data that I saved off earlier on MyDrive\n",
        "sixMonth_correlation_data = import_variable(\"6month_correlation_data.parquet\")"
      ],
      "metadata": {
        "id": "BxwPwW4fKQa3",
        "colab": {
          "base_uri": "https://localhost:8080/"
        },
        "outputId": "4c887b84-0304-4fea-ba75-e2767dd01679"
      },
      "execution_count": 3,
      "outputs": [
        {
          "output_type": "stream",
          "name": "stdout",
          "text": [
            "Successfully loaded data from /content/drive/MyDrive/Colab Notebooks/6month_correlation_data.parquet\n"
          ]
        }
      ]
    },
    {
      "cell_type": "code",
      "source": [
        "sixMonth_correlation_data.head()"
      ],
      "metadata": {
        "id": "KO9Imi9d37qN",
        "outputId": "3d07f6ca-72bf-4156-e85f-38f6f28c2a96",
        "colab": {
          "base_uri": "https://localhost:8080/",
          "height": 284
        }
      },
      "execution_count": 4,
      "outputs": [
        {
          "output_type": "execute_result",
          "data": {
            "text/plain": [
              "ticker         A       AAL      AAPL      ABBV      ABNB       ABT      ACGL  \\\n",
              "ticker                                                                         \n",
              "A            NaN  0.436758  0.757819  0.288543  0.607573  0.809978 -0.538292   \n",
              "AAL     0.452222       NaN  0.478573 -0.163185  0.585997  0.786411 -0.640565   \n",
              "AAPL    0.710954  0.442058       NaN -0.216552  0.473942  0.682018 -0.230604   \n",
              "ABBV    0.372804 -0.105593 -0.131037       NaN  0.415187  0.146274 -0.395282   \n",
              "ABNB    0.613458  0.621719  0.559474  0.281844       NaN  0.750441 -0.493802   \n",
              "\n",
              "ticker       ACN      ADBE       ADI  ...       XEL       XOM      XRAY  \\\n",
              "ticker                                ...                                 \n",
              "A       0.796953  0.404781  0.842058  ...  0.525649 -0.557427  0.368325   \n",
              "AAL     0.064239 -0.441841  0.713112  ...  0.562134 -0.206805  0.887095   \n",
              "AAPL    0.722727  0.491655  0.789603  ...  0.727525 -0.763722  0.204642   \n",
              "ABBV    0.282598  0.037046  0.148404  ... -0.256691  0.266532  0.133924   \n",
              "ABNB    0.467323  0.008323  0.768117  ...  0.424643 -0.092379  0.644370   \n",
              "\n",
              "ticker       XYL       YUM       ZBH      ZBRA      ZION        ZS       ZTS  \n",
              "ticker                                                                        \n",
              "A       0.821145  0.552922  0.430932  0.531129  0.765019  0.574620  0.781411  \n",
              "AAL     0.736120  0.867612  0.947020  0.914810 -0.000202 -0.315867  0.291796  \n",
              "AAPL    0.864476  0.534349  0.489626  0.497019  0.448326  0.562604  0.445853  \n",
              "ABBV   -0.056698 -0.096285 -0.128934  0.000503  0.670791  0.217431  0.647417  \n",
              "ABNB    0.631221  0.612729  0.693432  0.698900  0.504298  0.144670  0.644826  \n",
              "\n",
              "[5 rows x 510 columns]"
            ],
            "text/html": [
              "\n",
              "  <div id=\"df-a4339684-635c-4da7-8651-6188647b1fc9\" class=\"colab-df-container\">\n",
              "    <div>\n",
              "<style scoped>\n",
              "    .dataframe tbody tr th:only-of-type {\n",
              "        vertical-align: middle;\n",
              "    }\n",
              "\n",
              "    .dataframe tbody tr th {\n",
              "        vertical-align: top;\n",
              "    }\n",
              "\n",
              "    .dataframe thead th {\n",
              "        text-align: right;\n",
              "    }\n",
              "</style>\n",
              "<table border=\"1\" class=\"dataframe\">\n",
              "  <thead>\n",
              "    <tr style=\"text-align: right;\">\n",
              "      <th>ticker</th>\n",
              "      <th>A</th>\n",
              "      <th>AAL</th>\n",
              "      <th>AAPL</th>\n",
              "      <th>ABBV</th>\n",
              "      <th>ABNB</th>\n",
              "      <th>ABT</th>\n",
              "      <th>ACGL</th>\n",
              "      <th>ACN</th>\n",
              "      <th>ADBE</th>\n",
              "      <th>ADI</th>\n",
              "      <th>...</th>\n",
              "      <th>XEL</th>\n",
              "      <th>XOM</th>\n",
              "      <th>XRAY</th>\n",
              "      <th>XYL</th>\n",
              "      <th>YUM</th>\n",
              "      <th>ZBH</th>\n",
              "      <th>ZBRA</th>\n",
              "      <th>ZION</th>\n",
              "      <th>ZS</th>\n",
              "      <th>ZTS</th>\n",
              "    </tr>\n",
              "    <tr>\n",
              "      <th>ticker</th>\n",
              "      <th></th>\n",
              "      <th></th>\n",
              "      <th></th>\n",
              "      <th></th>\n",
              "      <th></th>\n",
              "      <th></th>\n",
              "      <th></th>\n",
              "      <th></th>\n",
              "      <th></th>\n",
              "      <th></th>\n",
              "      <th></th>\n",
              "      <th></th>\n",
              "      <th></th>\n",
              "      <th></th>\n",
              "      <th></th>\n",
              "      <th></th>\n",
              "      <th></th>\n",
              "      <th></th>\n",
              "      <th></th>\n",
              "      <th></th>\n",
              "      <th></th>\n",
              "    </tr>\n",
              "  </thead>\n",
              "  <tbody>\n",
              "    <tr>\n",
              "      <th>A</th>\n",
              "      <td>NaN</td>\n",
              "      <td>0.436758</td>\n",
              "      <td>0.757819</td>\n",
              "      <td>0.288543</td>\n",
              "      <td>0.607573</td>\n",
              "      <td>0.809978</td>\n",
              "      <td>-0.538292</td>\n",
              "      <td>0.796953</td>\n",
              "      <td>0.404781</td>\n",
              "      <td>0.842058</td>\n",
              "      <td>...</td>\n",
              "      <td>0.525649</td>\n",
              "      <td>-0.557427</td>\n",
              "      <td>0.368325</td>\n",
              "      <td>0.821145</td>\n",
              "      <td>0.552922</td>\n",
              "      <td>0.430932</td>\n",
              "      <td>0.531129</td>\n",
              "      <td>0.765019</td>\n",
              "      <td>0.574620</td>\n",
              "      <td>0.781411</td>\n",
              "    </tr>\n",
              "    <tr>\n",
              "      <th>AAL</th>\n",
              "      <td>0.452222</td>\n",
              "      <td>NaN</td>\n",
              "      <td>0.478573</td>\n",
              "      <td>-0.163185</td>\n",
              "      <td>0.585997</td>\n",
              "      <td>0.786411</td>\n",
              "      <td>-0.640565</td>\n",
              "      <td>0.064239</td>\n",
              "      <td>-0.441841</td>\n",
              "      <td>0.713112</td>\n",
              "      <td>...</td>\n",
              "      <td>0.562134</td>\n",
              "      <td>-0.206805</td>\n",
              "      <td>0.887095</td>\n",
              "      <td>0.736120</td>\n",
              "      <td>0.867612</td>\n",
              "      <td>0.947020</td>\n",
              "      <td>0.914810</td>\n",
              "      <td>-0.000202</td>\n",
              "      <td>-0.315867</td>\n",
              "      <td>0.291796</td>\n",
              "    </tr>\n",
              "    <tr>\n",
              "      <th>AAPL</th>\n",
              "      <td>0.710954</td>\n",
              "      <td>0.442058</td>\n",
              "      <td>NaN</td>\n",
              "      <td>-0.216552</td>\n",
              "      <td>0.473942</td>\n",
              "      <td>0.682018</td>\n",
              "      <td>-0.230604</td>\n",
              "      <td>0.722727</td>\n",
              "      <td>0.491655</td>\n",
              "      <td>0.789603</td>\n",
              "      <td>...</td>\n",
              "      <td>0.727525</td>\n",
              "      <td>-0.763722</td>\n",
              "      <td>0.204642</td>\n",
              "      <td>0.864476</td>\n",
              "      <td>0.534349</td>\n",
              "      <td>0.489626</td>\n",
              "      <td>0.497019</td>\n",
              "      <td>0.448326</td>\n",
              "      <td>0.562604</td>\n",
              "      <td>0.445853</td>\n",
              "    </tr>\n",
              "    <tr>\n",
              "      <th>ABBV</th>\n",
              "      <td>0.372804</td>\n",
              "      <td>-0.105593</td>\n",
              "      <td>-0.131037</td>\n",
              "      <td>NaN</td>\n",
              "      <td>0.415187</td>\n",
              "      <td>0.146274</td>\n",
              "      <td>-0.395282</td>\n",
              "      <td>0.282598</td>\n",
              "      <td>0.037046</td>\n",
              "      <td>0.148404</td>\n",
              "      <td>...</td>\n",
              "      <td>-0.256691</td>\n",
              "      <td>0.266532</td>\n",
              "      <td>0.133924</td>\n",
              "      <td>-0.056698</td>\n",
              "      <td>-0.096285</td>\n",
              "      <td>-0.128934</td>\n",
              "      <td>0.000503</td>\n",
              "      <td>0.670791</td>\n",
              "      <td>0.217431</td>\n",
              "      <td>0.647417</td>\n",
              "    </tr>\n",
              "    <tr>\n",
              "      <th>ABNB</th>\n",
              "      <td>0.613458</td>\n",
              "      <td>0.621719</td>\n",
              "      <td>0.559474</td>\n",
              "      <td>0.281844</td>\n",
              "      <td>NaN</td>\n",
              "      <td>0.750441</td>\n",
              "      <td>-0.493802</td>\n",
              "      <td>0.467323</td>\n",
              "      <td>0.008323</td>\n",
              "      <td>0.768117</td>\n",
              "      <td>...</td>\n",
              "      <td>0.424643</td>\n",
              "      <td>-0.092379</td>\n",
              "      <td>0.644370</td>\n",
              "      <td>0.631221</td>\n",
              "      <td>0.612729</td>\n",
              "      <td>0.693432</td>\n",
              "      <td>0.698900</td>\n",
              "      <td>0.504298</td>\n",
              "      <td>0.144670</td>\n",
              "      <td>0.644826</td>\n",
              "    </tr>\n",
              "  </tbody>\n",
              "</table>\n",
              "<p>5 rows × 510 columns</p>\n",
              "</div>\n",
              "    <div class=\"colab-df-buttons\">\n",
              "\n",
              "  <div class=\"colab-df-container\">\n",
              "    <button class=\"colab-df-convert\" onclick=\"convertToInteractive('df-a4339684-635c-4da7-8651-6188647b1fc9')\"\n",
              "            title=\"Convert this dataframe to an interactive table.\"\n",
              "            style=\"display:none;\">\n",
              "\n",
              "  <svg xmlns=\"http://www.w3.org/2000/svg\" height=\"24px\" viewBox=\"0 -960 960 960\">\n",
              "    <path d=\"M120-120v-720h720v720H120Zm60-500h600v-160H180v160Zm220 220h160v-160H400v160Zm0 220h160v-160H400v160ZM180-400h160v-160H180v160Zm440 0h160v-160H620v160ZM180-180h160v-160H180v160Zm440 0h160v-160H620v160Z\"/>\n",
              "  </svg>\n",
              "    </button>\n",
              "\n",
              "  <style>\n",
              "    .colab-df-container {\n",
              "      display:flex;\n",
              "      gap: 12px;\n",
              "    }\n",
              "\n",
              "    .colab-df-convert {\n",
              "      background-color: #E8F0FE;\n",
              "      border: none;\n",
              "      border-radius: 50%;\n",
              "      cursor: pointer;\n",
              "      display: none;\n",
              "      fill: #1967D2;\n",
              "      height: 32px;\n",
              "      padding: 0 0 0 0;\n",
              "      width: 32px;\n",
              "    }\n",
              "\n",
              "    .colab-df-convert:hover {\n",
              "      background-color: #E2EBFA;\n",
              "      box-shadow: 0px 1px 2px rgba(60, 64, 67, 0.3), 0px 1px 3px 1px rgba(60, 64, 67, 0.15);\n",
              "      fill: #174EA6;\n",
              "    }\n",
              "\n",
              "    .colab-df-buttons div {\n",
              "      margin-bottom: 4px;\n",
              "    }\n",
              "\n",
              "    [theme=dark] .colab-df-convert {\n",
              "      background-color: #3B4455;\n",
              "      fill: #D2E3FC;\n",
              "    }\n",
              "\n",
              "    [theme=dark] .colab-df-convert:hover {\n",
              "      background-color: #434B5C;\n",
              "      box-shadow: 0px 1px 3px 1px rgba(0, 0, 0, 0.15);\n",
              "      filter: drop-shadow(0px 1px 2px rgba(0, 0, 0, 0.3));\n",
              "      fill: #FFFFFF;\n",
              "    }\n",
              "  </style>\n",
              "\n",
              "    <script>\n",
              "      const buttonEl =\n",
              "        document.querySelector('#df-a4339684-635c-4da7-8651-6188647b1fc9 button.colab-df-convert');\n",
              "      buttonEl.style.display =\n",
              "        google.colab.kernel.accessAllowed ? 'block' : 'none';\n",
              "\n",
              "      async function convertToInteractive(key) {\n",
              "        const element = document.querySelector('#df-a4339684-635c-4da7-8651-6188647b1fc9');\n",
              "        const dataTable =\n",
              "          await google.colab.kernel.invokeFunction('convertToInteractive',\n",
              "                                                    [key], {});\n",
              "        if (!dataTable) return;\n",
              "\n",
              "        const docLinkHtml = 'Like what you see? Visit the ' +\n",
              "          '<a target=\"_blank\" href=https://colab.research.google.com/notebooks/data_table.ipynb>data table notebook</a>'\n",
              "          + ' to learn more about interactive tables.';\n",
              "        element.innerHTML = '';\n",
              "        dataTable['output_type'] = 'display_data';\n",
              "        await google.colab.output.renderOutput(dataTable, element);\n",
              "        const docLink = document.createElement('div');\n",
              "        docLink.innerHTML = docLinkHtml;\n",
              "        element.appendChild(docLink);\n",
              "      }\n",
              "    </script>\n",
              "  </div>\n",
              "\n",
              "\n",
              "    <div id=\"df-051ee5f5-b115-4a76-9639-b4f852572cc7\">\n",
              "      <button class=\"colab-df-quickchart\" onclick=\"quickchart('df-051ee5f5-b115-4a76-9639-b4f852572cc7')\"\n",
              "                title=\"Suggest charts\"\n",
              "                style=\"display:none;\">\n",
              "\n",
              "<svg xmlns=\"http://www.w3.org/2000/svg\" height=\"24px\"viewBox=\"0 0 24 24\"\n",
              "     width=\"24px\">\n",
              "    <g>\n",
              "        <path d=\"M19 3H5c-1.1 0-2 .9-2 2v14c0 1.1.9 2 2 2h14c1.1 0 2-.9 2-2V5c0-1.1-.9-2-2-2zM9 17H7v-7h2v7zm4 0h-2V7h2v10zm4 0h-2v-4h2v4z\"/>\n",
              "    </g>\n",
              "</svg>\n",
              "      </button>\n",
              "\n",
              "<style>\n",
              "  .colab-df-quickchart {\n",
              "      --bg-color: #E8F0FE;\n",
              "      --fill-color: #1967D2;\n",
              "      --hover-bg-color: #E2EBFA;\n",
              "      --hover-fill-color: #174EA6;\n",
              "      --disabled-fill-color: #AAA;\n",
              "      --disabled-bg-color: #DDD;\n",
              "  }\n",
              "\n",
              "  [theme=dark] .colab-df-quickchart {\n",
              "      --bg-color: #3B4455;\n",
              "      --fill-color: #D2E3FC;\n",
              "      --hover-bg-color: #434B5C;\n",
              "      --hover-fill-color: #FFFFFF;\n",
              "      --disabled-bg-color: #3B4455;\n",
              "      --disabled-fill-color: #666;\n",
              "  }\n",
              "\n",
              "  .colab-df-quickchart {\n",
              "    background-color: var(--bg-color);\n",
              "    border: none;\n",
              "    border-radius: 50%;\n",
              "    cursor: pointer;\n",
              "    display: none;\n",
              "    fill: var(--fill-color);\n",
              "    height: 32px;\n",
              "    padding: 0;\n",
              "    width: 32px;\n",
              "  }\n",
              "\n",
              "  .colab-df-quickchart:hover {\n",
              "    background-color: var(--hover-bg-color);\n",
              "    box-shadow: 0 1px 2px rgba(60, 64, 67, 0.3), 0 1px 3px 1px rgba(60, 64, 67, 0.15);\n",
              "    fill: var(--button-hover-fill-color);\n",
              "  }\n",
              "\n",
              "  .colab-df-quickchart-complete:disabled,\n",
              "  .colab-df-quickchart-complete:disabled:hover {\n",
              "    background-color: var(--disabled-bg-color);\n",
              "    fill: var(--disabled-fill-color);\n",
              "    box-shadow: none;\n",
              "  }\n",
              "\n",
              "  .colab-df-spinner {\n",
              "    border: 2px solid var(--fill-color);\n",
              "    border-color: transparent;\n",
              "    border-bottom-color: var(--fill-color);\n",
              "    animation:\n",
              "      spin 1s steps(1) infinite;\n",
              "  }\n",
              "\n",
              "  @keyframes spin {\n",
              "    0% {\n",
              "      border-color: transparent;\n",
              "      border-bottom-color: var(--fill-color);\n",
              "      border-left-color: var(--fill-color);\n",
              "    }\n",
              "    20% {\n",
              "      border-color: transparent;\n",
              "      border-left-color: var(--fill-color);\n",
              "      border-top-color: var(--fill-color);\n",
              "    }\n",
              "    30% {\n",
              "      border-color: transparent;\n",
              "      border-left-color: var(--fill-color);\n",
              "      border-top-color: var(--fill-color);\n",
              "      border-right-color: var(--fill-color);\n",
              "    }\n",
              "    40% {\n",
              "      border-color: transparent;\n",
              "      border-right-color: var(--fill-color);\n",
              "      border-top-color: var(--fill-color);\n",
              "    }\n",
              "    60% {\n",
              "      border-color: transparent;\n",
              "      border-right-color: var(--fill-color);\n",
              "    }\n",
              "    80% {\n",
              "      border-color: transparent;\n",
              "      border-right-color: var(--fill-color);\n",
              "      border-bottom-color: var(--fill-color);\n",
              "    }\n",
              "    90% {\n",
              "      border-color: transparent;\n",
              "      border-bottom-color: var(--fill-color);\n",
              "    }\n",
              "  }\n",
              "</style>\n",
              "\n",
              "      <script>\n",
              "        async function quickchart(key) {\n",
              "          const quickchartButtonEl =\n",
              "            document.querySelector('#' + key + ' button');\n",
              "          quickchartButtonEl.disabled = true;  // To prevent multiple clicks.\n",
              "          quickchartButtonEl.classList.add('colab-df-spinner');\n",
              "          try {\n",
              "            const charts = await google.colab.kernel.invokeFunction(\n",
              "                'suggestCharts', [key], {});\n",
              "          } catch (error) {\n",
              "            console.error('Error during call to suggestCharts:', error);\n",
              "          }\n",
              "          quickchartButtonEl.classList.remove('colab-df-spinner');\n",
              "          quickchartButtonEl.classList.add('colab-df-quickchart-complete');\n",
              "        }\n",
              "        (() => {\n",
              "          let quickchartButtonEl =\n",
              "            document.querySelector('#df-051ee5f5-b115-4a76-9639-b4f852572cc7 button');\n",
              "          quickchartButtonEl.style.display =\n",
              "            google.colab.kernel.accessAllowed ? 'block' : 'none';\n",
              "        })();\n",
              "      </script>\n",
              "    </div>\n",
              "\n",
              "    </div>\n",
              "  </div>\n"
            ],
            "application/vnd.google.colaboratory.intrinsic+json": {
              "type": "dataframe",
              "variable_name": "sixMonth_correlation_data"
            }
          },
          "metadata": {},
          "execution_count": 4
        }
      ]
    },
    {
      "source": [
        "def get_most_correlated_tickers_with_sign(correlation_matrix, z_threshold=1.5):\n",
        "  \"\"\"\n",
        "  Identifies the most correlated tickers for each ticker in a correlation matrix\n",
        "  using a dynamic threshold based on the mean and standard deviation of absolute\n",
        "  correlations for each ticker, and includes the original correlation sign.\n",
        "\n",
        "  Args:\n",
        "    correlation_matrix: A pandas DataFrame where both index and columns are tickers,\n",
        "                        and values are correlation coefficients.\n",
        "    z_threshold: The number of standard deviations from the mean to use as the threshold.\n",
        "\n",
        "  Returns:\n",
        "    A pandas DataFrame where the index is tickers and the values are lists of\n",
        "    (ticker, correlation_coefficient) tuples for the most correlated tickers,\n",
        "    with the original sign of the correlation coefficient preserved.\n",
        "  \"\"\"\n",
        "  most_correlated_df = pd.DataFrame(index=correlation_matrix.index, columns=['most_correlated'])\n",
        "\n",
        "  for ticker in correlation_matrix.index:\n",
        "    # Get the correlation series for the current ticker\n",
        "    ticker_correlations = correlation_matrix.loc[ticker].drop(ticker) # Exclude self-correlation\n",
        "\n",
        "    # Calculate mean and standard deviation of absolute correlations\n",
        "    abs_correlations = ticker_correlations.abs()\n",
        "    mean_abs_corr = abs_correlations.mean()\n",
        "    std_abs_corr = abs_correlations.std()\n",
        "\n",
        "    # Define the dynamic threshold\n",
        "    dynamic_threshold = mean_abs_corr + (z_threshold * std_abs_corr)\n",
        "\n",
        "    # Filter for correlations above the dynamic threshold (in absolute value)\n",
        "    # We still filter based on the absolute value to find strong correlations\n",
        "    highly_correlated_abs = abs_correlations[abs_correlations > dynamic_threshold]\n",
        "\n",
        "    # Get the original correlation values for the highly correlated tickers\n",
        "    highly_correlated = ticker_correlations.loc[highly_correlated_abs.index]\n",
        "\n",
        "\n",
        "    # Store the results as a list of tuples, preserving the original sign\n",
        "    most_correlated_list = [(other_ticker, highly_correlated.loc[other_ticker]) for other_ticker in highly_correlated.index]\n",
        "    most_correlated_df.loc[ticker, 'most_correlated'] = most_correlated_list\n",
        "\n",
        "  return most_correlated_df\n",
        "\n"
      ],
      "cell_type": "code",
      "metadata": {
        "id": "GglSP8rvQUSb"
      },
      "execution_count": 5,
      "outputs": []
    },
    {
      "cell_type": "code",
      "source": [
        "# Example usage with your loaded correlation data:\n",
        "# Assuming sixMonth_correlation_data is already loaded\n",
        "most_correlated_stocks_with_sign = get_most_correlated_tickers_with_sign(sixMonth_correlation_data)\n",
        "\n",
        "# Display the resulting DataFrame\n",
        "print(most_correlated_stocks_with_sign)"
      ],
      "metadata": {
        "id": "Fszos7hoQiLa",
        "outputId": "e5ed2013-9d8d-428c-9aba-889629ce1d94",
        "colab": {
          "base_uri": "https://localhost:8080/"
        }
      },
      "execution_count": 6,
      "outputs": [
        {
          "output_type": "stream",
          "name": "stdout",
          "text": [
            "                                          most_correlated\n",
            "ticker                                                   \n",
            "A       [(BA, 0.9381780687124879), (BAC, 0.92726986591...\n",
            "AAL     [(DAL, 0.9650509864724475), (KVUE, 0.954373478...\n",
            "AAPL    [(ASML, 0.8777334013608582), (BALL, 0.91797780...\n",
            "ABBV    [(ADP, 0.5560161838991267), (BALL, 0.535657339...\n",
            "ABNB    [(BALL, 0.8881637780138035), (FIS, 0.812539495...\n",
            "...                                                   ...\n",
            "ZBH     [(AAL, 0.9458835068084558), (BALL, 0.939787929...\n",
            "ZBRA    [(HCA, 0.9441286488789773), (ROP, 0.9534806501...\n",
            "ZION    [(AMP, 0.8662669489294756), (APH, 0.8624933168...\n",
            "ZS      [(AIG, 0.9101897391463175), (ALL, 0.8865578236...\n",
            "ZTS     [(A, 0.8246457985783444), (AME, 0.821511266599...\n",
            "\n",
            "[510 rows x 1 columns]\n"
          ]
        }
      ]
    },
    {
      "source": [
        "def get_most_correlated_tickers_long_format(correlation_matrix, z_threshold=2):\n",
        "  \"\"\"\n",
        "  Identifies the most correlated tickers for each ticker in a correlation matrix\n",
        "  using a dynamic threshold and returns results in a long format DataFrame.\n",
        "\n",
        "  Args:\n",
        "    correlation_matrix: A pandas DataFrame where both index and columns are tickers,\n",
        "                        and values are correlation coefficients.\n",
        "    z_threshold: The number of standard deviations from the mean to use as the threshold.\n",
        "\n",
        "  Returns:\n",
        "    A pandas DataFrame with columns 'ticker_a', 'ticker_b', and 'correlation_coefficient'\n",
        "    for the most correlated pairs.\n",
        "  \"\"\"\n",
        "  correlated_pairs = []\n",
        "\n",
        "  for ticker in correlation_matrix.index:\n",
        "    # Get the correlation series for the current ticker\n",
        "    ticker_correlations = correlation_matrix.loc[ticker].drop(ticker) # Exclude self-correlation\n",
        "\n",
        "    # Calculate mean and standard deviation of absolute correlations\n",
        "    abs_correlations = ticker_correlations.abs()\n",
        "    mean_abs_corr = abs_correlations.mean()\n",
        "    std_abs_corr = abs_correlations.std()\n",
        "\n",
        "    # Define the dynamic threshold\n",
        "    dynamic_threshold = mean_abs_corr + (z_threshold * std_abs_corr)\n",
        "\n",
        "    # Filter for correlations above the dynamic threshold (in absolute value)\n",
        "    highly_correlated_abs = abs_correlations[abs_correlations > dynamic_threshold]\n",
        "\n",
        "    # Get the original correlation values for the highly correlated tickers\n",
        "    highly_correlated = ticker_correlations.loc[highly_correlated_abs.index]\n",
        "\n",
        "    # Append correlated pairs to the list\n",
        "    for other_ticker, correlation in highly_correlated.items():\n",
        "      correlated_pairs.append({'ticker_a': ticker, 'ticker_b': other_ticker, 'correlation_coefficient': correlation})\n",
        "\n",
        "  return pd.DataFrame(correlated_pairs)\n",
        "\n",
        "# Example usage:\n",
        "most_correlated_stocks_long = get_most_correlated_tickers_long_format(sixMonth_correlation_data)\n",
        "\n",
        "# Display the long format DataFrame\n",
        "print(most_correlated_stocks_long.head())"
      ],
      "cell_type": "code",
      "metadata": {
        "id": "WOiXit34RX6j",
        "outputId": "3c45ff82-250c-4780-ebb3-170d66d8bfbd",
        "colab": {
          "base_uri": "https://localhost:8080/"
        }
      },
      "execution_count": 13,
      "outputs": [
        {
          "output_type": "stream",
          "name": "stdout",
          "text": [
            "  ticker_a ticker_b  correlation_coefficient\n",
            "0     ABBV     BKNG                 0.630420\n",
            "1     ABBV      BXP                 0.637487\n",
            "2     ABBV     CARR                 0.600519\n",
            "3     ABBV      CAT                 0.791159\n",
            "4     ABBV     CINF                 0.670370\n"
          ]
        }
      ]
    },
    {
      "source": [
        "import networkx as nx\n",
        "import matplotlib.pyplot as plt\n",
        "import ipywidgets as widgets\n",
        "from IPython.display import display\n",
        "import numpy as np # Import numpy for handling potential NaN values or transformations\n",
        "\n",
        "def plot_ticker_network(correlated_data, target_ticker):\n",
        "  \"\"\"\n",
        "  Plots a network graph for a specific ticker and its most correlated partners.\n",
        "  The distance between nodes is proportional to the inverse of the absolute correlation.\n",
        "\n",
        "  Args:\n",
        "    correlated_data: DataFrame with columns 'ticker_a', 'ticker_b', 'correlation_coefficient'.\n",
        "    target_ticker: The ticker for which to generate the network graph.\n",
        "  \"\"\"\n",
        "  # Filter the data to include only connections involving the target ticker\n",
        "  ticker_connections = correlated_data[(correlated_data['ticker_a'] == target_ticker) |\n",
        "                                     (correlated_data['ticker_b'] == target_ticker)].copy()\n",
        "\n",
        "  # Create a graph\n",
        "  # Add the absolute correlation as an edge attribute named 'weight' for spring_layout\n",
        "  G = nx.from_pandas_edgelist(ticker_connections,\n",
        "                              'ticker_a', 'ticker_b', ['correlation_coefficient'])\n",
        "\n",
        "  # Add the absolute correlation as the 'weight' attribute for spring_layout\n",
        "  # We use the absolute value because spring_layout interprets higher weights as stronger connections\n",
        "  # and pulls nodes closer.\n",
        "  for u, v, d in G.edges(data=True):\n",
        "      d['weight'] = abs(d['correlation_coefficient'])\n",
        "      # Handle potential NaN weights if any correlations were NaN\n",
        "      if np.isnan(d['weight']):\n",
        "          d['weight'] = 0.1 # Assign a small weight if correlation is NaN, adjust as needed\n",
        "\n",
        "  # Customize graph visualization\n",
        "  plt.figure(figsize=(10, 8))\n",
        "  # Use the 'weight' attribute for spring_layout. Higher weight means stronger pull (closer).\n",
        "  pos = nx.spring_layout(G, k=0.8, weight='weight')  # Use the absolute correlation as weight [1]\n",
        "\n",
        "  # Draw nodes\n",
        "  nx.draw_networkx_nodes(G, pos, node_size=800, node_color='skyblue', alpha=0.9)\n",
        "\n",
        "  # Draw edges and color based on correlation sign\n",
        "  edge_colors = ['red' if data['correlation_coefficient'] < 0 else 'green' for u, v, data in G.edges(data=True)]\n",
        "  nx.draw_networkx_edges(G, pos, edge_color=edge_colors, width=2)\n",
        "\n",
        "  # Draw labels\n",
        "  nx.draw_networkx_labels(G, pos, font_size=10, font_weight='bold')\n",
        "\n",
        "  # Draw edge labels (correlation values)\n",
        "  edge_labels = nx.get_edge_attributes(G, 'correlation_coefficient')\n",
        "  # Format edge labels to 2 decimal places\n",
        "  formatted_edge_labels = {k: f'{v:.2f}' for k, v in edge_labels.items()}\n",
        "  nx.draw_networkx_edge_labels(G, pos, edge_labels=formatted_edge_labels, font_color='red')\n",
        "\n",
        "  plt.title(f'Network for {target_ticker} and Most Correlated Partners')\n",
        "  plt.axis('off') # Hide axes\n",
        "  plt.show()\n",
        "\n",
        "# Example usage (assuming most_correlated_stocks_long is your long format DataFrame)\n",
        "plot_ticker_network(most_correlated_stocks_long, 'GOOG') # Replace 'GOOG' with the ticker you want to visualize"
      ],
      "cell_type": "code",
      "metadata": {
        "id": "K-cE7v32Tjxe",
        "outputId": "9393b83c-c82b-481a-ff8d-f1bac5036c5a",
        "colab": {
          "base_uri": "https://localhost:8080/",
          "height": 675
        }
      },
      "execution_count": 14,
      "outputs": [
        {
          "output_type": "display_data",
          "data": {
            "text/plain": [
              "<Figure size 1000x800 with 1 Axes>"
            ],
            "image/png": "[encoded data removed]"
          },
          "metadata": {}
        }
      ]
    },
    {
      "source": [
        "import networkx as nx\n",
        "import matplotlib.pyplot as plt\n",
        "import ipywidgets as widgets\n",
        "from IPython.display import display\n",
        "import numpy as np\n",
        "import pandas as pd # Make sure pandas is imported\n",
        "\n",
        "def plot_ticker_network(correlated_data, target_ticker):\n",
        "  \"\"\"\n",
        "  Plots a network graph for a specific ticker and its most correlated partners.\n",
        "  The distance between nodes is proportional to the inverse of the absolute correlation,\n",
        "  scaled based on the distribution of correlations for the target ticker.\n",
        "\n",
        "  Args:\n",
        "    correlated_data: DataFrame with columns 'ticker_a', 'ticker_b', 'correlation_coefficient'.\n",
        "    target_ticker: The ticker for which to generate the network graph.\n",
        "  \"\"\"\n",
        "  # Filter the data to include only connections involving the target ticker\n",
        "  ticker_connections = correlated_data[(correlated_data['ticker_a'] == target_ticker) |\n",
        "                                     (correlated_data['ticker_b'] == target_ticker)].copy()\n",
        "\n",
        "  # Calculate absolute correlations for scaling\n",
        "  ticker_connections['abs_correlation'] = ticker_connections['correlation_coefficient'].abs()\n",
        "\n",
        "  # Handle cases where there are no connections found\n",
        "  if ticker_connections.empty:\n",
        "      print(f\"No significant correlations found for ticker {target_ticker} within the provided data.\")\n",
        "      return\n",
        "\n",
        "  # Calculate mean and standard deviation of absolute correlations within this subset\n",
        "  mean_abs_corr_subset = ticker_connections['abs_correlation'].mean()\n",
        "  std_abs_corr_subset = ticker_connections['abs_correlation'].std()\n",
        "\n",
        "  # Create a graph\n",
        "  G = nx.from_pandas_edgelist(ticker_connections,\n",
        "                              'ticker_a', 'ticker_b', ['correlation_coefficient', 'abs_correlation'])\n",
        "\n",
        "  # Add a scaled weight attribute for spring_layout\n",
        "  # We use a transformation that assigns higher weights to higher absolute correlations\n",
        "  # relative to the mean/std dev of the subset.\n",
        "  # Transformation: (absolute_correlation - mean) / std_dev + 1 (add 1 to ensure positive weights)\n",
        "  # If std_dev is zero (e.g., all correlations are the same), just use absolute value or a small constant.\n",
        "  scaled_weights = {}\n",
        "  for u, v, d in G.edges(data=True):\n",
        "      abs_corr = d['abs_correlation']\n",
        "      if std_abs_corr_subset > 0:\n",
        "          # Scale the absolute correlation relative to the mean and std dev of the subset\n",
        "          scaled_weight = (abs_corr - mean_abs_corr_subset) / std_abs_corr_subset + 1\n",
        "          # Ensure weight is positive and has a minimum value (e.g., 0.1 or 0.5)\n",
        "          d['weight'] = max(0.1, scaled_weight)\n",
        "      else:\n",
        "          # If std dev is 0, use the absolute correlation directly as weight (or a default)\n",
        "          d['weight'] = max(0.1, abs_corr)\n",
        "\n",
        "      # Handle potential NaN weights (shouldn't happen if abs_correlation is calculated correctly, but good practice)\n",
        "      if np.isnan(d['weight']):\n",
        "          d['weight'] = 0.1\n",
        "\n",
        "  # Customize graph visualization\n",
        "  plt.figure(figsize=(12, 10))\n",
        "  # Use the calculated 'weight' attribute for spring_layout. Higher weight means stronger pull (closer).\n",
        "  # Adjust k for overall spacing, iterations for convergence.\n",
        "  pos = nx.spring_layout(G, k=0.5, weight='weight', iterations=100) # Use the scaled weight\n",
        "\n",
        "  # Draw nodes\n",
        "  nx.draw_networkx_nodes(G, pos, node_size=800, node_color='skyblue', alpha=0.9)\n",
        "\n",
        "  # Draw edges and color based on correlation sign\n",
        "  edge_colors = ['red' if data['correlation_coefficient'] < 0 else 'green' for u, v, data in G.edges(data=True)]\n",
        "  nx.draw_networkx_edges(G, pos, edge_color=edge_colors, width=2)\n",
        "\n",
        "  # Draw labels\n",
        "  nx.draw_networkx_labels(G, pos, font_size=10, font_weight='bold')\n",
        "\n",
        "  # Draw edge labels (correlation values)\n",
        "  # Ensure we get the original correlation_coefficient for the label\n",
        "  edge_labels = {(u, v): data['correlation_coefficient'] for u, v, data in G.edges(data=True)}\n",
        "  # Format edge labels to 2 decimal places\n",
        "  formatted_edge_labels = {k: f'{v:.2f}' for k, v in edge_labels.items()}\n",
        "  nx.draw_networkx_edge_labels(G, pos, edge_labels=formatted_edge_labels, font_color='red')\n",
        "\n",
        "  plt.title(f'Network for {target_ticker} and Most Correlated Partners (Scaled by Correlation Strength)')\n",
        "  plt.axis('off') # Hide axes\n",
        "  plt.show()\n",
        "\n",
        "# Example usage (assuming most_correlated_stocks_long is your long format DataFrame)\n",
        "plot_ticker_network(most_correlated_stocks_long, 'GOOG') # Replace 'GOOG' with the ticker you want to visualize"
      ],
      "cell_type": "code",
      "metadata": {
        "id": "rd6ezveeUbc9",
        "outputId": "1290456a-095c-4cb8-84c5-b792c727ca3d",
        "colab": {
          "base_uri": "https://localhost:8080/",
          "height": 829
        }
      },
      "execution_count": 17,
      "outputs": [
        {
          "output_type": "display_data",
          "data": {
            "text/plain": [
              "<Figure size 1200x1000 with 1 Axes>"
            ],
            "image/png": "[encoded data removed]"
          },
          "metadata": {}
        }
      ]
    }
  ]
}