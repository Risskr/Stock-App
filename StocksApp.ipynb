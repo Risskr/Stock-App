{
  "nbformat": 4,
  "nbformat_minor": 0,
  "metadata": {
    "colab": {
      "provenance": [],
      "collapsed_sections": [
        "qPom_aYMeUSx",
        "Nn9reOwbE96J",
        "AuEQvbbnFGfT",
        "XlkrSQJ8aSKT",
        "WjGziKSbFiNp",
        "IZGBHr-YAJ5U"
      ],
      "toc_visible": true,
      "mount_file_id": "https://github.com/Risskr/Stock-App/blob/Simplified/StocksApp.ipynb",
      "authorship_tag": "ABX9TyOXfiX9GkQpeFAOVdVNIHPB",
      "include_colab_link": true
    },
    "kernelspec": {
      "name": "python3",
      "display_name": "Python 3"
    },
    "language_info": {
      "name": "python"
    },
    "widgets": {
      "application/vnd.jupyter.widget-state+json": {
        "28c5d8f36e5e42a78027f9464eb3aa90": {
          "model_module": "@jupyter-widgets/controls",
          "model_name": "HBoxModel",
          "model_module_version": "1.5.0",
          "state": {
            "_dom_classes": [],
            "_model_module": "@jupyter-widgets/controls",
            "_model_module_version": "1.5.0",
            "_model_name": "HBoxModel",
            "_view_count": null,
            "_view_module": "@jupyter-widgets/controls",
            "_view_module_version": "1.5.0",
            "_view_name": "HBoxView",
            "box_style": "",
            "children": [
              "IPY_MODEL_066a7a62f84e4d09aa6826b888a8cb51",
              "IPY_MODEL_5be73f7df8eb4426b8a8b6e944823439",
              "IPY_MODEL_b6bd004a2dd44190b59e56d867ddb10a"
            ],
            "layout": "IPY_MODEL_adcd41efb0e2432fbbeb06c79a1cf163"
          }
        },
        "066a7a62f84e4d09aa6826b888a8cb51": {
          "model_module": "@jupyter-widgets/controls",
          "model_name": "HTMLModel",
          "model_module_version": "1.5.0",
          "state": {
            "_dom_classes": [],
            "_model_module": "@jupyter-widgets/controls",
            "_model_module_version": "1.5.0",
            "_model_name": "HTMLModel",
            "_view_count": null,
            "_view_module": "@jupyter-widgets/controls",
            "_view_module_version": "1.5.0",
            "_view_name": "HTMLView",
            "description": "",
            "description_tooltip": null,
            "layout": "IPY_MODEL_ebfa5325a62c42da9134a6386744c77b",
            "placeholder": "​",
            "style": "IPY_MODEL_dea7f9bd1b094c5e84159cf0b81d919d",
            "value": "Calculating correlations: 100%"
          }
        },
        "5be73f7df8eb4426b8a8b6e944823439": {
          "model_module": "@jupyter-widgets/controls",
          "model_name": "FloatProgressModel",
          "model_module_version": "1.5.0",
          "state": {
            "_dom_classes": [],
            "_model_module": "@jupyter-widgets/controls",
            "_model_module_version": "1.5.0",
            "_model_name": "FloatProgressModel",
            "_view_count": null,
            "_view_module": "@jupyter-widgets/controls",
            "_view_module_version": "1.5.0",
            "_view_name": "ProgressView",
            "bar_style": "success",
            "description": "",
            "description_tooltip": null,
            "layout": "IPY_MODEL_e8e9e633d7c548a8bf1b06bb7475a750",
            "max": 510,
            "min": 0,
            "orientation": "horizontal",
            "style": "IPY_MODEL_fa0ca48efc8a4d11ad10cd56f5a93f39",
            "value": 510
          }
        },
        "b6bd004a2dd44190b59e56d867ddb10a": {
          "model_module": "@jupyter-widgets/controls",
          "model_name": "HTMLModel",
          "model_module_version": "1.5.0",
          "state": {
            "_dom_classes": [],
            "_model_module": "@jupyter-widgets/controls",
            "_model_module_version": "1.5.0",
            "_model_name": "HTMLModel",
            "_view_count": null,
            "_view_module": "@jupyter-widgets/controls",
            "_view_module_version": "1.5.0",
            "_view_name": "HTMLView",
            "description": "",
            "description_tooltip": null,
            "layout": "IPY_MODEL_2cc296938a9b48b086d34594bb1b9e38",
            "placeholder": "​",
            "style": "IPY_MODEL_33474cad06464f7688ad28a0e7f6c50e",
            "value": " 510/510 [1:22:32&lt;00:00,  9.70s/it]"
          }
        },
        "adcd41efb0e2432fbbeb06c79a1cf163": {
          "model_module": "@jupyter-widgets/base",
          "model_name": "LayoutModel",
          "model_module_version": "1.2.0",
          "state": {
            "_model_module": "@jupyter-widgets/base",
            "_model_module_version": "1.2.0",
            "_model_name": "LayoutModel",
            "_view_count": null,
            "_view_module": "@jupyter-widgets/base",
            "_view_module_version": "1.2.0",
            "_view_name": "LayoutView",
            "align_content": null,
            "align_items": null,
            "align_self": null,
            "border": null,
            "bottom": null,
            "display": null,
            "flex": null,
            "flex_flow": null,
            "grid_area": null,
            "grid_auto_columns": null,
            "grid_auto_flow": null,
            "grid_auto_rows": null,
            "grid_column": null,
            "grid_gap": null,
            "grid_row": null,
            "grid_template_areas": null,
            "grid_template_columns": null,
            "grid_template_rows": null,
            "height": null,
            "justify_content": null,
            "justify_items": null,
            "left": null,
            "margin": null,
            "max_height": null,
            "max_width": null,
            "min_height": null,
            "min_width": null,
            "object_fit": null,
            "object_position": null,
            "order": null,
            "overflow": null,
            "overflow_x": null,
            "overflow_y": null,
            "padding": null,
            "right": null,
            "top": null,
            "visibility": null,
            "width": null
          }
        },
        "ebfa5325a62c42da9134a6386744c77b": {
          "model_module": "@jupyter-widgets/base",
          "model_name": "LayoutModel",
          "model_module_version": "1.2.0",
          "state": {
            "_model_module": "@jupyter-widgets/base",
            "_model_module_version": "1.2.0",
            "_model_name": "LayoutModel",
            "_view_count": null,
            "_view_module": "@jupyter-widgets/base",
            "_view_module_version": "1.2.0",
            "_view_name": "LayoutView",
            "align_content": null,
            "align_items": null,
            "align_self": null,
            "border": null,
            "bottom": null,
            "display": null,
            "flex": null,
            "flex_flow": null,
            "grid_area": null,
            "grid_auto_columns": null,
            "grid_auto_flow": null,
            "grid_auto_rows": null,
            "grid_column": null,
            "grid_gap": null,
            "grid_row": null,
            "grid_template_areas": null,
            "grid_template_columns": null,
            "grid_template_rows": null,
            "height": null,
            "justify_content": null,
            "justify_items": null,
            "left": null,
            "margin": null,
            "max_height": null,
            "max_width": null,
            "min_height": null,
            "min_width": null,
            "object_fit": null,
            "object_position": null,
            "order": null,
            "overflow": null,
            "overflow_x": null,
            "overflow_y": null,
            "padding": null,
            "right": null,
            "top": null,
            "visibility": null,
            "width": null
          }
        },
        "dea7f9bd1b094c5e84159cf0b81d919d": {
          "model_module": "@jupyter-widgets/controls",
          "model_name": "DescriptionStyleModel",
          "model_module_version": "1.5.0",
          "state": {
            "_model_module": "@jupyter-widgets/controls",
            "_model_module_version": "1.5.0",
            "_model_name": "DescriptionStyleModel",
            "_view_count": null,
            "_view_module": "@jupyter-widgets/base",
            "_view_module_version": "1.2.0",
            "_view_name": "StyleView",
            "description_width": ""
          }
        },
        "e8e9e633d7c548a8bf1b06bb7475a750": {
          "model_module": "@jupyter-widgets/base",
          "model_name": "LayoutModel",
          "model_module_version": "1.2.0",
          "state": {
            "_model_module": "@jupyter-widgets/base",
            "_model_module_version": "1.2.0",
            "_model_name": "LayoutModel",
            "_view_count": null,
            "_view_module": "@jupyter-widgets/base",
            "_view_module_version": "1.2.0",
            "_view_name": "LayoutView",
            "align_content": null,
            "align_items": null,
            "align_self": null,
            "border": null,
            "bottom": null,
            "display": null,
            "flex": null,
            "flex_flow": null,
            "grid_area": null,
            "grid_auto_columns": null,
            "grid_auto_flow": null,
            "grid_auto_rows": null,
            "grid_column": null,
            "grid_gap": null,
            "grid_row": null,
            "grid_template_areas": null,
            "grid_template_columns": null,
            "grid_template_rows": null,
            "height": null,
            "justify_content": null,
            "justify_items": null,
            "left": null,
            "margin": null,
            "max_height": null,
            "max_width": null,
            "min_height": null,
            "min_width": null,
            "object_fit": null,
            "object_position": null,
            "order": null,
            "overflow": null,
            "overflow_x": null,
            "overflow_y": null,
            "padding": null,
            "right": null,
            "top": null,
            "visibility": null,
            "width": null
          }
        },
        "fa0ca48efc8a4d11ad10cd56f5a93f39": {
          "model_module": "@jupyter-widgets/controls",
          "model_name": "ProgressStyleModel",
          "model_module_version": "1.5.0",
          "state": {
            "_model_module": "@jupyter-widgets/controls",
            "_model_module_version": "1.5.0",
            "_model_name": "ProgressStyleModel",
            "_view_count": null,
            "_view_module": "@jupyter-widgets/base",
            "_view_module_version": "1.2.0",
            "_view_name": "StyleView",
            "bar_color": null,
            "description_width": ""
          }
        },
        "2cc296938a9b48b086d34594bb1b9e38": {
          "model_module": "@jupyter-widgets/base",
          "model_name": "LayoutModel",
          "model_module_version": "1.2.0",
          "state": {
            "_model_module": "@jupyter-widgets/base",
            "_model_module_version": "1.2.0",
            "_model_name": "LayoutModel",
            "_view_count": null,
            "_view_module": "@jupyter-widgets/base",
            "_view_module_version": "1.2.0",
            "_view_name": "LayoutView",
            "align_content": null,
            "align_items": null,
            "align_self": null,
            "border": null,
            "bottom": null,
            "display": null,
            "flex": null,
            "flex_flow": null,
            "grid_area": null,
            "grid_auto_columns": null,
            "grid_auto_flow": null,
            "grid_auto_rows": null,
            "grid_column": null,
            "grid_gap": null,
            "grid_row": null,
            "grid_template_areas": null,
            "grid_template_columns": null,
            "grid_template_rows": null,
            "height": null,
            "justify_content": null,
            "justify_items": null,
            "left": null,
            "margin": null,
            "max_height": null,
            "max_width": null,
            "min_height": null,
            "min_width": null,
            "object_fit": null,
            "object_position": null,
            "order": null,
            "overflow": null,
            "overflow_x": null,
            "overflow_y": null,
            "padding": null,
            "right": null,
            "top": null,
            "visibility": null,
            "width": null
          }
        },
        "33474cad06464f7688ad28a0e7f6c50e": {
          "model_module": "@jupyter-widgets/controls",
          "model_name": "DescriptionStyleModel",
          "model_module_version": "1.5.0",
          "state": {
            "_model_module": "@jupyter-widgets/controls",
            "_model_module_version": "1.5.0",
            "_model_name": "DescriptionStyleModel",
            "_view_count": null,
            "_view_module": "@jupyter-widgets/base",
            "_view_module_version": "1.2.0",
            "_view_name": "StyleView",
            "description_width": ""
          }
        }
      }
    }
  },
  "cells": [
    {
      "cell_type": "markdown",
      "metadata": {
        "id": "view-in-github",
        "colab_type": "text"
      },
      "source": [
        "<a href=\"https://colab.research.google.com/github/Risskr/Stock-App/blob/Simplified/StocksApp.ipynb\" target=\"_parent\"><img src=\"https://colab.research.google.com/assets/colab-badge.svg\" alt=\"Open In Colab\"/></a>"
      ]
    },
    {
      "cell_type": "markdown",
      "source": [
        "# **Set Up**\n"
      ],
      "metadata": {
        "id": "qPom_aYMeUSx"
      }
    },
    {
      "cell_type": "code",
      "execution_count": 2,
      "metadata": {
        "id": "NqHgaNKkh5iP",
        "collapsed": true,
        "colab": {
          "base_uri": "https://localhost:8080/"
        },
        "outputId": "e50c4ead-68fa-40fd-bf1c-97a1584000d8"
      },
      "outputs": [
        {
          "output_type": "stream",
          "name": "stdout",
          "text": [
            "Collecting tqdm==4.66.1\n",
            "  Downloading tqdm-4.66.1-py3-none-any.whl.metadata (57 kB)\n",
            "\u001b[?25l     \u001b[90m━━━━━━━━━━━━━━━━━━━━━━━━━━━━━━━━━━━━━━━━\u001b[0m \u001b[32m0.0/57.6 kB\u001b[0m \u001b[31m?\u001b[0m eta \u001b[36m-:--:--\u001b[0m\r\u001b[2K     \u001b[90m━━━━━━━━━━━━━━━━━━━━━━━━━━━━━━━━━━━━━━━━\u001b[0m \u001b[32m57.6/57.6 kB\u001b[0m \u001b[31m2.8 MB/s\u001b[0m eta \u001b[36m0:00:00\u001b[0m\n",
            "\u001b[?25hDownloading tqdm-4.66.1-py3-none-any.whl (78 kB)\n",
            "\u001b[?25l   \u001b[90m━━━━━━━━━━━━━━━━━━━━━━━━━━━━━━━━━━━━━━━━\u001b[0m \u001b[32m0.0/78.3 kB\u001b[0m \u001b[31m?\u001b[0m eta \u001b[36m-:--:--\u001b[0m\r\u001b[2K   \u001b[90m━━━━━━━━━━━━━━━━━━━━━━━━━━━━━━━━━━━━━━━━\u001b[0m \u001b[32m78.3/78.3 kB\u001b[0m \u001b[31m4.6 MB/s\u001b[0m eta \u001b[36m0:00:00\u001b[0m\n",
            "\u001b[?25hInstalling collected packages: tqdm\n",
            "  Attempting uninstall: tqdm\n",
            "    Found existing installation: tqdm 4.67.1\n",
            "    Uninstalling tqdm-4.67.1:\n",
            "      Successfully uninstalled tqdm-4.67.1\n",
            "\u001b[31mERROR: pip's dependency resolver does not currently take into account all the packages that are installed. This behaviour is the source of the following dependency conflicts.\n",
            "dataproc-spark-connect 0.7.3 requires tqdm>=4.67, but you have tqdm 4.66.1 which is incompatible.\u001b[0m\u001b[31m\n",
            "\u001b[0mSuccessfully installed tqdm-4.66.1\n"
          ]
        }
      ],
      "source": [
        "# #refesh python script\n",
        "# get_ipython().kernel.do_shutdown(restart=True)\n",
        "\n",
        "# #Check GPUs\n",
        "# !nvidia-smi\n",
        "\n",
        "#load cudf to use GPUs for analysis\n",
        "%load_ext cudf.pandas\n",
        "\n",
        "# import pandas\n",
        "import pandas as pd\n",
        "\n",
        "!pip install tqdm==4.66.1"
      ]
    },
    {
      "cell_type": "markdown",
      "source": [
        "# **Examples**"
      ],
      "metadata": {
        "id": "pB5S7lY7ODCY"
      }
    },
    {
      "cell_type": "markdown",
      "source": [
        "## Example how to locate in dataframes and in sereies"
      ],
      "metadata": {
        "id": "XlkrSQJ8aSKT"
      }
    },
    {
      "source": [
        "# GOOGDailyClose_Series = GOOGDailyClose['close']\n",
        "\n",
        "# x = GOOGDailyClose.loc[('GOOG', 2020, 1, 2), 'close']\n",
        "# print(x)\n",
        "\n",
        "# y = GOOGDailyClose_Series.loc[('GOOG', 2020, 1, 2)]\n",
        "# print(y)"
      ],
      "cell_type": "code",
      "metadata": {
        "id": "EAJJI4s9PtYV"
      },
      "execution_count": null,
      "outputs": []
    },
    {
      "cell_type": "markdown",
      "source": [
        "## Example graph"
      ],
      "metadata": {
        "id": "WjGziKSbFiNp"
      }
    },
    {
      "source": [
        "# # from matplotlib import pyplot as plt\n",
        "# # GOOGDailyClose['close'].plot(kind='line', figsize=(8, 4), title='close')\n",
        "# # plt.gca().spines[['top', 'right']].set_visible(False)\n",
        "\n",
        "# from matplotlib import pyplot as plt\n",
        "\n",
        "# # Create the plot for GOOGDailyClose\n",
        "# ax = GOOGDailyClose['close'].plot(kind='line', figsize=(8, 4), title='Closing Stock Prices')\n",
        "\n",
        "# # Add the plot for MSFTDailyClose to the same axes\n",
        "# MSFTDailyClose['close'].plot(kind='line', ax=ax)\n",
        "\n",
        "# # Hide the top and right spines\n",
        "# plt.gca().spines[['top', 'right']].set_visible(False)\n",
        "\n",
        "# # Add a legend to distinguish the lines\n",
        "# plt.legend(['GOOG', 'MSFT'])"
      ],
      "cell_type": "code",
      "execution_count": null,
      "outputs": [],
      "metadata": {
        "id": "OPyPXSyWqeD7"
      }
    },
    {
      "cell_type": "markdown",
      "source": [
        "## Example Call Function from another file\n",
        "Eample Call Correlation_Coefficient function from another My Drive file"
      ],
      "metadata": {
        "id": "IZGBHr-YAJ5U"
      }
    },
    {
      "cell_type": "code",
      "source": [
        "# %run \"/content/drive/My Drive/Colab Notebooks/Correlation_Coefficient.ipynb\"\n",
        "\n",
        "# Correlation_Coefficient(GOOGDailyClose, MSFTDaily Close)\n"
      ],
      "metadata": {
        "id": "7rhY5LPO7oHq"
      },
      "execution_count": null,
      "outputs": []
    },
    {
      "cell_type": "markdown",
      "source": [
        "## Example: Input Variable from MY Drive\n"
      ],
      "metadata": {
        "id": "iN_ryqgvnFM6"
      }
    },
    {
      "source": [
        "import pickle\n",
        "\n",
        "# Define the path where you saved the file\n",
        "load_path = \"/content/drive/MyDrive/Colab Notebooks/all_correlations.pkl\"\n",
        "\n",
        "try:\n",
        "    # Open the file in binary read mode ('rb')\n",
        "    with open(load_path, 'rb') as f:\n",
        "        # Use pickle.load() to deserialize and load the dictionary\n",
        "        loaded_correlations = pickle.load(f)\n",
        "\n",
        "    print(f\"Successfully loaded data from {load_path}\")\n",
        "\n",
        "    # You can now use the loaded_correlations dictionary\n",
        "    # print(loaded_correlations.keys()) # Example: print the keys to verify\n",
        "\n",
        "except FileNotFoundError:\n",
        "    print(f\"Error: The file was not found at {load_path}\")\n",
        "except Exception as e:\n",
        "    print(f\"An error occurred while loading the file: {e}\")"
      ],
      "cell_type": "code",
      "metadata": {
        "colab": {
          "base_uri": "https://localhost:8080/"
        },
        "id": "ziAUfSzymzUc",
        "outputId": "a10b7270-a9b9-4192-d8e9-aba1121e6946"
      },
      "execution_count": null,
      "outputs": [
        {
          "output_type": "stream",
          "name": "stdout",
          "text": [
            "Successfully loaded data from /content/drive/MyDrive/Colab Notebooks/all_correlations.pkl\n"
          ]
        }
      ]
    },
    {
      "cell_type": "markdown",
      "source": [
        "## Example: Export variable to My Drive"
      ],
      "metadata": {
        "id": "EYLv8nAunJdW"
      }
    },
    {
      "source": [
        "def export_variable(variable_name):\n",
        "  import pickle\n",
        "  import os\n",
        "\n",
        "  # Define the path to save the file in your Google Drive\n",
        "  # Make sure you have mounted your Google Drive\n",
        "  # For example, if your Drive is mounted at /content/drive,\n",
        "  # you can save it in a folder like 'Colab Notebooks'\n",
        "  now = datetime.datetime.now()\n",
        "  save_path = f\"/content/drive/MyDrive/Colab Notebooks/{variable_name}_{now}.pkl\"\n",
        "\n",
        "  # Ensure the directory exists if you are saving to a subfolder\n",
        "  # if not os.path.exists(os.path.dirname(save_path)):\n",
        "  #     os.makedirs(os.path.dirname(save_path))\n",
        "\n",
        "  try:\n",
        "      # Open the file in binary write mode ('wb')\n",
        "      with open(save_path, 'wb') as f:\n",
        "          # Use pickle.dump() to serialize and save the dictionary\n",
        "          pickle.dump(variable_name, f)\n",
        "\n",
        "      print(f\"Successfully saved all_correlations_with_info to {save_path}\")\n",
        "\n",
        "  except Exception as e:\n",
        "      print(f\"An error occurred while saving the file: {e}\")\n",
        "  return\n",
        "\n",
        "#use these two lines to save the variable\n",
        "# save_path = \"/content/drive/MyDrive/Colab Notebooks/lagged_correlations.pkl\"\n",
        "# export_variable(lagged_correlations, save_path)"
      ],
      "cell_type": "code",
      "metadata": {
        "id": "JfVjRhSjmq94"
      },
      "execution_count": 16,
      "outputs": []
    },
    {
      "cell_type": "markdown",
      "source": [
        "# **Get Stock Data**"
      ],
      "metadata": {
        "id": "xe0ltjSPehDV"
      }
    },
    {
      "cell_type": "markdown",
      "source": [
        "## Function: Download Stock Data to My Drive"
      ],
      "metadata": {
        "id": "Nn9reOwbE96J"
      }
    },
    {
      "cell_type": "code",
      "source": [
        "def DownloadStockData():\n",
        "  #Download the stock data\n",
        "  !if [ ! -f \"usa_stocks_30m.parquet\" ]; then curl https://storage.googleapis.com/rapidsai/colab-data/usa_stocks_30m.parquet -o usa_stocks_30m.parquet; else echo \"usa_stocks_30m.parquet found\"; fi\n",
        "\n",
        "  #move the stock data to my Drive\n",
        "  !mv usa_stocks_30m.parquet \"/content/drive/MyDrive/Colab Notebooks\""
      ],
      "metadata": {
        "id": "2ipu4MZZV3_y"
      },
      "execution_count": null,
      "outputs": []
    },
    {
      "cell_type": "markdown",
      "source": [
        "## Function: Import Stock Data from My Drive"
      ],
      "metadata": {
        "id": "AuEQvbbnFGfT"
      }
    },
    {
      "cell_type": "code",
      "source": [
        "def ImportStockData():\n",
        "  # Import the stock data from My Drive\n",
        "  # Define nasdaq_stocks as the stock data\n",
        "  # Specify the full path to the file in your Google Drive\n",
        "  nasdaq_stocks = pd.read_parquet(\"/content/drive/MyDrive/Colab Notebooks/usa_stocks_30m.parquet\")\n",
        "  return nasdaq_stocks\n"
      ],
      "metadata": {
        "id": "U-s77lCvT7rQ"
      },
      "execution_count": 4,
      "outputs": []
    },
    {
      "cell_type": "markdown",
      "source": [
        "## Function: Manipulate raw stock data for correlation funciton"
      ],
      "metadata": {
        "id": "VTUSJsRLFNcZ"
      }
    },
    {
      "cell_type": "code",
      "source": [
        "def ManipulateStockData(nasdaq_stocks):\n",
        "  import datetime\n",
        "  #add year, month, and day columns\n",
        "  #df[[\"year\", \"week\", \"day\"]] = df.datetime.dt.isocalendar()\n",
        "  nasdaq_stocks[\"year\"] = nasdaq_stocks.datetime.dt.year\n",
        "  nasdaq_stocks[\"month\"] = nasdaq_stocks.datetime.dt.month\n",
        "  nasdaq_stocks[\"day\"] = nasdaq_stocks.datetime.dt.day\n",
        "\n",
        "  # Filter the DataFrame based on the 'year' column\n",
        "  stock_TimeFiltered = nasdaq_stocks.loc[nasdaq_stocks['year'] >= 2023]\n",
        "\n",
        "  #stock_TimeFiltered.info()\n",
        "  #stock_TimeFiltered.head()\n",
        "\n",
        "  #aggregate data by ticker, month, day, closing cost.\n",
        "  stock_TimeFiltered_aggregated_close = stock_TimeFiltered.groupby([\"ticker\", \"year\", \"month\", \"day\"]).agg({\"close\": \"last\"})\n",
        "\n",
        "  #stock_TimeFiltered_aggregated_close.info()\n",
        "  #stock_TimeFiltered_aggregated_close.head()\n",
        "  return stock_TimeFiltered_aggregated_close"
      ],
      "metadata": {
        "id": "Gl82QadwUTHF"
      },
      "execution_count": 20,
      "outputs": []
    },
    {
      "cell_type": "markdown",
      "source": [
        "# **Correlation Coefficent funtions**"
      ],
      "metadata": {
        "id": "Yx4PfQYuNsi8"
      }
    },
    {
      "cell_type": "markdown",
      "source": [
        "## Correlation Coeficient on entire stock data set"
      ],
      "metadata": {
        "id": "FVS3pKjwNkQ8"
      }
    },
    {
      "cell_type": "markdown",
      "source": [
        "## Function: Correlation_Coefficient with Lag"
      ],
      "metadata": {
        "id": "_pVCvXWUGena"
      }
    },
    {
      "source": [
        "# Correlation_Coefficient Function with Lag\n",
        "# Using the Pearson correlation coefficient to determine correlation between two stocks with a lag\n",
        "\n",
        "def Correlation_Coefficient_Lag(StockA, StockB, k=0):\n",
        "  # Calculate the correlation between the 'close' columns with a lag\n",
        "  StockA_series = StockA['close'].droplevel('ticker')\n",
        "  StockB_series = StockB['close'].droplevel('ticker')\n",
        "\n",
        "  # Apply the lag to StockB\n",
        "  # Shift the StockB series down by k periods.\n",
        "  # Positive k shifts data points forward, filling early entries with NaN.\n",
        "  # Negative k shifts data points backward, filling late entries with NaN.\n",
        "  StockB_lagged = StockB_series.shift(k)\n",
        "\n",
        "  # Calculate the correlation between the original StockA and the lagged StockB\n",
        "  # The .corr() method automatically handles NaN values by excluding them\n",
        "  correlation = StockA_series.corr(StockB_lagged)\n",
        "\n",
        "  return correlation\n",
        "\n",
        "# Example usage with a lag of k=1 day\n",
        "correlation_value_lag1 = Correlation_Coefficient_Lag(GOOGDailyClose, MSFTDailyClose, k=1)\n",
        "print(f\"The Pearson correlation coefficient between GOOG and MSFT with a 1-day lag on MSFT is: {correlation_value_lag1}\")\n",
        "\n",
        "# Example usage with a lag of k=-1 day\n",
        "correlation_value_lag_neg1 = Correlation_Coefficient_Lag(GOOGDailyClose, MSFTDailyClose, k=-1)\n",
        "print(f\"The Pearson correlation coefficient between GOOG and MSFT with a -1-day lag on MSFT is: {correlation_value_lag_neg1}\")\n",
        "\n",
        "# Example usage with no lag (k=0)\n",
        "correlation_value_lag0 = Correlation_Coefficient_Lag(GOOGDailyClose, MSFTDailyClose, k=0)\n",
        "print(f\"The Pearson correlation coefficient between GOOG and MSFT with no lag is: {correlation_value_lag0}\")"
      ],
      "cell_type": "code",
      "metadata": {
        "id": "RaVWV0y2PKdy",
        "outputId": "76f46bdf-cec6-4507-9a6d-0056d4543b97",
        "colab": {
          "base_uri": "https://localhost:8080/"
        }
      },
      "execution_count": null,
      "outputs": [
        {
          "output_type": "stream",
          "name": "stdout",
          "text": [
            "The Pearson correlation coefficient between GOOG and MSFT with a 1-day lag on MSFT is: 0.8962704402662925\n",
            "The Pearson correlation coefficient between GOOG and MSFT with a -1-day lag on MSFT is: 0.8945621869369759\n",
            "The Pearson correlation coefficient between GOOG and MSFT with no lag is: 0.8976408107388537\n"
          ]
        }
      ]
    },
    {
      "cell_type": "markdown",
      "source": [
        "## Function: Sample GOOG and MSFT Correlation"
      ],
      "metadata": {
        "id": "uK3tEpu0nyDv"
      }
    },
    {
      "cell_type": "code",
      "source": [
        "Def GOOG&MSFT():\n",
        "  # Access the 'ticker' level from the index for filtering\n",
        "  GOOGDailyClose = stock_TimeFiltered_aggregated_close.loc[stock_TimeFiltered_aggregated_close.index.get_level_values('ticker') == \"GOOG\"]\n",
        "  MSFTDailyClose = stock_TimeFiltered_aggregated_close.loc[stock_TimeFiltered_aggregated_close.index.get_level_values('ticker') == \"MSFT\"]\n",
        "\n",
        "  GOOGDailyClose.info()\n",
        "  GOOGDailyClose.head()\n",
        "\n",
        "# Correlation_Coefficient Function\n",
        "# Using the Pearson correlation coefficient to determine correlation between two stocks\n",
        "\n",
        "def Correlation_Coefficient_testing(StockA, StockB):\n",
        "  # Calculate the correlation between the 'close' columns\n",
        "  StockA = StockA['close'].droplevel('ticker')\n",
        "  StockB = StockB['close'].droplevel('ticker')\n",
        "  correlation = StockA.corr(StockB)\n",
        "  return correlation\n",
        "\n",
        "  correlation_value = Correlation_Coefficient_testing(GOOGDailyClose, MSFTDailyClose)\n",
        "  print(f\"The Pearson correlation coefficient between GOOG and MSFT is: {correlation_value}\")"
      ],
      "metadata": {
        "id": "nHJt6DToYIU5",
        "colab": {
          "base_uri": "https://localhost:8080/"
        },
        "outputId": "23762ea1-30fc-4f2a-d801-549fa5573924",
        "collapsed": true
      },
      "execution_count": null,
      "outputs": [
        {
          "output_type": "stream",
          "name": "stdout",
          "text": [
            "<class 'cudf.core.dataframe.DataFrame'>\n",
            "MultiIndex: 1104 entries, ('GOOG', np.int16(2020), np.int16(1), np.int16(2)) to ('GOOG', np.int16(2024), np.int16(3), np.int16(13))\n",
            "Data columns (total 1 columns):\n",
            " #   Column  Non-Null Count  Dtype\n",
            "---  ------  --------------  -----\n",
            " 0   close   1104 non-null   float64\n",
            "dtypes: float64(1)\n",
            "memory usage: 62.0+ KB\n"
          ]
        }
      ]
    },
    {
      "cell_type": "markdown",
      "source": [
        "# **Run Fucntions**"
      ],
      "metadata": {
        "id": "aCEfO-bsKNCg"
      }
    },
    {
      "cell_type": "code",
      "source": [
        "nasdaq_stocks = ImportStockData()"
      ],
      "metadata": {
        "id": "BxwPwW4fKQa3"
      },
      "execution_count": 6,
      "outputs": []
    },
    {
      "cell_type": "code",
      "source": [
        "stock_TimeFiltered_aggregated_close = ManipulateStockData(nasdaq_stocks)"
      ],
      "metadata": {
        "id": "yiDPP4LjL8dV"
      },
      "execution_count": 7,
      "outputs": []
    },
    {
      "cell_type": "code",
      "source": [],
      "metadata": {
        "id": "3h82777HM302"
      },
      "execution_count": null,
      "outputs": []
    },
    {
      "source": [
        "import pandas as pd\n",
        "import numpy as np\n",
        "from tqdm.notebook import tqdm # Import tqdm\n",
        "\n",
        "def calculate_pairwise_lagged_correlation(df, end_date, lag_days=1):\n",
        "  \"\"\"\n",
        "  Calculates the pairwise Pearson correlation coefficient between all stocks\n",
        "  in a DataFrame for a specified 6-month period with a given lag.\n",
        "\n",
        "  Args:\n",
        "    df: DataFrame with a MultiIndex (ticker, year, month, day) and 'close' column.\n",
        "    end_date: The end date (inclusive) of the 6-month period as a string 'YYYY-MM-DD'.\n",
        "    lag_days: The number of days to lag the second stock's data.\n",
        "\n",
        "  Returns:\n",
        "    A pandas DataFrame containing the pairwise correlation coefficients.\n",
        "  \"\"\"\n",
        "  # Convert end_date to datetime object\n",
        "  end_datetime = pd.to_datetime(end_date)\n",
        "\n",
        "  # Calculate the start date for the 6-month period\n",
        "  start_datetime = end_datetime - pd.DateOffset(months=6)\n",
        "\n",
        "  # Filter the DataFrame for the specified date range\n",
        "  # We need to create a datetime column from the index to filter\n",
        "  df['datetime'] = pd.to_datetime(df.index.get_level_values('year').astype(str) + '-' +\n",
        "                                   df.index.get_level_values('month').astype(str) + '-' +\n",
        "                                   df.index.get_level_values('day').astype(str))\n",
        "  filtered_df = df[(df['datetime'] >= start_datetime) & (df['datetime'] <= end_datetime)]\n",
        "  filtered_df = filtered_df.drop(columns=['datetime']) # Drop the temporary datetime column\n",
        "\n",
        "\n",
        "  # Get unique tickers in the filtered data\n",
        "  tickers = filtered_df.index.get_level_values('ticker').unique()\n",
        "\n",
        "  # Create an empty DataFrame to store correlation results\n",
        "  correlation_matrix = pd.DataFrame(index=tickers, columns=tickers, dtype=float)\n",
        "\n",
        "  # Iterate through all pairs of tickers with a progress bar\n",
        "  for ticker_a in tqdm(tickers, desc=\"Calculating correlations\"): # Add tqdm here\n",
        "\n",
        "    # Extract data for each ticker\n",
        "    stock_a_data = filtered_df.loc[ticker_a, 'close']\n",
        "\n",
        "    for ticker_b in tickers:\n",
        "      if ticker_a != ticker_b:\n",
        "        # Extract data for each ticker\n",
        "        stock_b_data = filtered_df.loc[ticker_b, 'close']\n",
        "\n",
        "        # Align the dataframes based on the date index\n",
        "        aligned_data = pd.merge(stock_a_data.reset_index(), stock_b_data.reset_index(),\n",
        "                                on=['year', 'month', 'day'], how='inner', suffixes=('_A', '_B'))\n",
        "        aligned_data['datetime'] = pd.to_datetime(aligned_data['year'].astype(str) + '-' +\n",
        "                                                  aligned_data['month'].astype(str) + '-' +\n",
        "                                                  aligned_data['day'].astype(str))\n",
        "        aligned_data = aligned_data.set_index('datetime').sort_index()\n",
        "\n",
        "        # Apply the lag to stock_b_data\n",
        "        lagged_stock_b_data = aligned_data['close_B'].shift(lag_days)\n",
        "\n",
        "        # Calculate correlation, dropping NaN values\n",
        "        correlation = aligned_data['close_A'].corr(lagged_stock_b_data)\n",
        "\n",
        "        # Store the correlation in the matrix\n",
        "        correlation_matrix.loc[ticker_a, ticker_b] = correlation\n",
        "\n",
        "  return correlation_matrix\n",
        "\n",
        "# Example usage:\n",
        "# Assuming 'stock_TimeFiltered_aggregated_close' is your aggregated stock data\n",
        "# and you want to calculate correlations ending on '2023-12-31' with a 1-day lag.\n",
        "# Replace 'stock_TimeFiltered_aggregated_close' with the actual name of your DataFrame.\n",
        "end_date = '2023-12-31'\n",
        "lagged_correlations = calculate_pairwise_lagged_correlation(stock_TimeFiltered_aggregated_close, end_date, lag_days=1)\n",
        "\n",
        "# Display the correlation matrix\n",
        "print(lagged_correlations)\n",
        "\n",
        "# To access the correlation between specific stocks, e.g., GOOG and MSFT:\n",
        "# print(lagged_correlations.loc['GOOG', 'MSFT'])"
      ],
      "cell_type": "code",
      "metadata": {
        "colab": {
          "base_uri": "https://localhost:8080/",
          "height": 823,
          "referenced_widgets": [
            "28c5d8f36e5e42a78027f9464eb3aa90",
            "066a7a62f84e4d09aa6826b888a8cb51",
            "5be73f7df8eb4426b8a8b6e944823439",
            "b6bd004a2dd44190b59e56d867ddb10a",
            "adcd41efb0e2432fbbeb06c79a1cf163",
            "ebfa5325a62c42da9134a6386744c77b",
            "dea7f9bd1b094c5e84159cf0b81d919d",
            "e8e9e633d7c548a8bf1b06bb7475a750",
            "fa0ca48efc8a4d11ad10cd56f5a93f39",
            "2cc296938a9b48b086d34594bb1b9e38",
            "33474cad06464f7688ad28a0e7f6c50e"
          ]
        },
        "id": "FtqUV9nKkT6q",
        "outputId": "e99ab763-d726-4ed1-978b-c86bb2768613"
      },
      "execution_count": 9,
      "outputs": [
        {
          "output_type": "display_data",
          "data": {
            "text/plain": [
              "Calculating correlations:   0%|          | 0/510 [00:00<?, ?it/s]"
            ],
            "application/vnd.jupyter.widget-view+json": {
              "version_major": 2,
              "version_minor": 0,
              "model_id": "28c5d8f36e5e42a78027f9464eb3aa90"
            }
          },
          "metadata": {}
        },
        {
          "output_type": "stream",
          "name": "stdout",
          "text": [
            "ticker         A       AAL      AAPL      ABBV      ABNB       ABT      ACGL  \\\n",
            "ticker                                                                         \n",
            "A            NaN  0.436758  0.757819  0.288543  0.607573  0.809978 -0.538292   \n",
            "AAL     0.452222       NaN  0.478573 -0.163185  0.585997  0.786411 -0.640565   \n",
            "AAPL    0.710954  0.442058       NaN -0.216552  0.473942  0.682018 -0.230604   \n",
            "ABBV    0.372804 -0.105593 -0.131037       NaN  0.415187  0.146274 -0.395282   \n",
            "ABNB    0.613458  0.621719  0.559474  0.281844       NaN  0.750441 -0.493802   \n",
            "...          ...       ...       ...       ...       ...       ...       ...   \n",
            "ZBH     0.449951  0.945884  0.531357 -0.209183  0.660999  0.817524 -0.528803   \n",
            "ZBRA    0.572816  0.920507  0.518142 -0.055643  0.642396  0.837299 -0.700754   \n",
            "ZION    0.780400  0.044044  0.514209  0.594755  0.558233  0.479574 -0.327802   \n",
            "ZS      0.541326 -0.330534  0.561646  0.178275  0.128086  0.128305  0.036123   \n",
            "ZTS     0.824646  0.318486  0.510273  0.584212  0.660583  0.661668 -0.583140   \n",
            "\n",
            "ticker       ACN      ADBE       ADI  ...       XEL       XOM      XRAY  \\\n",
            "ticker                                ...                                 \n",
            "A       0.796953  0.404781  0.842058  ...  0.525649 -0.557427  0.368325   \n",
            "AAL     0.064239 -0.441841  0.713112  ...  0.562134 -0.206805  0.887095   \n",
            "AAPL    0.722727  0.491655  0.789603  ...  0.727525 -0.763722  0.204642   \n",
            "ABBV    0.282598  0.037046  0.148404  ... -0.256691  0.266532  0.133924   \n",
            "ABNB    0.467323  0.008323  0.768117  ...  0.424643 -0.092379  0.644370   \n",
            "...          ...       ...       ...  ...       ...       ...       ...   \n",
            "ZBH     0.119896 -0.367323  0.737802  ...  0.649194 -0.185530  0.854761   \n",
            "ZBRA    0.231099 -0.326421  0.756352  ...  0.509344 -0.200172  0.861977   \n",
            "ZION    0.786153  0.541263  0.578926  ...  0.253879 -0.369356  0.056470   \n",
            "ZS      0.817863  0.865142  0.330314  ...  0.254589 -0.587716 -0.465532   \n",
            "ZTS     0.711687  0.320367  0.679928  ...  0.146989 -0.193130  0.370224   \n",
            "\n",
            "ticker       XYL       YUM       ZBH      ZBRA      ZION        ZS       ZTS  \n",
            "ticker                                                                        \n",
            "A       0.821145  0.552922  0.430932  0.531129  0.765019  0.574620  0.781411  \n",
            "AAL     0.736120  0.867612  0.947020  0.914810 -0.000202 -0.315867  0.291796  \n",
            "AAPL    0.864476  0.534349  0.489626  0.497019  0.448326  0.562604  0.445853  \n",
            "ABBV   -0.056698 -0.096285 -0.128934  0.000503  0.670791  0.217431  0.647417  \n",
            "ABNB    0.631221  0.612729  0.693432  0.698900  0.504298  0.144670  0.644826  \n",
            "...          ...       ...       ...       ...       ...       ...       ...  \n",
            "ZBH     0.758571  0.873124       NaN  0.916242  0.020495 -0.241171  0.271675  \n",
            "ZBRA    0.758674  0.829350  0.899608       NaN  0.158654 -0.162252  0.455071  \n",
            "ZION    0.492946  0.199440  0.049884  0.183086       NaN  0.692515  0.787188  \n",
            "ZS      0.313360 -0.185782 -0.268070 -0.178795  0.664936       NaN  0.391214  \n",
            "ZTS     0.560675  0.433609  0.290705  0.459847  0.814839  0.405219       NaN  \n",
            "\n",
            "[510 rows x 510 columns]\n"
          ]
        }
      ]
    },
    {
      "cell_type": "code",
      "source": [
        "#save_path = \"/content/drive/MyDrive/Colab Notebooks/lagged_correlations.pkl\"\n",
        "export_variable(lagged_correlations)"
      ],
      "metadata": {
        "id": "UpLj2h4b-WDs",
        "outputId": "a157abe3-d4a9-44c3-ad33-a0b4c311a55c",
        "colab": {
          "base_uri": "https://localhost:8080/",
          "height": 289
        }
      },
      "execution_count": 21,
      "outputs": [
        {
          "output_type": "error",
          "ename": "NameError",
          "evalue": "name 'datetime' is not defined",
          "traceback": [
            "\u001b[0;31m---------------------------------------------------------------------------\u001b[0m",
            "\u001b[0;31mNameError\u001b[0m                                 Traceback (most recent call last)",
            "\u001b[0;32m<ipython-input-21-cb03e845d6f3>\u001b[0m in \u001b[0;36m<cell line: 0>\u001b[0;34m()\u001b[0m\n\u001b[1;32m      1\u001b[0m \u001b[0;31m#save_path = \"/content/drive/MyDrive/Colab Notebooks/lagged_correlations.pkl\"\u001b[0m\u001b[0;34m\u001b[0m\u001b[0;34m\u001b[0m\u001b[0m\n\u001b[0;32m----> 2\u001b[0;31m \u001b[0mexport_variable\u001b[0m\u001b[0;34m(\u001b[0m\u001b[0mlagged_correlations\u001b[0m\u001b[0;34m)\u001b[0m\u001b[0;34m\u001b[0m\u001b[0;34m\u001b[0m\u001b[0m\n\u001b[0m",
            "\u001b[0;32m<ipython-input-16-d65fcf89e9b9>\u001b[0m in \u001b[0;36mexport_variable\u001b[0;34m(variable_name)\u001b[0m\n\u001b[1;32m      7\u001b[0m   \u001b[0;31m# For example, if your Drive is mounted at /content/drive,\u001b[0m\u001b[0;34m\u001b[0m\u001b[0;34m\u001b[0m\u001b[0m\n\u001b[1;32m      8\u001b[0m   \u001b[0;31m# you can save it in a folder like 'Colab Notebooks'\u001b[0m\u001b[0;34m\u001b[0m\u001b[0;34m\u001b[0m\u001b[0m\n\u001b[0;32m----> 9\u001b[0;31m   \u001b[0mnow\u001b[0m \u001b[0;34m=\u001b[0m \u001b[0mdatetime\u001b[0m\u001b[0;34m.\u001b[0m\u001b[0mdatetime\u001b[0m\u001b[0;34m.\u001b[0m\u001b[0mnow\u001b[0m\u001b[0;34m(\u001b[0m\u001b[0;34m)\u001b[0m\u001b[0;34m\u001b[0m\u001b[0;34m\u001b[0m\u001b[0m\n\u001b[0m\u001b[1;32m     10\u001b[0m   \u001b[0msave_path\u001b[0m \u001b[0;34m=\u001b[0m \u001b[0;34mf\"/content/drive/MyDrive/Colab Notebooks/{variable_name}_{now}.pkl\"\u001b[0m\u001b[0;34m\u001b[0m\u001b[0;34m\u001b[0m\u001b[0m\n\u001b[1;32m     11\u001b[0m \u001b[0;34m\u001b[0m\u001b[0m\n",
            "\u001b[0;31mNameError\u001b[0m: name 'datetime' is not defined"
          ]
        }
      ]
    }
  ]
}